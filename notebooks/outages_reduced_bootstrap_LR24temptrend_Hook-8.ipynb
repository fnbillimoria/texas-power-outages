{
 "cells": [
  {
   "cell_type": "code",
   "execution_count": 1,
   "metadata": {},
   "outputs": [],
   "source": [
    "import matplotlib.pyplot as plt\n",
    "import pandas as pd\n",
    "import xarray as xr\n",
    "import numpy as np\n",
    "import glob\n",
    "\n",
    "import sys\n",
    "sys.path.append('./../scripts')\n",
    "\n",
    "from refuelplot import *\n",
    "setup()\n",
    "sns.set_style(\"white\")"
   ]
  },
  {
   "cell_type": "code",
   "execution_count": 2,
   "metadata": {},
   "outputs": [],
   "source": [
    "tx_path = '/data/projects/texas-power-outages/data/interim/'\n",
    "fig_path = '/data/projects/texas-power-outages/data/figures/'\n",
    "out_path = '/data/projects/texas-power-outages/data/output/'\n",
    "in_path = '/data/projects/texas-power-outages/data/input/'\n",
    "fig_path_raw = fig_path+'raw_data/'"
   ]
  },
  {
   "cell_type": "markdown",
   "metadata": {},
   "source": [
    "# load data"
   ]
  },
  {
   "cell_type": "markdown",
   "metadata": {
    "heading_collapsed": true
   },
   "source": [
    "### load outages"
   ]
  },
  {
   "cell_type": "code",
   "execution_count": 3,
   "metadata": {
    "hidden": true
   },
   "outputs": [],
   "source": [
    "reduction= pd.read_csv(tx_path+'outages/outages_reduction.csv',index_col=0,parse_dates=True).tz_convert('Etc/GMT+6')"
   ]
  },
  {
   "cell_type": "markdown",
   "metadata": {
    "heading_collapsed": true
   },
   "source": [
    "### load temperature"
   ]
  },
  {
   "cell_type": "code",
   "execution_count": 4,
   "metadata": {
    "hidden": true
   },
   "outputs": [],
   "source": [
    "# load power plant temperatures\n",
    "temppp = pd.read_csv(tx_path + 'temperatures/temppowerplant.csv',index_col=0,parse_dates=True).tz_localize('UTC').tz_convert('Etc/GMT+6')"
   ]
  },
  {
   "cell_type": "code",
   "execution_count": 5,
   "metadata": {
    "hidden": true
   },
   "outputs": [],
   "source": [
    "# load gas field temperatures\n",
    "tempgf = pd.read_csv(tx_path + 'temperatures/temp_gasfields.csv',index_col=0,parse_dates=True).t2m.tz_convert('Etc/GMT+6')"
   ]
  },
  {
   "cell_type": "code",
   "execution_count": 6,
   "metadata": {
    "hidden": true
   },
   "outputs": [],
   "source": [
    "# get temperature at windparks\n",
    "tempwp = pd.read_csv(tx_path + 'temperatures/tempWP.csv',parse_dates=True,index_col=0).tz_convert('Etc/GMT+6').t2m\n",
    "tempwpNS = pd.read_csv(tx_path + 'temperatures/tempWP_NSsplit.csv',parse_dates=True,index_col=0).tz_convert('Etc/GMT+6')\n",
    "# get wind power\n",
    "wp = pd.read_csv(tx_path + 'windpower/wpTXh.csv',parse_dates=True,index_col=0).tz_localize('UTC').tz_convert('Etc/GMT+6').wp"
   ]
  },
  {
   "cell_type": "markdown",
   "metadata": {
    "heading_collapsed": true
   },
   "source": [
    "### load load"
   ]
  },
  {
   "cell_type": "code",
   "execution_count": 7,
   "metadata": {
    "hidden": true
   },
   "outputs": [],
   "source": [
    "# get load\n",
    "load = pd.read_csv(tx_path + 'load/load_est_LR24temptrend_Hook-8.csv',index_col=0,parse_dates=True).tz_convert('Etc/GMT+6')\n",
    "load70 = pd.read_csv(tx_path + 'load/load_est70_LR24_temptrend_Hook-8.csv',index_col=0,parse_dates=True).tz_convert('Etc/GMT+6')"
   ]
  },
  {
   "cell_type": "markdown",
   "metadata": {
    "heading_collapsed": true
   },
   "source": [
    "### load outage model results"
   ]
  },
  {
   "cell_type": "code",
   "execution_count": 8,
   "metadata": {
    "hidden": true
   },
   "outputs": [],
   "source": [
    "out_model_param = pd.read_csv(out_path + 'outage_function_parameters/outage_function_parameters.cvs',index_col=0)"
   ]
  },
  {
   "cell_type": "markdown",
   "metadata": {
    "heading_collapsed": true
   },
   "source": [
    "### threshold function"
   ]
  },
  {
   "cell_type": "code",
   "execution_count": 9,
   "metadata": {
    "code_folding": [],
    "hidden": true
   },
   "outputs": [],
   "source": [
    "def get_thresh(temp,temp_fail,temp_recover,cap_loss,k):\n",
    "    available_cap = pd.Series(0,index=temp.index)\n",
    "    below_thresh = temp[temp<temp_fail].resample('M').count().replace(0,np.nan).dropna()\n",
    "    ym = below_thresh.index.strftime(\"%Y-%m\")\n",
    "    h_recovery = int(-cap_loss/k)\n",
    "    for i in range(len(below_thresh)):\n",
    "        t1 = pd.to_datetime(ym[i])\n",
    "        while(t1.strftime(\"%Y-%m\")==ym[i]):\n",
    "            t0 = (temp[t1:]<temp_fail).idxmax()\n",
    "            t1 = (temp[(t0+np.timedelta64(10,'h')):]>temp_recover).idxmax()\n",
    "            const_time = int((t1-t0)/np.timedelta64(1,'h'))\n",
    "            t2 = t1 + np.timedelta64(h_recovery-1,'h')\n",
    "            available_cap[t0:t2] = cap_loss + k*np.concatenate([np.array([0]*const_time),np.arange(h_recovery)])[:len(available_cap[t0:t2])]\n",
    "            if sum(temp[t1:]<temp_fail)==0:\n",
    "                break\n",
    "    return(available_cap)"
   ]
  },
  {
   "cell_type": "markdown",
   "metadata": {
    "heading_collapsed": true
   },
   "source": [
    "### marginal winterization costs\n",
    "Million $ /GW"
   ]
  },
  {
   "cell_type": "code",
   "execution_count": 10,
   "metadata": {
    "hidden": true
   },
   "outputs": [],
   "source": [
    "winterization_coal = 223.53\n",
    "winterization_gas = 453.43\n",
    "winterization_wind = 65"
   ]
  },
  {
   "cell_type": "markdown",
   "metadata": {},
   "source": [
    "# scenarios reduced_outage"
   ]
  },
  {
   "cell_type": "code",
   "execution_count": 11,
   "metadata": {},
   "outputs": [
    {
     "name": "stdout",
     "output_type": "stream",
     "text": [
      "read bootstrap\n"
     ]
    }
   ],
   "source": [
    "if tx_path + 'bootstrap_year.csv' in glob.glob(tx_path + '*.csv'):\n",
    "    print('read bootstrap')\n",
    "    bootstrap_year = np.genfromtxt(tx_path + 'bootstrap_year.csv', delimiter=',')\n",
    "else:\n",
    "    print('newly generate bootstrap')\n",
    "    bootstrap_year = np.random.choice(np.arange(1950,2022),(10000,30))\n",
    "    np.savetxt(tx_path + \"bootstrap_year.csv\", bootstrap_year, delimiter=\",\")"
   ]
  },
  {
   "cell_type": "code",
   "execution_count": null,
   "metadata": {},
   "outputs": [],
   "source": []
  },
  {
   "cell_type": "code",
   "execution_count": 12,
   "metadata": {},
   "outputs": [],
   "source": [
    "MAXOUT_GAS = round(out_model_param.outage_capacity.gas,1)\n",
    "MAXOUT_WINDN = round(out_model_param.outage_capacity.wind_north,1)\n",
    "MAXOUT_WINDS = round(out_model_param.outage_capacity.wind_south,1)\n",
    "MAXOUT_COAL = round(out_model_param.outage_capacity.coal,1)\n",
    "THRESH_GAS_TEMP = round(out_model_param.outage_temperature_threshold.gas,1)\n",
    "THRESH_COAL_TEMP = round(out_model_param.outage_temperature_threshold.coal,1)\n",
    "THRESH_WINDN_TEMP = round(out_model_param.outage_temperature_threshold.wind_north,1)\n",
    "THRESH_WINDS_TEMP = round(out_model_param.outage_temperature_threshold.wind_south,1)\n",
    "\n",
    "REC_GAS_TEMP = round(out_model_param.recovery_temperature_threshold.gas,1)\n",
    "REC_COAL_TEMP = round(out_model_param.recovery_temperature_threshold.coal,1)\n",
    "REC_WINDN_TEMP = round(out_model_param.recovery_temperature_threshold.wind_north,1)\n",
    "REC_WINDS_TEMP = round(out_model_param.recovery_temperature_threshold.wind_south,1)\n",
    "\n",
    "K_GAS = -out_model_param.outage_capacity.gas/out_model_param.recovery_length.gas\n",
    "K_COAL = -out_model_param.outage_capacity.coal/out_model_param.recovery_length.coal\n",
    "K_WINDN = -out_model_param.outage_capacity.wind_north/out_model_param.recovery_length.wind_north\n",
    "K_WINDS = -out_model_param.outage_capacity.wind_south/out_model_param.recovery_length.wind_south"
   ]
  },
  {
   "cell_type": "markdown",
   "metadata": {},
   "source": [
    "# run scenarios for VOLL"
   ]
  },
  {
   "cell_type": "code",
   "execution_count": 26,
   "metadata": {
    "code_folding": [
     0
    ]
   },
   "outputs": [],
   "source": [
    "def run_redout_scenario_technology(sampleyears,technology):\n",
    "    # define discount rate\n",
    "    discount = 1.05 ** (-np.arange(1,31))\n",
    "    #discount = 1.1 ** (-np.arange(1,31))\n",
    "    \n",
    "    # reduce max out gradually by one GW\n",
    "    if technology == 'gas':\n",
    "        maxout_coal = MAXOUT_COAL - np.zeros(int(round(MAXOUT_GAS))+1)\n",
    "        maxout_windN = MAXOUT_WINDN - np.zeros(int(round(MAXOUT_GAS))+1)\n",
    "        maxout_windS = MAXOUT_WINDS - np.zeros(int(round(MAXOUT_GAS))+1)\n",
    "        maxout_gas = MAXOUT_GAS - np.arange(int(round(MAXOUT_GAS))+1)\n",
    "        maxout_gas[maxout_gas<0] = 0\n",
    "    if technology == 'coal':\n",
    "        maxout_gas = MAXOUT_GAS - np.zeros(int(round(MAXOUT_COAL))+1)\n",
    "        maxout_windN = MAXOUT_WINDN - np.zeros(int(round(MAXOUT_COAL))+1)\n",
    "        maxout_windS = MAXOUT_WINDS - np.zeros(int(round(MAXOUT_COAL))+1)\n",
    "        maxout_coal = MAXOUT_COAL - np.arange(int(round(MAXOUT_COAL))+1)\n",
    "        maxout_coal[maxout_coal<0] = 0\n",
    "    if technology == 'wind_north':\n",
    "        maxout_coal = MAXOUT_COAL - np.zeros(int(round(MAXOUT_WINDN))+1)\n",
    "        maxout_gas = MAXOUT_GAS - np.zeros(int(round(MAXOUT_WINDN))+1)\n",
    "        maxout_windS = MAXOUT_WINDS - np.zeros(int(round(MAXOUT_WINDN))+1)\n",
    "        maxout_windN = MAXOUT_WINDN - np.arange(int(round(MAXOUT_WINDN))+1)\n",
    "        maxout_windN[maxout_windN<0] = 0\n",
    "    if technology == 'wind_south':\n",
    "        maxout_coal = MAXOUT_COAL - np.zeros(int(round(MAXOUT_WINDS))+1)\n",
    "        maxout_gas = MAXOUT_GAS - np.zeros(int(round(MAXOUT_WINDS))+1)\n",
    "        maxout_windN = MAXOUT_WINDN - np.zeros(int(round(MAXOUT_WINDS))+1)\n",
    "        maxout_windS = MAXOUT_WINDS - np.arange(int(round(MAXOUT_WINDS))+1)\n",
    "        maxout_windS[maxout_windS<0] = 0\n",
    "    \n",
    "    \n",
    "\n",
    "    reduced_GW = -1\n",
    "    results_matrix = np.zeros((len(maxout_gas),10000))\n",
    "    for (mogas,mowindN,mowindS,mocoal) in zip(maxout_gas,maxout_windN,maxout_windS,maxout_coal):\n",
    "        reduced_GW = reduced_GW + 1\n",
    "        print('reduced GW',reduced_GW)\n",
    "        # GET THRESHOLDS\n",
    "        #thresh_gas = get_thresh(tempgf,THRESH_GAS_TEMP,REC_GAS_TEMP,mogas,K_GAS)\n",
    "        thresh_gas = get_thresh(temppp.NG,THRESH_GAS_TEMP,REC_GAS_TEMP,mogas,K_GAS)\n",
    "        thresh_coal = get_thresh(temppp.COAL,THRESH_COAL_TEMP,REC_COAL_TEMP,mocoal,K_COAL)\n",
    "        thresh_windN = get_thresh(tempwpNS.t2mNorth,THRESH_WINDN_TEMP,REC_WINDN_TEMP,mowindN,K_WINDN)\n",
    "        thresh_windS = get_thresh(tempwpNS.t2mSouth,THRESH_WINDS_TEMP,REC_WINDS_TEMP,mowindS,K_WINDS)\n",
    "        thresh_gas_coal = 63.5 - (thresh_gas + thresh_coal)\n",
    "        wp_remain = wp/10**6*(33-thresh_windN-thresh_windS)/33\n",
    "        thresh_total = thresh_gas_coal + wp_remain\n",
    "        \n",
    "        loss = (load70.load_est/1000 - thresh_total)[(load70.load_est/1000 - thresh_total)>0]/1000\n",
    "        events = loss.resample('Y').count().replace(0,np.nan).dropna()\n",
    "        yearly_loss = loss.resample('Y').sum()\n",
    "        yearly_loss.index = yearly_loss.index.year\n",
    "        yearly_loss = pd.Series(pd.Index(range(1950,2022)).map(yearly_loss).fillna(0),index=range(1950,2022))\n",
    "        \n",
    "        # bootstrap\n",
    "        bootstrap = 0\n",
    "        for years in sampleyears:\n",
    "            bootstrap = bootstrap + 1\n",
    "            deficiti = 9000*(yearly_loss[years] * discount).sum()\n",
    "            results_matrix[reduced_GW,bootstrap -1]= deficiti\n",
    "    return(results_matrix)"
   ]
  },
  {
   "cell_type": "markdown",
   "metadata": {
    "heading_collapsed": true
   },
   "source": [
    "### run"
   ]
  },
  {
   "cell_type": "code",
   "execution_count": 27,
   "metadata": {
    "hidden": true
   },
   "outputs": [
    {
     "name": "stdout",
     "output_type": "stream",
     "text": [
      "reduced GW 0\n",
      "reduced GW 1\n",
      "reduced GW 2\n",
      "reduced GW 3\n",
      "reduced GW 4\n",
      "reduced GW 5\n",
      "reduced GW 6\n",
      "reduced GW 7\n",
      "reduced GW 8\n",
      "reduced GW 9\n",
      "reduced GW 10\n",
      "reduced GW 11\n",
      "reduced GW 12\n",
      "reduced GW 13\n",
      "reduced GW 0\n",
      "reduced GW 1\n",
      "reduced GW 2\n",
      "reduced GW 3\n",
      "reduced GW 4\n",
      "reduced GW 5\n",
      "reduced GW 0\n",
      "reduced GW 1\n",
      "reduced GW 2\n",
      "reduced GW 3\n",
      "reduced GW 4\n",
      "reduced GW 5\n",
      "reduced GW 6\n",
      "reduced GW 7\n",
      "reduced GW 8\n",
      "reduced GW 9\n",
      "reduced GW 10\n",
      "reduced GW 11\n",
      "reduced GW 12\n",
      "reduced GW 13\n",
      "reduced GW 14\n",
      "reduced GW 15\n",
      "reduced GW 16\n",
      "reduced GW 17\n",
      "reduced GW 18\n",
      "reduced GW 0\n",
      "reduced GW 1\n",
      "reduced GW 2\n",
      "reduced GW 3\n"
     ]
    }
   ],
   "source": [
    "scen_bootstrap_windN = run_redout_scenario_technology(bootstrap_year,'wind_north')\n",
    "scen_bootstrap_windS = run_redout_scenario_technology(bootstrap_year,'wind_south')\n",
    "scen_bootstrap_gas = run_redout_scenario_technology(bootstrap_year,'gas')\n",
    "scen_bootstrap_coal = run_redout_scenario_technology(bootstrap_year,'coal')"
   ]
  },
  {
   "cell_type": "markdown",
   "metadata": {
    "heading_collapsed": true
   },
   "source": [
    "### calculate marginal revenue"
   ]
  },
  {
   "cell_type": "code",
   "execution_count": 28,
   "metadata": {
    "hidden": true
   },
   "outputs": [],
   "source": [
    "marginal_revenue_windN = (scen_bootstrap_windN[:-1,] - scen_bootstrap_windN[1:,])/1000\n",
    "marginal_revenue_windN_long = pd.DataFrame(marginal_revenue_windN.transpose()).melt()\n",
    "marginal_revenue_windN_long.variable = marginal_revenue_windN_long.variable + 1\n",
    "\n",
    "marginal_revenue_windS = (scen_bootstrap_windS[:-1,] - scen_bootstrap_windS[1:,])/1000\n",
    "marginal_revenue_windS_long = pd.DataFrame(marginal_revenue_windS.transpose()).melt()\n",
    "marginal_revenue_windS_long.variable = marginal_revenue_windS_long.variable + 1\n",
    "\n",
    "marginal_revenue_gas = (scen_bootstrap_gas[:-1,] - scen_bootstrap_gas[1:,])/1000\n",
    "marginal_revenue_gas_long = pd.DataFrame(marginal_revenue_gas.transpose()).melt()\n",
    "marginal_revenue_gas_long.variable = marginal_revenue_gas_long.variable + 1\n",
    "\n",
    "marginal_revenue_coal = (scen_bootstrap_coal[:-1,] - scen_bootstrap_coal[1:,])/1000\n",
    "marginal_revenue_coal_long = pd.DataFrame(marginal_revenue_coal.transpose()).melt()\n",
    "marginal_revenue_coal_long.variable = marginal_revenue_coal_long.variable + 1"
   ]
  },
  {
   "cell_type": "code",
   "execution_count": 29,
   "metadata": {
    "hidden": true
   },
   "outputs": [],
   "source": [
    "pd.DataFrame(marginal_revenue_gas,index=pd.Series(range(marginal_revenue_gas.shape[0]),name='reduced_GW'),\n",
    "             columns = 'scen'+pd.Series(range(10000)).astype(str)).to_csv(out_path + 'marginal_revenue_gas_LR24temptrend_Hook-8.csv')\n",
    "pd.DataFrame(marginal_revenue_coal,index=pd.Series(range(marginal_revenue_coal.shape[0]),name='reduced_GW'),\n",
    "             columns = 'scen'+pd.Series(range(10000)).astype(str)).to_csv(out_path + 'marginal_revenue_coal_LR24temptrend_Hook-8.csv')\n",
    "pd.DataFrame(marginal_revenue_windN,index=pd.Series(range(marginal_revenue_windN.shape[0]),name='reduced_GW'),\n",
    "             columns = 'scen'+pd.Series(range(10000)).astype(str)).to_csv(out_path + 'marginal_revenue_wind_north_LR24temptrend_Hook-8.csv')\n",
    "pd.DataFrame(marginal_revenue_windS,index=pd.Series(range(marginal_revenue_windS.shape[0]),name='reduced_GW'),\n",
    "             columns = 'scen'+pd.Series(range(10000)).astype(str)).to_csv(out_path + 'marginal_revenue_wind_south_LR24temptrend_Hook-8.csv')"
   ]
  },
  {
   "cell_type": "code",
   "execution_count": 63,
   "metadata": {
    "hidden": true
   },
   "outputs": [
    {
     "data": {
      "text/plain": [
       "array([1.06406497, 1.02207262, 0.97438619, 0.92984537, 0.87635247,\n",
       "       0.81734164, 0.76668493, 0.73119899, 0.6861627 , 0.63109051,\n",
       "       0.59362967, 0.57328041, 0.5496113 , 0.51546926, 0.48041384,\n",
       "       0.44987138, 0.42075945, 0.3900944 ])"
      ]
     },
     "execution_count": 63,
     "metadata": {},
     "output_type": "execute_result"
    }
   ],
   "source": [
    "marginal_revenue_gas.mean(axis=1)"
   ]
  },
  {
   "cell_type": "markdown",
   "metadata": {
    "heading_collapsed": true
   },
   "source": [
    "### bootstrap load"
   ]
  },
  {
   "cell_type": "code",
   "execution_count": null,
   "metadata": {
    "code_folding": [],
    "hidden": true
   },
   "outputs": [],
   "source": [
    "def run_load_scenario(sampleyears):    \n",
    "    \n",
    "    results_matrix = np.zeros(10000)\n",
    "    # GET THRESHOLDS\n",
    "    thresh_gas = get_thresh(temppp.NG,THRESH_GAS_TEMP,REC_GAS_TEMP,MAXOUT_GAS,K_GAS)\n",
    "    thresh_coal = get_thresh(temppp.COAL,THRESH_COAL_TEMP,REC_COAL_TEMP,MAXOUT_COAL,K_COAL)\n",
    "    thresh_windN = get_thresh(tempwpNS.t2mNorth,THRESH_WINDN_TEMP,REC_WINDN_TEMP,MAXOUT_WINDN,K_WINDN)\n",
    "    thresh_windS = get_thresh(tempwpNS.t2mSouth,THRESH_WINDS_TEMP,REC_WINDS_TEMP,MAXOUT_WINDS,K_WINDS)\n",
    "    thresh_gas_coal = 62 - (thresh_gas + thresh_coal)\n",
    "    wp_remain = wp/10**6*(33-thresh_windN-thresh_windS)/33\n",
    "    thresh_total = thresh_gas_coal + wp_remain\n",
    "\n",
    "    loss = (load70.load_est/1000 - thresh_total)[(load70.load_est/1000 - thresh_total)>0]/1000\n",
    "    yearly_loss = loss.resample('Y').sum()\n",
    "    yearly_loss.index = yearly_loss.index.year\n",
    "        \n",
    "    # bootstrap\n",
    "    bootstrap = 0\n",
    "    for years in sampleyears:\n",
    "        bootstrap = bootstrap + 1\n",
    "        results_matrix[bootstrap -1]= yearly_loss[years].sum()\n",
    "            \n",
    "    return(results_matrix)"
   ]
  },
  {
   "cell_type": "code",
   "execution_count": null,
   "metadata": {
    "hidden": true
   },
   "outputs": [],
   "source": [
    "loads_boostrap_30y = run_load_scenario(bootstrap_year)"
   ]
  },
  {
   "cell_type": "code",
   "execution_count": null,
   "metadata": {
    "hidden": true
   },
   "outputs": [],
   "source": [
    "loads_boostrap_30y.mean()"
   ]
  },
  {
   "cell_type": "code",
   "execution_count": null,
   "metadata": {
    "hidden": true
   },
   "outputs": [],
   "source": [
    "import scipy.stats as st\n",
    "st.t.interval(0.68, len(loads_boostrap_30y)-1, loc=np.mean(loads_boostrap_30y), scale=st.sem(loads_boostrap_30y))"
   ]
  },
  {
   "cell_type": "code",
   "execution_count": null,
   "metadata": {
    "hidden": true
   },
   "outputs": [],
   "source": [
    "loads_boostrap_30y.mean() + [loads_boostrap_30y.std(),-loads_boostrap_30y.std()]"
   ]
  },
  {
   "cell_type": "markdown",
   "metadata": {},
   "source": [
    "## plot"
   ]
  },
  {
   "cell_type": "code",
   "execution_count": 34,
   "metadata": {},
   "outputs": [],
   "source": [
    "marginal_revenue_gas = pd.read_csv(out_path + 'marginal_revenue_gas_LR24temptrend_Hook-8.csv').iloc[:,1:].values\n",
    "marginal_revenue_coal = pd.read_csv(out_path + 'marginal_revenue_coal_LR24temptrend_Hook-8.csv').iloc[:,1:].values\n",
    "marginal_revenue_windN = pd.read_csv(out_path + 'marginal_revenue_wind_north_LR24temptrend_Hook-8.csv').iloc[:,1:].values\n",
    "marginal_revenue_windS = pd.read_csv(out_path + 'marginal_revenue_wind_south_LR24temptrend_Hook-8.csv').iloc[:,1:].values\n",
    "\n",
    "marginal_revenue_windN_long = pd.DataFrame(marginal_revenue_windN.transpose()).melt()\n",
    "marginal_revenue_windN_long.variable = marginal_revenue_windN_long.variable + 1\n",
    "marginal_revenue_windS_long = pd.DataFrame(marginal_revenue_windS.transpose()).melt()\n",
    "marginal_revenue_windS_long.variable = marginal_revenue_windS_long.variable + 1\n",
    "marginal_revenue_gas_long = pd.DataFrame(marginal_revenue_gas.transpose()).melt()\n",
    "marginal_revenue_gas_long.variable = marginal_revenue_gas_long.variable + 1\n",
    "marginal_revenue_coal_long = pd.DataFrame(marginal_revenue_coal.transpose()).melt()\n",
    "marginal_revenue_coal_long.variable = marginal_revenue_coal_long.variable + 1"
   ]
  },
  {
   "cell_type": "code",
   "execution_count": 47,
   "metadata": {},
   "outputs": [],
   "source": [
    "pd.DataFrame(marginal_revenue_gas,\n",
    "             index=pd.Series(range(1,marginal_revenue_gas.shape[0]+1),name='reduced_GW'),\n",
    "             columns='sample' + pd.Series(range(1,10001)).astype(str)).to_csv(fig_path_raw + 'marg_rev_gas.csv')\n",
    "pd.DataFrame(marginal_revenue_coal,\n",
    "             index=pd.Series(range(1,marginal_revenue_coal.shape[0]+1),name='reduced_GW'),\n",
    "             columns='sample' + pd.Series(range(1,10001)).astype(str)).to_csv(fig_path_raw + 'marg_rev_coal.csv')\n",
    "pd.DataFrame(marginal_revenue_windN,\n",
    "             index=pd.Series(range(1,marginal_revenue_windN.shape[0]+1),name='reduced_GW'),\n",
    "             columns='sample' + pd.Series(range(1,10001)).astype(str)).to_csv(fig_path_raw + 'marg_rev_windN.csv')\n",
    "pd.DataFrame(marginal_revenue_windS,\n",
    "             index=pd.Series(range(1,marginal_revenue_windS.shape[0]+1),name='reduced_GW'),\n",
    "             columns='sample' + pd.Series(range(1,10001)).astype(str)).to_csv(fig_path_raw + 'marg_rev_windS.csv')"
   ]
  },
  {
   "cell_type": "code",
   "execution_count": 30,
   "metadata": {},
   "outputs": [
    {
     "data": {
      "text/plain": [
       "15"
      ]
     },
     "execution_count": 30,
     "metadata": {},
     "output_type": "execute_result"
    }
   ],
   "source": [
    "np.where(marginal_revenue_gas.mean(axis=1)<winterization_gas/1000)[0][0]"
   ]
  },
  {
   "cell_type": "code",
   "execution_count": 79,
   "metadata": {},
   "outputs": [
    {
     "data": {
      "text/plain": [
       "0.3626"
      ]
     },
     "execution_count": 79,
     "metadata": {},
     "output_type": "execute_result"
    }
   ],
   "source": [
    "(marginal_revenue_gas[9,:]<winterization_gas/1000).mean()"
   ]
  },
  {
   "cell_type": "code",
   "execution_count": 31,
   "metadata": {},
   "outputs": [
    {
     "data": {
      "text/plain": [
       "453.43"
      ]
     },
     "execution_count": 31,
     "metadata": {},
     "output_type": "execute_result"
    }
   ],
   "source": [
    "winterization_gas"
   ]
  },
  {
   "cell_type": "code",
   "execution_count": 66,
   "metadata": {},
   "outputs": [
    {
     "data": {
      "text/plain": [
       "670.59"
      ]
     },
     "execution_count": 66,
     "metadata": {},
     "output_type": "execute_result"
    }
   ],
   "source": [
    "winterization_coal*3"
   ]
  },
  {
   "cell_type": "code",
   "execution_count": 64,
   "metadata": {},
   "outputs": [
    {
     "data": {
      "text/plain": [
       "array([0.9424082 , 0.87201983, 0.76033512])"
      ]
     },
     "execution_count": 64,
     "metadata": {},
     "output_type": "execute_result"
    }
   ],
   "source": [
    "marginal_revenue_coal.mean(axis=1)"
   ]
  },
  {
   "cell_type": "code",
   "execution_count": 32,
   "metadata": {},
   "outputs": [
    {
     "name": "stdout",
     "output_type": "stream",
     "text": [
      "share gas 0.359\n",
      "share coal 0.108\n",
      "share windN 0.147\n",
      "share windS 0.034\n",
      "share total 0.204\n"
     ]
    }
   ],
   "source": [
    "print('share gas',round((marginal_revenue_gas<winterization_gas/1000).sum()/np.prod(marginal_revenue_gas.shape),3))\n",
    "print('share coal',round((marginal_revenue_coal<winterization_coal/1000).sum()/np.prod(marginal_revenue_coal.shape),3))\n",
    "print('share windN',round((marginal_revenue_windN<winterization_wind/1000).sum()/np.prod(marginal_revenue_windS.shape),3))\n",
    "print('share windS',round((marginal_revenue_windS<winterization_wind/1000).sum()/np.prod(marginal_revenue_windN.shape),3))\n",
    "\n",
    "print('share total',round(((marginal_revenue_gas<winterization_gas/1000).sum()+\n",
    "                           (marginal_revenue_coal<winterization_coal/1000).sum()+\n",
    "                           (marginal_revenue_windN<winterization_wind/1000).sum()+\n",
    "                           (marginal_revenue_windS<winterization_wind/1000).sum())/(np.prod(marginal_revenue_gas.shape)+\n",
    "                                                                                    np.prod(marginal_revenue_coal.shape)+\n",
    "                                                                                    np.prod(marginal_revenue_windN.shape)+\n",
    "                                                                                    np.prod(marginal_revenue_windS.shape)),3))"
   ]
  },
  {
   "cell_type": "code",
   "execution_count": 33,
   "metadata": {},
   "outputs": [
    {
     "name": "stdout",
     "output_type": "stream",
     "text": [
      "share total 0.012\n"
     ]
    }
   ],
   "source": [
    "print('share total',round(((marginal_revenue_gas==0).sum()+\n",
    "                           (marginal_revenue_coal==0).sum()+\n",
    "                           (marginal_revenue_windN==0).sum()+\n",
    "                           (marginal_revenue_windS==0).sum())/(np.prod(marginal_revenue_gas.shape)+\n",
    "                                                               np.prod(marginal_revenue_coal.shape)+\n",
    "                                                               np.prod(marginal_revenue_windN.shape)+\n",
    "                                                               np.prod(marginal_revenue_windS.shape)),3))"
   ]
  },
  {
   "cell_type": "code",
   "execution_count": 17,
   "metadata": {},
   "outputs": [
    {
     "data": {
      "image/png": "[encoded data removed]",
      "text/plain": [
       "<Figure size 504x504 with 4 Axes>"
      ]
     },
     "metadata": {},
     "output_type": "display_data"
    }
   ],
   "source": [
    "sns.set_style(\"white\")\n",
    "\n",
    "(fig,((ax1,ax2),(ax3,ax4))) = plt.subplots(2,2,figsize=(7,7))\n",
    "\n",
    "# WIND NORTH\n",
    "m = marginal_revenue_windN_long.groupby('variable').mean().value\n",
    "q95l = marginal_revenue_windN_long.groupby('variable').quantile(q=0.025).value\n",
    "q95u = marginal_revenue_windN_long.groupby('variable').quantile(q=0.975).value\n",
    "q68l = marginal_revenue_windN_long.groupby('variable').quantile(q=0.16).value\n",
    "q68u = marginal_revenue_windN_long.groupby('variable').quantile(q=0.84).value\n",
    "\n",
    "ax1.plot(m,color=COLORS[4],label='30 years average\\n avoided loss')\n",
    "ax1.fill_between(x = range(1,len(m)+1),y1=q68l.values,y2=q68u.values,color=COLORS[0],alpha=0.3,label='CI=68%')\n",
    "ax1.fill_between(x = range(1,len(m)+1),y1=q95l.values,y2=q95u.values,color=COLORS[0],alpha=0.15,label='CI=95%')\n",
    "ax1.hlines(winterization_wind/1000, 1, len(m),color=COLORS[5], label='Winterization cost')\n",
    "ax1.set_xlabel('Winterized capacity GW')\n",
    "ax1.set_ylabel('bn$/GW')\n",
    "ax1.set_title('(a) Wind North')\n",
    "ax1.set_xlim((1,len(m)))\n",
    "ax1.set_ylim((0,0.9))\n",
    "ax1.set_xticks(np.arange(2,len(m),2))\n",
    "\n",
    "# WIND SOUTH\n",
    "m = marginal_revenue_windS_long.groupby('variable').mean().value\n",
    "q95l = marginal_revenue_windS_long.groupby('variable').quantile(q=0.025).value\n",
    "q95u = marginal_revenue_windS_long.groupby('variable').quantile(q=0.975).value\n",
    "q68l = marginal_revenue_windS_long.groupby('variable').quantile(q=0.16).value\n",
    "q68u = marginal_revenue_windS_long.groupby('variable').quantile(q=0.84).value\n",
    "\n",
    "ax2.plot(m,color=COLORS[4],label='30 years average\\n avoided loss')\n",
    "ax2.fill_between(x = range(1,len(m)+1),y1=q68l.values,y2=q68u.values,color=COLORS[0],alpha=0.3,label='CI=68%')\n",
    "ax2.fill_between(x = range(1,len(m)+1),y1=q95l.values,y2=q95u.values,color=COLORS[0],alpha=0.15,label='CI=95%')\n",
    "ax2.hlines(winterization_wind/1000, 1, len(m),color=COLORS[5], label='interization cost')\n",
    "ax2.set_xlabel('Winterized capacity GW')\n",
    "ax2.set_title('(b) Wind South')\n",
    "ax2.set_xlim((1,len(m)))\n",
    "ax2.set_ylim((0,0.9))\n",
    "ax2.set_xticks(np.arange(2,len(m),2))\n",
    "\n",
    "# GAS\n",
    "m = marginal_revenue_gas_long.groupby('variable').mean().value\n",
    "q95l = marginal_revenue_gas_long.groupby('variable').quantile(q=0.025).value\n",
    "q95u = marginal_revenue_gas_long.groupby('variable').quantile(q=0.975).value\n",
    "q68l = marginal_revenue_gas_long.groupby('variable').quantile(q=0.16).value\n",
    "q68u = marginal_revenue_gas_long.groupby('variable').quantile(q=0.84).value\n",
    "\n",
    "#ax3.plot(m,color=COLORS[4],label='Expected marginal\\navoided loss over\\na 30 year period')\n",
    "ax3.plot(m,color=COLORS[4],label='Expected revenue over a 30 year period')\n",
    "ax3.fill_between(x = range(1,len(m)+1),y1=q68l.values,y2=q68u.values,color=COLORS[0],alpha=0.3,label='CI=68%')\n",
    "ax3.fill_between(x = range(1,len(m)+1),y1=q95l.values,y2=q95u.values,color=COLORS[0],alpha=0.15,label='CI=95%')\n",
    "#ax3.hlines(winterization_gas/1000, 1, len(m),color=COLORS[5], label='Marginal\\nwinterization\\ncost')\n",
    "ax3.hlines(winterization_gas/1000, 1, len(m),color=COLORS[5], label='Winterization cost')\n",
    "ax3.set_xlabel('Winterized capacity GW')\n",
    "ax3.set_ylabel('bn$/GW')\n",
    "ax3.set_title('(c) Gas')\n",
    "ax3.set_xlim((1,len(m)))\n",
    "ax3.set_ylim((0,2.5))\n",
    "\n",
    "# COAL\n",
    "m = marginal_revenue_coal_long.groupby('variable').mean().value\n",
    "q95l = marginal_revenue_coal_long.groupby('variable').quantile(q=0.025).value\n",
    "q95u = marginal_revenue_coal_long.groupby('variable').quantile(q=0.975).value\n",
    "q68l = marginal_revenue_coal_long.groupby('variable').quantile(q=0.16).value\n",
    "q68u = marginal_revenue_coal_long.groupby('variable').quantile(q=0.84).value\n",
    "\n",
    "ax4.plot(m,color=COLORS[4],label='30 years average\\n avoided loss')\n",
    "ax4.fill_between(x = range(1,len(m)+1),y1=q68l.values,y2=q68u.values,color=COLORS[0],alpha=0.3,label='CI=68%')\n",
    "ax4.fill_between(x = range(1,len(m)+1),y1=q95l.values,y2=q95u.values,color=COLORS[0],alpha=0.15,label='CI=95%')\n",
    "ax4.hlines(winterization_coal/1000, 1, len(m),color=COLORS[5], label='Winterization \\ncost')\n",
    "ax4.set_xlabel('Winterized capacity GW')\n",
    "ax4.set_title('(d) Coal')\n",
    "#lgd = ax4.legend(bbox_to_anchor=(1.05,1),loc='upper left')\n",
    "ax4.set_xlim((1,len(m)))\n",
    "ax4.set_ylim((0,2.5))\n",
    "\n",
    "lgd = ax3.legend(loc='upper center', bbox_to_anchor=(1.1, -0.2),\n",
    "          fancybox=False, shadow=False, ncol=1)\n",
    "\n",
    "fig.subplots_adjust(hspace=0.4)\n",
    "\n",
    "\n",
    "plt.savefig(fig_path + 'marginal_revenue_winterize_LR24temptrend_Hook-8.pdf',dpi=300,\n",
    "           bbox_extra_artists=(lgd,), bbox_inches='tight')"
   ]
  },
  {
   "cell_type": "markdown",
   "metadata": {},
   "source": [
    "# run scenarios of competition profit"
   ]
  },
  {
   "cell_type": "code",
   "execution_count": 18,
   "metadata": {},
   "outputs": [],
   "source": [
    "from scipy.interpolate import interp1d"
   ]
  },
  {
   "cell_type": "code",
   "execution_count": 19,
   "metadata": {},
   "outputs": [],
   "source": [
    "in_path = '/data/projects/texas-power-outages/data/input/'"
   ]
  },
  {
   "cell_type": "code",
   "execution_count": 20,
   "metadata": {},
   "outputs": [],
   "source": [
    "# read scarcity price function\n",
    "ordc = pd.read_excel(in_path + \"orcd/ordc.xls\").drop([13,14]) # remove two values because of unsteadyness\n",
    "caps = np.concatenate([[-50000],ordc.capacity_available.values,[90000]])\n",
    "prices = np.concatenate([[9000],ordc[' ordc_price_adder'].values,[0]])\n",
    "prices[prices<0] = 0"
   ]
  },
  {
   "cell_type": "code",
   "execution_count": 30,
   "metadata": {},
   "outputs": [
    {
     "data": {
      "image/png": "[encoded data removed]",
      "text/plain": [
       "<Figure size 432x288 with 1 Axes>"
      ]
     },
     "metadata": {},
     "output_type": "display_data"
    }
   ],
   "source": [
    "plt.plot(caps,prices)\n",
    "plt.xlim((0,5000))\n",
    "plt.xlabel('Available capacity MW')\n",
    "plt.ylabel('Scarcity price $/MWh')\n",
    "plt.savefig(fig_path + 'scarcity_prices.pdf',dpi=300,bbox_inches='tight')"
   ]
  },
  {
   "cell_type": "code",
   "execution_count": 32,
   "metadata": {},
   "outputs": [],
   "source": [
    "pd.DataFrame({'capacity':caps,\n",
    "              'price':prices}).to_csv(fig_path_raw + 'FigA11.csv')"
   ]
  },
  {
   "cell_type": "code",
   "execution_count": null,
   "metadata": {},
   "outputs": [],
   "source": []
  },
  {
   "cell_type": "markdown",
   "metadata": {},
   "source": [
    "#### fit price function"
   ]
  },
  {
   "cell_type": "code",
   "execution_count": 21,
   "metadata": {},
   "outputs": [
    {
     "data": {
      "text/plain": [
       "<matplotlib.legend.Legend at 0x7f4626342cd0>"
      ]
     },
     "execution_count": 21,
     "metadata": {},
     "output_type": "execute_result"
    },
    {
     "data": {
      "image/png": "[encoded data removed]",
      "text/plain": [
       "<Figure size 432x288 with 1 Axes>"
      ]
     },
     "metadata": {},
     "output_type": "display_data"
    }
   ],
   "source": [
    "plt.plot(caps,prices)\n",
    "\n",
    "price_func = interp1d(caps,prices, kind='cubic')\n",
    "x = [1500,1900,2000,2100,3500,4000]\n",
    "plt.scatter(x,price_func(x),label='cubic')\n",
    "\n",
    "price_func = interp1d(caps,prices, kind='nearest')\n",
    "x = [1000,1500,1900,2000,2100,3500,4000,5000]\n",
    "plt.scatter(x,price_func(x),label='nearest')\n",
    "\n",
    "plt.legend()"
   ]
  },
  {
   "cell_type": "code",
   "execution_count": 29,
   "metadata": {},
   "outputs": [
    {
     "data": {
      "text/plain": [
       "Text(0, 0.5, 'ERCOT price $/MW')"
      ]
     },
     "execution_count": 29,
     "metadata": {},
     "output_type": "execute_result"
    },
    {
     "data": {
      "image/png": "[encoded data removed]",
      "text/plain": [
       "<Figure size 432x288 with 1 Axes>"
      ]
     },
     "metadata": {},
     "output_type": "display_data"
    }
   ],
   "source": [
    "plt.plot(caps,prices)\n",
    "plt.xlim((0,5000))\n",
    "plt.xlabel('capacity buffer MW')\n",
    "plt.ylabel('ERCOT price $/MW')"
   ]
  },
  {
   "cell_type": "markdown",
   "metadata": {},
   "source": [
    "### prepare thresholds"
   ]
  },
  {
   "cell_type": "code",
   "execution_count": 14,
   "metadata": {},
   "outputs": [],
   "source": [
    "thresh_gas = get_thresh(temppp.NG,THRESH_GAS_TEMP,REC_GAS_TEMP,MAXOUT_GAS,K_GAS)\n",
    "thresh_coal = get_thresh(temppp.COAL,THRESH_COAL_TEMP,REC_COAL_TEMP,MAXOUT_COAL,K_COAL)\n",
    "thresh_windN = get_thresh(tempwpNS.t2mNorth,THRESH_WINDN_TEMP,REC_WINDN_TEMP,MAXOUT_WINDN,K_WINDN)\n",
    "thresh_windS = get_thresh(tempwpNS.t2mSouth,THRESH_WINDS_TEMP,REC_WINDS_TEMP,MAXOUT_WINDS,K_WINDS)"
   ]
  },
  {
   "cell_type": "markdown",
   "metadata": {
    "heading_collapsed": true
   },
   "source": [
    "### run scenarios"
   ]
  },
  {
   "cell_type": "code",
   "execution_count": null,
   "metadata": {
    "code_folding": [
     0
    ],
    "hidden": true
   },
   "outputs": [],
   "source": [
    "def run_redout_scenarioCOMP_technology(thresh_gas,thresh_coal,thresh_windN,thresh_windS,sampleyears,technology,price_func):\n",
    "    # define discount rate\n",
    "    discount = 1.05 ** (-np.arange(1,31))\n",
    "    #discount = 1.1 ** (-np.arange(1,31))\n",
    "\n",
    "    maxout = int(round(out_model_param.outage_capacity[technology]))\n",
    "    results_matrix = np.zeros((maxout,10000))\n",
    "    for reduced_GW in range(1,maxout+1):\n",
    "        print('reduced GW',reduced_GW)\n",
    "        # GET THRESHOLDS\n",
    "        if technology == 'gas':\n",
    "            thresh_gasR = thresh_gas - reduced_GW\n",
    "            thresh_gasR[thresh_gasR<0] = 0\n",
    "            thresh_gasNR = thresh_gas - (reduced_GW - 1)\n",
    "            thresh_gasNR[thresh_gasNR<0] = 0\n",
    "            thresh_gas_coalR = 62 - (thresh_gasR + thresh_coal)\n",
    "            thresh_gas_coalNR = 62 - (thresh_gasNR + thresh_coal)\n",
    "            wp_remainR = wp/10**6*(33-thresh_windN-thresh_windS)/33\n",
    "            wp_remainNR = wp/10**6*(33-thresh_windN-thresh_windS)/33\n",
    "        elif technology == 'coal':\n",
    "            thresh_coalR = thresh_coal - reduced_GW\n",
    "            thresh_coalR[thresh_coalR<0] = 0\n",
    "            thresh_coalNR = thresh_coal - (reduced_GW - 1)\n",
    "            thresh_coalNR[thresh_coalNR<0] = 0\n",
    "            thresh_gas_coalR = 62 - (thresh_gas + thresh_coalR)\n",
    "            thresh_gas_coalNR = 62 - (thresh_gas + thresh_coalNR)\n",
    "            wp_remainR = wp/10**6*(33-thresh_windN-thresh_windS)/33\n",
    "            wp_remainNR = wp/10**6*(33-thresh_windN-thresh_windS)/33\n",
    "        elif technology == 'wind_north':\n",
    "            thresh_windNR = thresh_windN - reduced_GW\n",
    "            thresh_windNR[thresh_windNR<0] = 0\n",
    "            thresh_windNNR = thresh_windN - (reduced_GW - 1)\n",
    "            thresh_windNNR[thresh_windNNR<0] = 0\n",
    "            thresh_gas_coalR = 62 - (thresh_gas + thresh_coal)\n",
    "            thresh_gas_coalNR = 62 - (thresh_gas + thresh_coal)\n",
    "            wp_remainR = wp/10**6*(33-thresh_windNR-thresh_windS)/33\n",
    "            wp_remainNR = wp/10**6*(33-thresh_windNNR-thresh_windS)/33\n",
    "        else:\n",
    "            thresh_windSR = thresh_windS - reduced_GW\n",
    "            thresh_windSR[thresh_windSR<0] = 0\n",
    "            thresh_windSNR = thresh_windS - (reduced_GW - 1)\n",
    "            thresh_windSNR[thresh_windSNR<0] = 0\n",
    "            thresh_gas_coalR = 62 - (thresh_gas + thresh_coal)\n",
    "            thresh_gas_coalNR = 62 - (thresh_gas + thresh_coal)\n",
    "            wp_remainR = wp/10**6*(33-thresh_windN-thresh_windSR)/33\n",
    "            wp_remainNR = wp/10**6*(33-thresh_windN-thresh_windSNR)/33\n",
    "        # calculate total thresholds\n",
    "        thresh_totalR = thresh_gas_coalR + wp_remainR\n",
    "        thresh_totalNR = thresh_gas_coalNR + wp_remainNR\n",
    "        # calculate deficits\n",
    "        deficitR = load70.load_est/1000-thresh_totalR\n",
    "        deficitNR = load70.load_est/1000-thresh_totalNR\n",
    "        # calculate capacity for which revenue is gained\n",
    "        \n",
    "        #cap_rev = deficitNR[(deficitNR>0)]#\n",
    "        #cap_rev[cap_rev>1] = 1\n",
    "        deficitRcap = deficitR.copy(deep=True)\n",
    "        deficitRcap[deficitR<0]=0\n",
    "        deficitNRcap = deficitNR.copy(deep=True)\n",
    "        deficitNRcap[deficitNR<0]=0\n",
    "        cap_rev = deficitNRcap - deficitRcap\n",
    "        \n",
    "        # calculate price\n",
    "        price = pd.Series(price_func(-deficitR*1000),index=deficitR.index)\n",
    "        # calculate revenue for winterized GW\n",
    "        rev = (cap_rev*1000*price)\n",
    "        \n",
    "        events = rev.resample('Y').count().replace(0,np.nan).dropna()\n",
    "        yearly_rev = rev.resample('Y').sum()\n",
    "        yearly_rev.index = yearly_rev.index.year\n",
    "        yearly_rev = pd.Series(pd.Index(range(1950,2022)).map(yearly_rev).fillna(0),index=range(1950,2022))\n",
    "        yearly_cap_rev = cap_rev.resample('Y').sum()\n",
    "        yearly_cap_rev.index = yearly_cap_rev.index.year\n",
    "        yearly_cap_rev = pd.Series(pd.Index(range(1950,2022)).map(yearly_cap_rev).fillna(0),index=range(1950,2022))\n",
    "        \n",
    "        # bootstrap\n",
    "        bootstrap = 0\n",
    "        for years in sampleyears:\n",
    "            bootstrap = bootstrap + 1\n",
    "            rev_per_GW = (yearly_rev[years] * discount).sum() / 10**9\n",
    "            #if rev_per_GW > 0:\n",
    "            #    rev_per_GW = (yearly_rev[years] * discount).sum()/yearly_cap_rev[years].sum()\n",
    "            results_matrix[reduced_GW-1,bootstrap -1]= rev_per_GW\n",
    "    return(results_matrix)"
   ]
  },
  {
   "cell_type": "code",
   "execution_count": null,
   "metadata": {
    "code_folding": [],
    "hidden": true
   },
   "outputs": [],
   "source": [
    "scen_bootstrapCOMP_coal = run_redout_scenarioCOMP_technology(thresh_gas,thresh_coal,thresh_windN,thresh_windS,\n",
    "                                                             bootstrap_year,'coal',price_func)\n",
    "scen_bootstrapCOMP_windN = run_redout_scenarioCOMP_technology(thresh_gas,thresh_coal,thresh_windN,thresh_windS,\n",
    "                                                              bootstrap_year,'wind_north',price_func)\n",
    "scen_bootstrapCOMP_windS = run_redout_scenarioCOMP_technology(thresh_gas,thresh_coal,thresh_windN,thresh_windS,\n",
    "                                                              bootstrap_year,'wind_south',price_func)\n",
    "scen_bootstrapCOMP_gas = run_redout_scenarioCOMP_technology(thresh_gas,thresh_coal,thresh_windN,thresh_windS,\n",
    "                                                            bootstrap_year,'gas',price_func)"
   ]
  },
  {
   "cell_type": "code",
   "execution_count": null,
   "metadata": {
    "hidden": true
   },
   "outputs": [],
   "source": [
    "plt.plot(range(1,len(scen_bootstrapCOMP_coal)+1),scen_bootstrapCOMP_coal.mean(axis=1),label='coal')\n",
    "plt.plot(range(1,len(scen_bootstrapCOMP_gas)+1),scen_bootstrapCOMP_gas.mean(axis=1),label='gas')\n",
    "plt.plot(range(1,len(scen_bootstrapCOMP_windN)+1),scen_bootstrapCOMP_windN.mean(axis=1),label='windS')\n",
    "plt.plot(range(1,len(scen_bootstrapCOMP_windS)+1),scen_bootstrapCOMP_windS.mean(axis=1),label='windN')\n",
    "plt.legend()\n",
    "plt.xlabel('GW  winterized')\n",
    "plt.ylabel('marginal revenue bn$/GW')"
   ]
  },
  {
   "cell_type": "code",
   "execution_count": null,
   "metadata": {
    "hidden": true
   },
   "outputs": [],
   "source": [
    "plt.plot(marginal_revenue_gas.mean(axis=1) - scen_bootstrapCOMP_gas.mean(axis=1))"
   ]
  },
  {
   "cell_type": "code",
   "execution_count": null,
   "metadata": {
    "hidden": true
   },
   "outputs": [],
   "source": [
    "plt.plot(scen_bootstrapCOMP_gas.mean(axis=1),label='revenue')\n",
    "plt.plot(marginal_revenue_gas.mean(axis=1),label='avoided loss')\n",
    "plt.legend()\n",
    "plt.xlabel('GW  winterized -1')\n",
    "plt.ylabel('revenue bn$/GW')"
   ]
  },
  {
   "cell_type": "markdown",
   "metadata": {
    "heading_collapsed": true
   },
   "source": [
    "# run scenarios for monopoly profit"
   ]
  },
  {
   "cell_type": "code",
   "execution_count": 40,
   "metadata": {
    "code_folding": [
     0
    ],
    "hidden": true
   },
   "outputs": [],
   "source": [
    "def run_redout_scenarioMONO_technology(thresh_gas,thresh_coal,thresh_windN,thresh_windS,sampleyears,technology,price_func):\n",
    "    # define discount rate\n",
    "    discount = 1.05 ** (-np.arange(1,31))\n",
    "    #discount = 1.1 ** (-np.arange(1,31))\n",
    "\n",
    "    maxout = int(round(out_model_param.outage_capacity[technology]))\n",
    "    results_matrix = np.zeros((maxout+1,10000))\n",
    "    for reduced_GW in range(0,maxout+1):\n",
    "        print('reduced GW',reduced_GW)\n",
    "        # GET THRESHOLDS\n",
    "        if technology == 'gas':\n",
    "            thresh_gasR = thresh_gas - reduced_GW\n",
    "            thresh_gasR[thresh_gasR<0] = 0\n",
    "            thresh_gas_coalR = 63.5 - (thresh_gasR + thresh_coal)\n",
    "            wp_remainR = wp/10**6*(33-thresh_windN-thresh_windS)/33\n",
    "        elif technology == 'coal':\n",
    "            thresh_coalR = thresh_coal - reduced_GW\n",
    "            thresh_coalR[thresh_coalR<0] = 0\n",
    "            thresh_gas_coalR = 63.5 - (thresh_gas + thresh_coalR)\n",
    "            wp_remainR = wp/10**6*(33-thresh_windN-thresh_windS)/33\n",
    "        elif technology == 'wind_north':\n",
    "            thresh_windNR = thresh_windN - reduced_GW\n",
    "            thresh_windNR[thresh_windNR<0] = 0\n",
    "            thresh_gas_coalR = 63.5 - (thresh_gas + thresh_coal)\n",
    "            wp_remainR = wp/10**6*(33-thresh_windNR-thresh_windS)/33\n",
    "        else:\n",
    "            thresh_windSR = thresh_windS - reduced_GW\n",
    "            thresh_windSR[thresh_windSR<0] = 0\n",
    "            thresh_gas_coalR = 63.5 - (thresh_gas + thresh_coal)\n",
    "            wp_remainR = wp/10**6*(33-thresh_windN-thresh_windSR)/33\n",
    "        # calculate total thresholds\n",
    "        thresh_totalR = thresh_gas_coalR + wp_remainR\n",
    "        # calculate deficits\n",
    "        deficitR = load70.load_est/1000-thresh_totalR\n",
    "        # calculate production capacity\n",
    "        cap_rev = pd.concat([thresh_totalR,load70.load_est/1000],axis=1).min(axis=1)\n",
    "        \n",
    "        # calculate price\n",
    "        price = pd.Series(price_func(-deficitR*1000),index=deficitR.index)\n",
    "        # calculate revenue for winterized GW\n",
    "        rev = (cap_rev*1000*price)\n",
    "        \n",
    "        events = rev.resample('Y').count().replace(0,np.nan).dropna()\n",
    "        yearly_rev = rev.resample('Y').sum()\n",
    "        yearly_rev.index = yearly_rev.index.year\n",
    "        yearly_rev = pd.Series(pd.Index(range(1950,2022)).map(yearly_rev).fillna(0),index=range(1950,2022))\n",
    "        yearly_cap_rev = cap_rev.resample('Y').sum()\n",
    "        yearly_cap_rev.index = yearly_cap_rev.index.year\n",
    "        yearly_cap_rev = pd.Series(pd.Index(range(1950,2022)).map(yearly_cap_rev).fillna(0),index=range(1950,2022))\n",
    "        \n",
    "        # bootstrap\n",
    "        bootstrap = 0\n",
    "        for years in sampleyears:\n",
    "            bootstrap = bootstrap + 1\n",
    "            rev_per_GW = (yearly_rev[years] * discount).sum() / 10**9\n",
    "            #if rev_per_GW > 0:\n",
    "            #    rev_per_GW = (yearly_rev[years] * discount).sum()/yearly_cap_rev[years].sum()\n",
    "            results_matrix[reduced_GW,bootstrap -1]= rev_per_GW\n",
    "    return(results_matrix)"
   ]
  },
  {
   "cell_type": "code",
   "execution_count": 46,
   "metadata": {
    "hidden": true
   },
   "outputs": [
    {
     "name": "stdout",
     "output_type": "stream",
     "text": [
      "reduced GW 0\n",
      "reduced GW 1\n",
      "reduced GW 2\n",
      "reduced GW 3\n",
      "reduced GW 0\n",
      "reduced GW 1\n",
      "reduced GW 2\n",
      "reduced GW 3\n",
      "reduced GW 4\n",
      "reduced GW 5\n",
      "reduced GW 6\n",
      "reduced GW 7\n",
      "reduced GW 8\n",
      "reduced GW 9\n",
      "reduced GW 10\n",
      "reduced GW 11\n",
      "reduced GW 12\n",
      "reduced GW 13\n",
      "reduced GW 0\n",
      "reduced GW 1\n",
      "reduced GW 2\n",
      "reduced GW 3\n",
      "reduced GW 4\n",
      "reduced GW 5\n",
      "reduced GW 0\n",
      "reduced GW 1\n",
      "reduced GW 2\n",
      "reduced GW 3\n",
      "reduced GW 4\n",
      "reduced GW 5\n",
      "reduced GW 6\n",
      "reduced GW 7\n",
      "reduced GW 8\n",
      "reduced GW 9\n",
      "reduced GW 10\n",
      "reduced GW 11\n",
      "reduced GW 12\n",
      "reduced GW 13\n",
      "reduced GW 14\n",
      "reduced GW 15\n",
      "reduced GW 16\n",
      "reduced GW 17\n",
      "reduced GW 18\n"
     ]
    }
   ],
   "source": [
    "scen_bootstrapMONO_coal = run_redout_scenarioMONO_technology(thresh_gas,thresh_coal,thresh_windN,thresh_windS,\n",
    "                                                             bootstrap_year,'coal',price_func)\n",
    "scen_bootstrapMONO_windN = run_redout_scenarioMONO_technology(thresh_gas,thresh_coal,thresh_windN,thresh_windS,\n",
    "                                                              bootstrap_year,'wind_north',price_func)\n",
    "scen_bootstrapMONO_windS = run_redout_scenarioMONO_technology(thresh_gas,thresh_coal,thresh_windN,thresh_windS,\n",
    "                                                              bootstrap_year,'wind_south',price_func)\n",
    "scen_bootstrapMONO_gas = run_redout_scenarioMONO_technology(thresh_gas,thresh_coal,thresh_windN,thresh_windS,\n",
    "                                                            bootstrap_year,'gas',price_func)"
   ]
  },
  {
   "cell_type": "code",
   "execution_count": 47,
   "metadata": {
    "hidden": true
   },
   "outputs": [
    {
     "data": {
      "text/plain": [
       "Text(0, 0.5, 'total revenue bn$')"
      ]
     },
     "execution_count": 47,
     "metadata": {},
     "output_type": "execute_result"
    },
    {
     "data": {
      "image/png": "[encoded data removed]",
      "text/plain": [
       "<Figure size 432x288 with 1 Axes>"
      ]
     },
     "metadata": {},
     "output_type": "display_data"
    }
   ],
   "source": [
    "plt.plot(scen_bootstrapMONO_coal.mean(axis=1),label='coal')\n",
    "plt.plot(scen_bootstrapMONO_gas.mean(axis=1),label='gas')\n",
    "plt.plot(scen_bootstrapMONO_windN.mean(axis=1),label='windS')\n",
    "plt.plot(scen_bootstrapMONO_windS.mean(axis=1),label='windN')\n",
    "plt.legend()\n",
    "plt.xlabel('GW  winterized')\n",
    "plt.ylabel('total revenue bn$')"
   ]
  },
  {
   "cell_type": "code",
   "execution_count": 48,
   "metadata": {
    "hidden": true
   },
   "outputs": [],
   "source": [
    "marginal_revenueMONO_coal = (scen_bootstrapMONO_coal[1:,] - scen_bootstrapMONO_coal[:-1,]).mean(axis=1)\n",
    "marginal_revenueMONO_gas = (scen_bootstrapMONO_gas[1:,] - scen_bootstrapMONO_gas[:-1,]).mean(axis=1)\n",
    "marginal_revenueMONO_windN = (scen_bootstrapMONO_windN[1:,] - scen_bootstrapMONO_windN[:-1,]).mean(axis=1)\n",
    "marginal_revenueMONO_windS = (scen_bootstrapMONO_windS[1:,] - scen_bootstrapMONO_windS[:-1,]).mean(axis=1)"
   ]
  },
  {
   "cell_type": "code",
   "execution_count": 49,
   "metadata": {
    "hidden": true
   },
   "outputs": [
    {
     "data": {
      "text/plain": [
       "Text(0, 0.5, 'marginal revenue bn$/GW')"
      ]
     },
     "execution_count": 49,
     "metadata": {},
     "output_type": "execute_result"
    },
    {
     "data": {
      "image/png": "[encoded data removed]",
      "text/plain": [
       "<Figure size 432x288 with 1 Axes>"
      ]
     },
     "metadata": {},
     "output_type": "display_data"
    }
   ],
   "source": [
    "plt.plot(range(1,len(marginal_revenueMONO_coal)+1),marginal_revenueMONO_coal,label='coal')\n",
    "plt.plot(range(1,len(marginal_revenueMONO_gas)+1),marginal_revenueMONO_gas,label='gas')\n",
    "plt.plot(range(1,len(marginal_revenueMONO_windN)+1),marginal_revenueMONO_windN,label='windN')\n",
    "plt.plot(range(1,len(marginal_revenueMONO_windS)+1),marginal_revenueMONO_windS,label='windS')\n",
    "plt.legend()\n",
    "plt.xlabel('GW  winterized')\n",
    "plt.ylabel('marginal revenue bn$/GW')"
   ]
  },
  {
   "cell_type": "code",
   "execution_count": null,
   "metadata": {
    "hidden": true
   },
   "outputs": [],
   "source": []
  },
  {
   "cell_type": "markdown",
   "metadata": {},
   "source": [
    "# run scenarios for different share profit"
   ]
  },
  {
   "cell_type": "code",
   "execution_count": 15,
   "metadata": {},
   "outputs": [],
   "source": [
    "thresh_gas_coal = 63.5 - (thresh_gas + thresh_coal)\n",
    "wp_remain = wp/10**6*(33-thresh_windN-thresh_windS)/33\n",
    "thresh_total = thresh_gas_coal + wp_remain"
   ]
  },
  {
   "cell_type": "code",
   "execution_count": 16,
   "metadata": {
    "code_folding": [
     0
    ]
   },
   "outputs": [],
   "source": [
    "def run_redout_scenarioPART(thresh_gas,thresh_coal,wp_remain,thresh_total,sampleyears,price_func):\n",
    "    # define discount rate\n",
    "    discount = 1.05 ** (-np.arange(1,31))\n",
    "    #discount = 1.1 ** (-np.arange(1,31))\n",
    "\n",
    "    reduced_GW = 1\n",
    "    maxown = 50\n",
    "    results_matrix = np.zeros((maxown+1,10000))\n",
    "    \n",
    "    # GET THRESHOLDS\n",
    "    thresh_gasR = thresh_gas - reduced_GW\n",
    "    thresh_gasR[thresh_gasR<0] = 0\n",
    "    thresh_gas_coalR = 63.5 - (thresh_gasR + thresh_coal)\n",
    "    # calculate total thresholds\n",
    "    thresh_totalR = thresh_gas_coalR + wp_remain\n",
    "\n",
    "    # calculate deficits\n",
    "    deficit = load70.load_est/1000-thresh_total\n",
    "    deficitR = load70.load_est/1000-thresh_totalR\n",
    "    \n",
    "    # calculate capacity for which new revenue is gained\n",
    "    deficitcap = deficit.copy(deep=True)\n",
    "    deficitcap[deficit<0]=0\n",
    "    deficitRcap = deficitR.copy(deep=True)\n",
    "    deficitRcap[deficitR<0]=0\n",
    "    cap_new_rev = deficitcap - deficitRcap\n",
    "    \n",
    "    # calculate price\n",
    "    price = pd.Series(price_func(-deficit*1000),index=deficit.index)\n",
    "    priceR = pd.Series(price_func(-deficitR*1000),index=deficitR.index)\n",
    "    \n",
    "    # calculate revenue from winterized GW\n",
    "    rev_new = (cap_new_rev*1000*priceR)\n",
    "\n",
    "    for cap_own in range(0,maxown+1):\n",
    "        print('cap_own GW',cap_own)\n",
    "        # calculate owned capacity for which profit is gained\n",
    "        cap_own_rev = pd.concat([pd.Series(cap_own,index=thresh_total.index),thresh_total],axis=1).min(axis=1)\n",
    "        \n",
    "        # calculate revenue for winterized GW\n",
    "        rev_own_winterized = cap_own_rev*1000*priceR\n",
    "        total_rev_winterized = rev_new + rev_own_winterized\n",
    "        rev_own_old = cap_own_rev*1000*price\n",
    "        \n",
    "        marginal_rev = total_rev_winterized - rev_own_old\n",
    "        \n",
    "        yearly_marginal_rev = marginal_rev.resample('Y').sum()\n",
    "        yearly_marginal_rev.index = yearly_marginal_rev.index.year\n",
    "        yearly_marginal_rev = pd.Series(pd.Index(range(1950,2022)).map(yearly_marginal_rev).fillna(0),index=range(1950,2022))       \n",
    "        \n",
    "        # bootstrap\n",
    "        bootstrap = 0\n",
    "        for years in sampleyears:\n",
    "            bootstrap = bootstrap + 1\n",
    "            rev_per_GW = (yearly_marginal_rev[years] * discount).sum() / 10**9\n",
    "            results_matrix[cap_own,bootstrap -1]= rev_per_GW\n",
    "    return(results_matrix)"
   ]
  },
  {
   "cell_type": "code",
   "execution_count": 23,
   "metadata": {
    "code_folding": []
   },
   "outputs": [
    {
     "name": "stdout",
     "output_type": "stream",
     "text": [
      "cap_own GW 0\n",
      "cap_own GW 1\n",
      "cap_own GW 2\n",
      "cap_own GW 3\n",
      "cap_own GW 4\n",
      "cap_own GW 5\n",
      "cap_own GW 6\n",
      "cap_own GW 7\n",
      "cap_own GW 8\n",
      "cap_own GW 9\n",
      "cap_own GW 10\n",
      "cap_own GW 11\n",
      "cap_own GW 12\n",
      "cap_own GW 13\n",
      "cap_own GW 14\n",
      "cap_own GW 15\n",
      "cap_own GW 16\n",
      "cap_own GW 17\n",
      "cap_own GW 18\n",
      "cap_own GW 19\n",
      "cap_own GW 20\n",
      "cap_own GW 21\n",
      "cap_own GW 22\n",
      "cap_own GW 23\n",
      "cap_own GW 24\n",
      "cap_own GW 25\n",
      "cap_own GW 26\n",
      "cap_own GW 27\n",
      "cap_own GW 28\n",
      "cap_own GW 29\n",
      "cap_own GW 30\n",
      "cap_own GW 31\n",
      "cap_own GW 32\n",
      "cap_own GW 33\n",
      "cap_own GW 34\n",
      "cap_own GW 35\n",
      "cap_own GW 36\n",
      "cap_own GW 37\n",
      "cap_own GW 38\n",
      "cap_own GW 39\n",
      "cap_own GW 40\n",
      "cap_own GW 41\n",
      "cap_own GW 42\n",
      "cap_own GW 43\n",
      "cap_own GW 44\n",
      "cap_own GW 45\n",
      "cap_own GW 46\n",
      "cap_own GW 47\n",
      "cap_own GW 48\n",
      "cap_own GW 49\n",
      "cap_own GW 50\n"
     ]
    }
   ],
   "source": [
    "scen_bootstrapPART = run_redout_scenarioPART(thresh_gas,thresh_coal,wp_remain,thresh_total,\n",
    "                                                             bootstrap_year,price_func)"
   ]
  },
  {
   "cell_type": "code",
   "execution_count": 24,
   "metadata": {},
   "outputs": [
    {
     "data": {
      "image/png": "[encoded data removed]",
      "text/plain": [
       "<Figure size 432x288 with 1 Axes>"
      ]
     },
     "metadata": {},
     "output_type": "display_data"
    }
   ],
   "source": [
    "plt.plot(scen_bootstrapPART.mean(axis=1))\n",
    "plt.xlabel('Capacity owned GW')\n",
    "plt.ylabel('Marginal revenue due to winterization\\n of one additional GW bn$')\n",
    "plt.hlines(0,0,50,ls='--',color='black')\n",
    "plt.xlim(0,30)\n",
    "plt.ylim(-1,1.25)\n",
    "plt.savefig(fig_path + 'owned_capacity_marginal_revenue_LR24temptrend_Hook-8.pdf',dpi=300,bbox_inches='tight')"
   ]
  },
  {
   "cell_type": "code",
   "execution_count": 26,
   "metadata": {},
   "outputs": [],
   "source": [
    "pd.Series(scen_bootstrapPART.mean(axis=1)).to_csv(fig_path_raw + 'FigA4.csv')"
   ]
  }
 ],
 "metadata": {
  "kernelspec": {
   "display_name": "Python [conda env:.conda-py39]",
   "language": "python",
   "name": "conda-env-.conda-py39-py"
  },
  "language_info": {
   "codemirror_mode": {
    "name": "ipython",
    "version": 3
   },
   "file_extension": ".py",
   "mimetype": "text/x-python",
   "name": "python",
   "nbconvert_exporter": "python",
   "pygments_lexer": "ipython3",
   "version": "3.9.6"
  }
 },
 "nbformat": 4,
 "nbformat_minor": 4
}
