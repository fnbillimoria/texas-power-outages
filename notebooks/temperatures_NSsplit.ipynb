{
 "cells": [
  {
   "cell_type": "code",
   "execution_count": 86,
   "metadata": {},
   "outputs": [],
   "source": [
    "import matplotlib.pyplot as plt\n",
    "import pandas as pd\n",
    "import xarray as xr\n",
    "import numpy as np\n",
    "\n",
    "import sys\n",
    "sys.path.append('./../scripts')\n",
    "\n",
    "from refuelplot import *\n",
    "setup()\n",
    "sns.set_style(\"darkgrid\")"
   ]
  },
  {
   "cell_type": "code",
   "execution_count": 87,
   "metadata": {},
   "outputs": [],
   "source": [
    "tx_path = '/data/projects/texas-power-outages/data/interim/'\n",
    "fig_path = '/data/projects/texas-power-outages/data/figures/'\n",
    "out_path = '/data/projects/texas-power-outages/data/output/'\n",
    "temp_path = '/data/projects/texas-power-outages/data/input/temperatures/'\n",
    "gf_path = '/data/projects/texas-power-outages/data/input/gas_production/'\n",
    "ct_path = '/data/projects/texas-power-outages/data/input/shp/'\n",
    "pp_path = '/data/projects/texas-power-outages/data/input/powerplants/'\n",
    "wind_path = '/data/users/kgruber/Data/era5/USA/eff_ws/'\n",
    "var_path = '/data/users/kgruber/Data/era5/TX/'"
   ]
  },
  {
   "cell_type": "code",
   "execution_count": 88,
   "metadata": {},
   "outputs": [],
   "source": [
    "# get temperature\n",
    "temp = xr.open_mfdataset(temp_path + 'era5_temp_TX_??????.nc').t2m-273.15"
   ]
  },
  {
   "cell_type": "markdown",
   "metadata": {},
   "source": [
    "# temperatures with outage power plants"
   ]
  },
  {
   "cell_type": "code",
   "execution_count": 8,
   "metadata": {},
   "outputs": [
    {
     "name": "stderr",
     "output_type": "stream",
     "text": [
      "/home/kgruber/.conda/envs/py37/lib/python3.7/site-packages/pyarrow/pandas_compat.py:752: FutureWarning: .labels was deprecated in version 0.24.0. Use .codes instead.\n",
      "  labels, = index.labels\n"
     ]
    }
   ],
   "source": [
    "outages = pd.read_feather(tx_path + 'outages/outages.feather')\n",
    "outages = outages[outages.dataset=='edgar'].drop('dataset',axis=1)"
   ]
  },
  {
   "cell_type": "markdown",
   "metadata": {},
   "source": [
    "## gas"
   ]
  },
  {
   "cell_type": "markdown",
   "metadata": {},
   "source": [
    "### all"
   ]
  },
  {
   "cell_type": "code",
   "execution_count": 50,
   "metadata": {},
   "outputs": [],
   "source": [
    "outagesNG = outages[(outages.fuel=='NG')].set_index('ts').resample('h').sum()"
   ]
  },
  {
   "cell_type": "code",
   "execution_count": 10,
   "metadata": {},
   "outputs": [],
   "source": [
    "lonlatNG = outages[outages.fuel=='NG'][['Latitude','Longitude','cap_max']].drop_duplicates(subset=['Latitude','Longitude'],keep='first')\n",
    "startNG = outages[(outages.fuel=='NG')&(outages.reduction>0)].drop_duplicates(subset=['Latitude','Longitude'],keep='first').ts\n",
    "noavailNG = outages[(outages.fuel=='NG')&(outages.cap_available==0)].drop_duplicates(subset=['Latitude','Longitude'],keep='first').ts"
   ]
  },
  {
   "cell_type": "code",
   "execution_count": 51,
   "metadata": {},
   "outputs": [],
   "source": [
    "tempNG = temp.interp(coords={\"longitude\":xr.DataArray(lonlatNG.Longitude.values,dims='location'),\n",
    "                              \"latitude\":xr.DataArray(lonlatNG.Latitude.values,dims='location')},\n",
    "                      method=\"nearest\")"
   ]
  },
  {
   "cell_type": "code",
   "execution_count": 52,
   "metadata": {},
   "outputs": [],
   "source": [
    "tgNGw = (tempNG*lonlatNG.cap_max.values/lonlatNG.cap_max.sum()).sum('location').to_dataframe()"
   ]
  },
  {
   "cell_type": "code",
   "execution_count": 53,
   "metadata": {},
   "outputs": [],
   "source": [
    "tgNGw.to_csv('/data/projects/texas-power-outages/data/interim/temperatures/temp_gas_outage.csv')"
   ]
  },
  {
   "cell_type": "markdown",
   "metadata": {},
   "source": [
    "### NS split"
   ]
  },
  {
   "cell_type": "code",
   "execution_count": 9,
   "metadata": {},
   "outputs": [],
   "source": [
    "# split outages in North and South\n",
    "latlimit = 30\n",
    "outagesNGN = outages[(outages.fuel=='NG')&(outages.Latitude>latlimit)].set_index('ts').resample('h').sum()\n",
    "outagesNGS = outages[(outages.fuel=='NG')&(outages.Latitude<=latlimit)].set_index('ts').resample('h').sum()"
   ]
  },
  {
   "cell_type": "code",
   "execution_count": 11,
   "metadata": {},
   "outputs": [],
   "source": [
    "# split locations in North and South\n",
    "latlimit = 30\n",
    "lonlatNGN = lonlatNG[lonlatNG.Latitude>latlimit]\n",
    "lonlatNGS = lonlatNG[lonlatNG.Latitude<=latlimit]"
   ]
  },
  {
   "cell_type": "code",
   "execution_count": 20,
   "metadata": {},
   "outputs": [],
   "source": [
    "tempNGN = temp.interp(coords={\"longitude\":xr.DataArray(lonlatNGN.Longitude.values,dims='location'),\n",
    "                              \"latitude\":xr.DataArray(lonlatNGN.Latitude.values,dims='location')},\n",
    "                      method=\"nearest\")\n",
    "tempNGS = temp.interp(coords={\"longitude\":xr.DataArray(lonlatNGS.Longitude.values,dims='location'),\n",
    "                              \"latitude\":xr.DataArray(lonlatNGS.Latitude.values,dims='location')},\n",
    "                      method=\"nearest\")"
   ]
  },
  {
   "cell_type": "code",
   "execution_count": 48,
   "metadata": {},
   "outputs": [],
   "source": [
    "tgNGNw = (tempNGN*lonlatNGN.cap_max.values/lonlatNGN.cap_max.sum()).sum('location').to_dataframe()\n",
    "tgNGSw = (tempNGS*lonlatNGS.cap_max.values/lonlatNGS.cap_max.sum()).sum('location').to_dataframe()"
   ]
  },
  {
   "cell_type": "code",
   "execution_count": 49,
   "metadata": {},
   "outputs": [],
   "source": [
    "tgNGNw.to_csv('/data/projects/texas-power-outages/data/interim/temperatures/temp_gas_outageN.csv')\n",
    "tgNGSw.to_csv('/data/projects/texas-power-outages/data/interim/temperatures/temp_gas_outageS.csv')"
   ]
  },
  {
   "cell_type": "code",
   "execution_count": 29,
   "metadata": {},
   "outputs": [],
   "source": [
    "outagesNGN.to_csv('/data/projects/texas-power-outages/data/interim/outages/outagesNGN.csv')\n",
    "outagesNGS.to_csv('/data/projects/texas-power-outages/data/interim/outages/outagesNGS.csv')"
   ]
  },
  {
   "cell_type": "markdown",
   "metadata": {},
   "source": [
    "## coal"
   ]
  },
  {
   "cell_type": "markdown",
   "metadata": {},
   "source": [
    "### all"
   ]
  },
  {
   "cell_type": "code",
   "execution_count": 50,
   "metadata": {},
   "outputs": [],
   "source": [
    "outagesCOAL = outages[(outages.fuel=='COAL')].set_index('ts').resample('h').sum()"
   ]
  },
  {
   "cell_type": "code",
   "execution_count": 54,
   "metadata": {},
   "outputs": [],
   "source": [
    "lonlatCOAL = outages[outages.fuel=='COAL'][['Latitude','Longitude','cap_max']].drop_duplicates(subset=['Latitude','Longitude'],keep='first')\n",
    "startCOAL = outages[(outages.fuel=='COAL')&(outages.reduction>0)].drop_duplicates(subset=['Latitude','Longitude'],keep='first').ts\n",
    "noavailCOAL = outages[(outages.fuel=='COAL')&(outages.cap_available==0)].drop_duplicates(subset=['Latitude','Longitude'],keep='first').ts"
   ]
  },
  {
   "cell_type": "code",
   "execution_count": 56,
   "metadata": {},
   "outputs": [],
   "source": [
    "tempCOAL = temp.interp(coords={\"longitude\":xr.DataArray(lonlatCOAL.Longitude.values,dims='location'),\n",
    "                              \"latitude\":xr.DataArray(lonlatCOAL.Latitude.values,dims='location')},\n",
    "                      method=\"nearest\")"
   ]
  },
  {
   "cell_type": "code",
   "execution_count": 57,
   "metadata": {},
   "outputs": [],
   "source": [
    "tgCOALw = (tempCOAL*lonlatCOAL.cap_max.values/lonlatCOAL.cap_max.sum()).sum('location').to_dataframe()"
   ]
  },
  {
   "cell_type": "code",
   "execution_count": 58,
   "metadata": {},
   "outputs": [],
   "source": [
    "tgCOALw.to_csv('/data/projects/texas-power-outages/data/interim/temperatures/temp_coal_outage.csv')"
   ]
  },
  {
   "cell_type": "code",
   "execution_count": null,
   "metadata": {},
   "outputs": [],
   "source": []
  },
  {
   "cell_type": "markdown",
   "metadata": {},
   "source": [
    "# temperatures with all power plants"
   ]
  },
  {
   "cell_type": "code",
   "execution_count": 59,
   "metadata": {},
   "outputs": [],
   "source": [
    "pp = pd.read_csv(pp_path + 'PowerPlants_US_202004.csv')"
   ]
  },
  {
   "cell_type": "markdown",
   "metadata": {},
   "source": [
    "## gas"
   ]
  },
  {
   "cell_type": "markdown",
   "metadata": {},
   "source": [
    "### all"
   ]
  },
  {
   "cell_type": "code",
   "execution_count": 60,
   "metadata": {},
   "outputs": [],
   "source": [
    "ppNG = pp[(pp.NG_MW>0)&(pp.StateName=='Texas')]"
   ]
  },
  {
   "cell_type": "code",
   "execution_count": 61,
   "metadata": {},
   "outputs": [],
   "source": [
    "tppNG = temp.interp(coords={\"longitude\":xr.DataArray(ppNG.Longitude.values,dims='location'),\n",
    "                             \"latitude\":xr.DataArray(ppNG.Latitude.values,dims='location')},\n",
    "                     method=\"nearest\")"
   ]
  },
  {
   "cell_type": "code",
   "execution_count": 104,
   "metadata": {},
   "outputs": [],
   "source": [
    "# weigh by installed capacity and sum up\n",
    "tempppNG = (tppNG*ppNG.NG_MW.values/ppNG.NG_MW.values.sum()).sum('location').to_dataframe()"
   ]
  },
  {
   "cell_type": "code",
   "execution_count": 105,
   "metadata": {},
   "outputs": [],
   "source": [
    "tempppNG.to_csv('/data/projects/texas-power-outages/data/interim/temperatures/temp_gas_powerplant.csv')"
   ]
  },
  {
   "cell_type": "markdown",
   "metadata": {},
   "source": [
    "### NS split"
   ]
  },
  {
   "cell_type": "code",
   "execution_count": 64,
   "metadata": {},
   "outputs": [],
   "source": [
    "latlimit = 30\n",
    "ppNGN = ppNG[ppNG.Latitude>latlimit]\n",
    "ppNGS = ppNG[ppNG.Latitude<=latlimit]"
   ]
  },
  {
   "cell_type": "code",
   "execution_count": 65,
   "metadata": {},
   "outputs": [],
   "source": [
    "tppNGN = temp.interp(coords={\"longitude\":xr.DataArray(ppNGN.Longitude.values,dims='location'),\n",
    "                             \"latitude\":xr.DataArray(ppNGN.Latitude.values,dims='location')},\n",
    "                     method=\"nearest\")\n",
    "tppNGS = temp.interp(coords={\"longitude\":xr.DataArray(ppNGS.Longitude.values,dims='location'),\n",
    "                             \"latitude\":xr.DataArray(ppNGS.Latitude.values,dims='location')},\n",
    "                     method=\"nearest\")"
   ]
  },
  {
   "cell_type": "code",
   "execution_count": 106,
   "metadata": {},
   "outputs": [],
   "source": [
    "# weigh by installed capacity and sum up\n",
    "tempppNGN = (tppNGN*ppNGN.NG_MW.values/ppNGN.NG_MW.values.sum()).sum('location').to_dataframe()\n",
    "tempppNGS = (tppNGS*ppNGS.NG_MW.values/ppNGS.NG_MW.values.sum()).sum('location').to_dataframe()"
   ]
  },
  {
   "cell_type": "code",
   "execution_count": 107,
   "metadata": {},
   "outputs": [],
   "source": [
    "tempppNGN.to_csv('/data/projects/texas-power-outages/data/interim/temperatures/temp_gas_powerplantN.csv')\n",
    "tempppNGS.to_csv('/data/projects/texas-power-outages/data/interim/temperatures/temp_gas_powerplantS.csv')"
   ]
  },
  {
   "cell_type": "markdown",
   "metadata": {},
   "source": [
    "## coal"
   ]
  },
  {
   "cell_type": "markdown",
   "metadata": {},
   "source": [
    "### all"
   ]
  },
  {
   "cell_type": "code",
   "execution_count": 71,
   "metadata": {},
   "outputs": [],
   "source": [
    "ppCOAL = pp[(pp.Coal_MW>0)&(pp.StateName=='Texas')]"
   ]
  },
  {
   "cell_type": "code",
   "execution_count": 72,
   "metadata": {},
   "outputs": [],
   "source": [
    "tppCOAL = temp.interp(coords={\"longitude\":xr.DataArray(ppCOAL.Longitude.values,dims='location'),\n",
    "                             \"latitude\":xr.DataArray(ppCOAL.Latitude.values,dims='location')},\n",
    "                     method=\"nearest\")"
   ]
  },
  {
   "cell_type": "code",
   "execution_count": 108,
   "metadata": {},
   "outputs": [],
   "source": [
    "# weigh by installed capacity and sum up\n",
    "tempppCOAL = (tppCOAL*ppCOAL.Coal_MW.values/ppCOAL.Coal_MW.values.sum()).sum('location').to_dataframe()"
   ]
  },
  {
   "cell_type": "code",
   "execution_count": 109,
   "metadata": {},
   "outputs": [],
   "source": [
    "tempppCOAL.to_csv('/data/projects/texas-power-outages/data/interim/temperatures/temp_coal_powerplant.csv')"
   ]
  },
  {
   "cell_type": "code",
   "execution_count": null,
   "metadata": {},
   "outputs": [],
   "source": []
  },
  {
   "cell_type": "markdown",
   "metadata": {},
   "source": [
    "## temperatures with gasfields"
   ]
  },
  {
   "cell_type": "markdown",
   "metadata": {},
   "source": [
    "### all"
   ]
  },
  {
   "cell_type": "code",
   "execution_count": 75,
   "metadata": {},
   "outputs": [],
   "source": [
    "# get gas fields\n",
    "gasfields = pd.read_excel(gf_path + 'www.rrc.state.tx.us_media_qcpp3bau_2020-12-monthly-production-county-gas.xlsx').replace('DE WITT','DEWITT')"
   ]
  },
  {
   "cell_type": "code",
   "execution_count": 76,
   "metadata": {},
   "outputs": [],
   "source": [
    "# get county centers\n",
    "counties = pd.read_csv(ct_path + 'counties.csv')\n",
    "counties = pd.DataFrame({'lon':counties.x.values,\n",
    "                        'lat':counties.y.values},\n",
    "                       index = counties.COUNTY.str.upper())"
   ]
  },
  {
   "cell_type": "code",
   "execution_count": 78,
   "metadata": {},
   "outputs": [],
   "source": [
    "gfll = pd.DataFrame({'lon':counties.loc[gasfields.COUNTY,'lon'].values,\n",
    "                     'lat':counties.loc[gasfields.COUNTY,'lat'].values,\n",
    "                     'gp':gasfields['GAS-PRODUCTION-DECEMBRE-2020'].values,\n",
    "                     'ct':gasfields['COUNTY'].values})"
   ]
  },
  {
   "cell_type": "code",
   "execution_count": 79,
   "metadata": {},
   "outputs": [],
   "source": [
    "tgf = temp.interp(coords={\"longitude\":xr.DataArray(gfll.lon.values,dims='location'),\n",
    "                              \"latitude\":xr.DataArray(gfll.lat.values,dims='location')},\n",
    "                      method=\"nearest\").assign_coords(location=gfll.ct.values)"
   ]
  },
  {
   "cell_type": "code",
   "execution_count": 110,
   "metadata": {},
   "outputs": [],
   "source": [
    "# weigh by gas production and sum up\n",
    "tempgfNG = (tgf*gfll.gp.values/gfll.gp.values.sum()).sum('location').to_dataframe()"
   ]
  },
  {
   "cell_type": "code",
   "execution_count": 111,
   "metadata": {},
   "outputs": [],
   "source": [
    "tempgfNG.to_csv('/data/projects/texas-power-outages/data/interim/temperatures/temp_gasfields.csv')"
   ]
  },
  {
   "cell_type": "markdown",
   "metadata": {},
   "source": [
    "### NS split"
   ]
  },
  {
   "cell_type": "code",
   "execution_count": 82,
   "metadata": {},
   "outputs": [],
   "source": [
    "latlimit = 30\n",
    "gfllN = gfll[gfll.lat>latlimit]\n",
    "gfllS = gfll[gfll.lat<=latlimit]"
   ]
  },
  {
   "cell_type": "code",
   "execution_count": 83,
   "metadata": {},
   "outputs": [],
   "source": [
    "tgfN = temp.interp(coords={\"longitude\":xr.DataArray(gfllN.lon.values,dims='location'),\n",
    "                              \"latitude\":xr.DataArray(gfllN.lat.values,dims='location')},\n",
    "                      method=\"nearest\").assign_coords(location=gfllN.ct.values)\n",
    "tgfS = temp.interp(coords={\"longitude\":xr.DataArray(gfllS.lon.values,dims='location'),\n",
    "                              \"latitude\":xr.DataArray(gfllS.lat.values,dims='location')},\n",
    "                      method=\"nearest\").assign_coords(location=gfllS.ct.values)"
   ]
  },
  {
   "cell_type": "code",
   "execution_count": 112,
   "metadata": {},
   "outputs": [],
   "source": [
    "# weigh by gas production and sum up\n",
    "tempgfNGN = (tgfN*gfllN.gp.values/gfllN.gp.values.sum()).sum('location').to_dataframe()\n",
    "tempgfNGS = (tgfS*gfllS.gp.values/gfllS.gp.values.sum()).sum('location').to_dataframe()"
   ]
  },
  {
   "cell_type": "code",
   "execution_count": 113,
   "metadata": {},
   "outputs": [],
   "source": [
    "tempgfNGN.to_csv('/data/projects/texas-power-outages/data/interim/temperatures/temp_gasfieldsN.csv')\n",
    "tempgfNGS.to_csv('/data/projects/texas-power-outages/data/interim/temperatures/temp_gasfieldsS.csv')"
   ]
  },
  {
   "cell_type": "markdown",
   "metadata": {
    "heading_collapsed": true
   },
   "source": [
    "# trash"
   ]
  },
  {
   "cell_type": "code",
   "execution_count": 4,
   "metadata": {
    "hidden": true
   },
   "outputs": [],
   "source": [
    "# get wind\n",
    "wind = xr.open_mfdataset(wind_path + 'era5_wind_USA*.nc').wh10"
   ]
  },
  {
   "cell_type": "code",
   "execution_count": 5,
   "metadata": {
    "hidden": true
   },
   "outputs": [],
   "source": [
    "# get dewpoint temperature\n",
    "tempDP = xr.open_mfdataset(var_path + 'era5_tempDP_TX_??????.nc').d2m-273.15"
   ]
  },
  {
   "cell_type": "code",
   "execution_count": 6,
   "metadata": {
    "hidden": true
   },
   "outputs": [],
   "source": [
    "# get precipitation\n",
    "prec = xr.open_mfdataset(var_path + 'era5_prec_TX_??????.nc').tp"
   ]
  },
  {
   "cell_type": "code",
   "execution_count": 7,
   "metadata": {
    "hidden": true
   },
   "outputs": [],
   "source": [
    "# get radiance\n",
    "rad = xr.open_mfdataset(var_path + 'era5_rad_TX_??????.nc').ssr"
   ]
  },
  {
   "cell_type": "code",
   "execution_count": null,
   "metadata": {
    "hidden": true
   },
   "outputs": [],
   "source": []
  },
  {
   "cell_type": "code",
   "execution_count": 13,
   "metadata": {
    "hidden": true
   },
   "outputs": [],
   "source": [
    "tempi = temp.interp(coords={\"longitude\":xr.DataArray(lonlatNGN.Longitude.values,dims='location'),\n",
    "                              \"latitude\":xr.DataArray(lonlatNGN.Latitude.values,dims='location')},\n",
    "                      method=\"nearest\")\n",
    "tempDPi = tempDP.interp(coords={\"longitude\":xr.DataArray(lonlatNGN.Longitude.values,dims='location'),\n",
    "                              \"latitude\":xr.DataArray(lonlatNGN.Latitude.values,dims='location')},\n",
    "                      method=\"nearest\")\n",
    "tempiw = (tempi*lonlatNGN.cap_max.values/lonlatNGN.cap_max.sum()).mean('location').to_dataframe()\n",
    "tempDPiw = (tempDPi*lonlatNGN.cap_max.values/lonlatNGN.cap_max.sum()).mean('location').to_dataframe()"
   ]
  },
  {
   "cell_type": "code",
   "execution_count": 16,
   "metadata": {
    "hidden": true
   },
   "outputs": [],
   "source": [
    "b=np.array([273.3]*len(tempiw.values))"
   ]
  },
  {
   "cell_type": "code",
   "execution_count": null,
   "metadata": {
    "hidden": true
   },
   "outputs": [],
   "source": [
    "r = rLF(tempiw.t2m.values,tempiw.index.map(tempDPiw.d2m).values)"
   ]
  },
  {
   "cell_type": "code",
   "execution_count": 18,
   "metadata": {
    "code_folding": [
     0,
     6,
     9
    ],
    "hidden": true
   },
   "outputs": [],
   "source": [
    "def SDD(T):\n",
    "    a = 7.5\n",
    "    b = np.array([273.3]*len(T))\n",
    "    b[T<0] = (265.5+240.7)/2\n",
    "    return(6.1079*10**((a*T)/(b+T)))\n",
    "\n",
    "def rLF(T,TD):\n",
    "    return(100*SDD(TD)/SDD(T))\n",
    "\n",
    "def makevars(temp,wind,tempDP,prec,rad,lons,lats,weight):\n",
    "    tempi = temp.interp(coords={\"longitude\":xr.DataArray(lons.values,dims='location'),\n",
    "                              \"latitude\":xr.DataArray(lats.values,dims='location')},\n",
    "                      method=\"nearest\")\n",
    "    windi = wind.interp(coords={\"longitude\":xr.DataArray(lons.values,dims='location'),\n",
    "                              \"latitude\":xr.DataArray(lats.values,dims='location')},\n",
    "                      method=\"nearest\")\n",
    "    tempDPi = tempDP.interp(coords={\"longitude\":xr.DataArray(lons.values,dims='location'),\n",
    "                              \"latitude\":xr.DataArray(lats.values,dims='location')},\n",
    "                      method=\"nearest\")\n",
    "    preci = prec.interp(coords={\"longitude\":xr.DataArray(lons.values,dims='location'),\n",
    "                              \"latitude\":xr.DataArray(lats.values,dims='location')},\n",
    "                      method=\"nearest\")\n",
    "    radi = rad.interp(coords={\"longitude\":xr.DataArray(lons.values,dims='location'),\n",
    "                              \"latitude\":xr.DataArray(lats.values,dims='location')},\n",
    "                      method=\"nearest\")\n",
    "    # weigh by weights and sum up\n",
    "    tempiw = (tempi*weight.values/weight.sum()).mean('location').to_dataframe()\n",
    "    windiw = (windi*weight.values/weight.sum()).mean('location').to_dataframe()\n",
    "    tempDPiw = (tempDPi*weight.values/weight.sum()).mean('location').to_dataframe()\n",
    "    preciw = (preci*weight.values/weight.sum()).mean('location').to_dataframe()\n",
    "    radiw = (radi*weight.values/weight.sum()).mean('location').to_dataframe()\n",
    "    # calculate humidity\n",
    "    humiw = pd.DataFrame(rLF(tempiw.t2m.values,tempiw.index.map(tempDPiw.d2m).values),index=tempiw.index)\n",
    "    # merge\n",
    "    res = pd.concat([tempiw,windiw,humiw,preciw,radiw])\n",
    "    res.columns = ['temp','wind','hum','prec','rad']\n",
    "    return(res)"
   ]
  },
  {
   "cell_type": "code",
   "execution_count": 19,
   "metadata": {
    "hidden": true
   },
   "outputs": [],
   "source": [
    "varOUTN = makevars(temp,wind,tempDP,prec,rad,lonlatNGN.Longitude,lonlatNGN.Latitude,lonlatNGN.cap_max)"
   ]
  },
  {
   "cell_type": "code",
   "execution_count": null,
   "metadata": {
    "hidden": true
   },
   "outputs": [],
   "source": []
  },
  {
   "cell_type": "code",
   "execution_count": 21,
   "metadata": {
    "hidden": true
   },
   "outputs": [],
   "source": [
    "tgN = tempNGN.to_dataframe()\n",
    "tgS = tempNGS.to_dataframe()"
   ]
  },
  {
   "cell_type": "code",
   "execution_count": null,
   "metadata": {
    "hidden": true
   },
   "outputs": [],
   "source": []
  },
  {
   "cell_type": "markdown",
   "metadata": {
    "hidden": true
   },
   "source": [
    "### model"
   ]
  },
  {
   "cell_type": "code",
   "execution_count": 34,
   "metadata": {
    "hidden": true
   },
   "outputs": [],
   "source": [
    "outFUELN = outagesNGN[:'2021-02-14']\n",
    "outFUELS = outagesNGS[:'2021-02-14']"
   ]
  },
  {
   "cell_type": "code",
   "execution_count": null,
   "metadata": {
    "hidden": true
   },
   "outputs": [],
   "source": []
  }
 ],
 "metadata": {
  "kernelspec": {
   "display_name": "Python [conda env:.conda-py37]",
   "language": "python",
   "name": "conda-env-.conda-py37-py"
  },
  "language_info": {
   "codemirror_mode": {
    "name": "ipython",
    "version": 3
   },
   "file_extension": ".py",
   "mimetype": "text/x-python",
   "name": "python",
   "nbconvert_exporter": "python",
   "pygments_lexer": "ipython3",
   "version": "3.7.3"
  }
 },
 "nbformat": 4,
 "nbformat_minor": 4
}
