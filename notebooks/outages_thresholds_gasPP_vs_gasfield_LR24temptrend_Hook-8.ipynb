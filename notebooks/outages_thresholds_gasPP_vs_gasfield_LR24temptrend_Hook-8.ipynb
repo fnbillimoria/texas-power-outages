{
 "cells": [
  {
   "cell_type": "code",
   "execution_count": 1,
   "metadata": {},
   "outputs": [],
   "source": [
    "import matplotlib.pyplot as plt\n",
    "import pandas as pd\n",
    "import xarray as xr\n",
    "import numpy as np\n",
    "\n",
    "import sys\n",
    "sys.path.append('./../scripts')\n",
    "\n",
    "from refuelplot import *\n",
    "setup()\n",
    "sns.set_style(\"white\")"
   ]
  },
  {
   "cell_type": "code",
   "execution_count": 63,
   "metadata": {},
   "outputs": [],
   "source": [
    "tx_path = '/data/projects/texas-power-outages/data/interim/'\n",
    "fig_path = '/data/projects/texas-power-outages/data/figures/'\n",
    "out_path = '/data/projects/texas-power-outages/data/output/'\n",
    "fig_path_raw = fig_path+'raw_data/'"
   ]
  },
  {
   "cell_type": "code",
   "execution_count": 3,
   "metadata": {},
   "outputs": [],
   "source": [
    "added_thermal_cap = 1.5"
   ]
  },
  {
   "cell_type": "markdown",
   "metadata": {},
   "source": [
    "# load data"
   ]
  },
  {
   "cell_type": "markdown",
   "metadata": {},
   "source": [
    "### load outages"
   ]
  },
  {
   "cell_type": "code",
   "execution_count": 4,
   "metadata": {},
   "outputs": [],
   "source": [
    "reduction = pd.read_csv(tx_path+'outages/outages_reduction.csv',index_col='time',parse_dates=['time']).tz_localize(None).tz_localize('Etc/GMT+6')\n",
    "reductionN = pd.read_csv(tx_path+'outages/outages_reductionNorth.csv',index_col='time',parse_dates=['time']).tz_localize(None).tz_localize('Etc/GMT+6')\n",
    "reductionS = pd.read_csv(tx_path+'outages/outages_reductionSouth.csv',index_col='time',parse_dates=['time']).tz_localize(None).tz_localize('Etc/GMT+6')"
   ]
  },
  {
   "cell_type": "code",
   "execution_count": 5,
   "metadata": {},
   "outputs": [
    {
     "data": {
      "text/plain": [
       "41858.98333333334"
      ]
     },
     "execution_count": 5,
     "metadata": {},
     "output_type": "execute_result"
    }
   ],
   "source": [
    "reduction[['NG','WIND','COAL']].fillna(0).sum(axis=1).max()"
   ]
  },
  {
   "cell_type": "code",
   "execution_count": 6,
   "metadata": {},
   "outputs": [
    {
     "data": {
      "text/plain": [
       "DatetimeIndex(['2021-02-16 07:00:00-06:00'], dtype='datetime64[ns, Etc/GMT+6]', name='time', freq=None)"
      ]
     },
     "execution_count": 6,
     "metadata": {},
     "output_type": "execute_result"
    }
   ],
   "source": [
    "reduction.index[reduction[['NG','WIND','COAL']].fillna(0).sum(axis=1)==reduction[['NG','WIND','COAL']].fillna(0).sum(axis=1).max()]"
   ]
  },
  {
   "cell_type": "markdown",
   "metadata": {
    "heading_collapsed": true
   },
   "source": [
    "### load load"
   ]
  },
  {
   "cell_type": "code",
   "execution_count": 10,
   "metadata": {
    "hidden": true
   },
   "outputs": [],
   "source": [
    "load = pd.read_csv(tx_path + 'load/load_est_LR24temptrend_Hook-8.csv',index_col=0,parse_dates=True).tz_convert('Etc/GMT+6')"
   ]
  },
  {
   "cell_type": "code",
   "execution_count": 11,
   "metadata": {
    "hidden": true
   },
   "outputs": [],
   "source": [
    "load70 = pd.read_csv(tx_path + 'load/load_est70_LR24_temptrend_Hook-8.csv',index_col=0,parse_dates=True).tz_convert('Etc/GMT+6')"
   ]
  },
  {
   "cell_type": "markdown",
   "metadata": {
    "heading_collapsed": true
   },
   "source": [
    "### load windpower"
   ]
  },
  {
   "cell_type": "code",
   "execution_count": 13,
   "metadata": {
    "hidden": true
   },
   "outputs": [],
   "source": [
    "# get wind power\n",
    "wp = pd.read_csv(tx_path + 'windpower/wpTXh.csv',parse_dates=True,index_col=0).tz_localize('UTC').tz_convert('Etc/GMT+6').wp"
   ]
  },
  {
   "cell_type": "markdown",
   "metadata": {
    "heading_collapsed": true
   },
   "source": [
    "### load temperature"
   ]
  },
  {
   "cell_type": "code",
   "execution_count": 14,
   "metadata": {
    "hidden": true
   },
   "outputs": [],
   "source": [
    "# load temperature population indicator\n",
    "tpxr = xr.open_mfdataset(tx_path + 'temperatures/temppop/temppop_????C.nc').__xarray_dataarray_variable__\n",
    "tpxr.name= 'tp'\n",
    "tp = tpxr.to_dataframe().tz_localize('UTC').tz_convert('Etc/GMT+6')\n",
    "tpd = tp.resample('D').mean()"
   ]
  },
  {
   "cell_type": "code",
   "execution_count": 15,
   "metadata": {
    "hidden": true
   },
   "outputs": [],
   "source": [
    "# load power plant temperatures\n",
    "temppp = pd.read_csv(tx_path + 'temperatures/temppowerplant.csv',index_col=0,parse_dates=True).tz_localize('UTC').tz_convert('Etc/GMT+6')"
   ]
  },
  {
   "cell_type": "code",
   "execution_count": 16,
   "metadata": {
    "hidden": true
   },
   "outputs": [],
   "source": [
    "# load gas field temperatures\n",
    "tempgf = pd.read_csv(tx_path + 'temperatures/temp_gasfields.csv',index_col=0,parse_dates=True).t2m.tz_convert('Etc/GMT+6')"
   ]
  },
  {
   "cell_type": "code",
   "execution_count": 17,
   "metadata": {
    "hidden": true
   },
   "outputs": [],
   "source": [
    "# get temperature at windparks\n",
    "tempwp = pd.read_csv(tx_path + 'temperatures/tempWP.csv',parse_dates=True,index_col=0).tz_convert('Etc/GMT+6').t2m\n",
    "tempwpNS = pd.read_csv(tx_path + 'temperatures/tempWP_NSsplit.csv',parse_dates=True,index_col=0).tz_convert('Etc/GMT+6')"
   ]
  },
  {
   "cell_type": "markdown",
   "metadata": {
    "heading_collapsed": true
   },
   "source": [
    "### load outage model results"
   ]
  },
  {
   "cell_type": "code",
   "execution_count": 18,
   "metadata": {
    "hidden": true
   },
   "outputs": [],
   "source": [
    "out_model_param = pd.read_csv(out_path + 'outage_function_parameters/outage_function_parameters.cvs',index_col=0)"
   ]
  },
  {
   "cell_type": "markdown",
   "metadata": {
    "heading_collapsed": true
   },
   "source": [
    "### load threshold and forecast"
   ]
  },
  {
   "cell_type": "code",
   "execution_count": 21,
   "metadata": {
    "hidden": true
   },
   "outputs": [],
   "source": [
    "# add 4.5GW to threshold to assume higher available thermal capacity\n",
    "thresh_total = pd.read_csv(tx_path + 'thresholds/thresh_total.csv',index_col=0,parse_dates=True).tz_convert('Etc/GMT+6')['0'] + added_thermal_cap\n",
    "thresh_totalPP = pd.read_csv(tx_path + 'thresholds/thresh_totalPP.csv',index_col=0,parse_dates=True).tz_convert('Etc/GMT+6')['0'] + added_thermal_cap"
   ]
  },
  {
   "cell_type": "code",
   "execution_count": 20,
   "metadata": {
    "hidden": true
   },
   "outputs": [],
   "source": [
    "# load load forecast\n",
    "fc = pd.read_csv('/data/projects/texas-power-outages/data/input/Load/load_forecast_ercot2.csv',parse_dates=True)\n",
    "ampm = {'a.m.':0, 'p.m.':12}\n",
    "fc.index = [pd.to_datetime(d[0]) + np.timedelta64(int(d[1])+ampm.get(d[2]),'h') for d in fc['Timestamp (Hour Ending)'].str.replace('12 a.m.','0 a.m.').str.replace('12 p.m.','12 a.m.').str.split(' ')]\n",
    "fc = fc.tz_localize('Etc/GMT+6')"
   ]
  },
  {
   "cell_type": "markdown",
   "metadata": {},
   "source": [
    "# plots"
   ]
  },
  {
   "cell_type": "markdown",
   "metadata": {},
   "source": [
    "## plot outages + load + temp"
   ]
  },
  {
   "cell_type": "code",
   "execution_count": 22,
   "metadata": {},
   "outputs": [],
   "source": [
    "out_wind = pd.concat([pd.Series(0,index=load70['2021-02':'2021-02-09 23'].index), reduction.WIND])\n",
    "out_thermal = pd.concat([pd.Series(0,index=load70['2021-02':'2021-02-09 23'].index),reduction[['NG','COAL']].sum(axis=1)])\n",
    "#out = pd.concat([out_wind,out_thermal,wp],axis=1)['2021-02'].fillna(0)\n",
    "#out.columns = ['wind','thermal','wp']\n",
    "remain = (62+added_thermal_cap - out_thermal/1000 + wp/10**6*(33-out_wind/1000)/33).dropna()"
   ]
  },
  {
   "cell_type": "code",
   "execution_count": 23,
   "metadata": {},
   "outputs": [
    {
     "data": {
      "text/plain": [
       "27.933846793882594"
      ]
     },
     "execution_count": 23,
     "metadata": {},
     "output_type": "execute_result"
    }
   ],
   "source": [
    "load.load_est['2021-02-16 07']/1000 - remain['2021-02-16 07']"
   ]
  },
  {
   "cell_type": "code",
   "execution_count": 24,
   "metadata": {},
   "outputs": [
    {
     "data": {
      "text/plain": [
       "time\n",
       "2021-02-15 20:00:00-06:00    31.85593\n",
       "dtype: float64"
      ]
     },
     "execution_count": 24,
     "metadata": {},
     "output_type": "execute_result"
    }
   ],
   "source": [
    "dif = (load.load_est['2021-02']/1000 - remain['2021-02'])\n",
    "dif[dif==dif.max()]"
   ]
  },
  {
   "cell_type": "code",
   "execution_count": 25,
   "metadata": {},
   "outputs": [
    {
     "data": {
      "text/plain": [
       "108"
      ]
     },
     "execution_count": 25,
     "metadata": {},
     "output_type": "execute_result"
    }
   ],
   "source": [
    "(dif>0).sum()"
   ]
  },
  {
   "cell_type": "code",
   "execution_count": 26,
   "metadata": {},
   "outputs": [
    {
     "data": {
      "text/plain": [
       "time\n",
       "2021-02-15 00:00:00-06:00     0.170972\n",
       "2021-02-15 01:00:00-06:00     2.477034\n",
       "2021-02-15 02:00:00-06:00     7.381755\n",
       "2021-02-15 03:00:00-06:00     8.401627\n",
       "2021-02-15 04:00:00-06:00     8.844401\n",
       "                               ...    \n",
       "2021-02-19 07:00:00-06:00    13.416518\n",
       "2021-02-19 08:00:00-06:00    11.511663\n",
       "2021-02-19 09:00:00-06:00     6.483638\n",
       "2021-02-19 10:00:00-06:00     4.591233\n",
       "2021-02-19 11:00:00-06:00     1.277501\n",
       "Length: 108, dtype: float64"
      ]
     },
     "execution_count": 26,
     "metadata": {},
     "output_type": "execute_result"
    }
   ],
   "source": [
    "dif[dif>0]"
   ]
  },
  {
   "cell_type": "code",
   "execution_count": 27,
   "metadata": {},
   "outputs": [
    {
     "data": {
      "text/plain": [
       "39630.36666666667"
      ]
     },
     "execution_count": 27,
     "metadata": {},
     "output_type": "execute_result"
    }
   ],
   "source": [
    "reduction[['NG','WIND','COAL']].fillna(0).sum(axis=1)['2021-02-15 20']"
   ]
  },
  {
   "cell_type": "code",
   "execution_count": 28,
   "metadata": {},
   "outputs": [
    {
     "data": {
      "text/plain": [
       "1.6927716053002448"
      ]
     },
     "execution_count": 28,
     "metadata": {},
     "output_type": "execute_result"
    }
   ],
   "source": [
    "(load.load_est - load.load)[(load.load_est - load.load)>0]['2021-02'].sum()/10**6"
   ]
  },
  {
   "cell_type": "markdown",
   "metadata": {},
   "source": [
    "#### plot"
   ]
  },
  {
   "cell_type": "code",
   "execution_count": 29,
   "metadata": {},
   "outputs": [
    {
     "data": {
      "text/plain": [
       "1.2536298409140836"
      ]
     },
     "execution_count": 29,
     "metadata": {},
     "output_type": "execute_result"
    }
   ],
   "source": [
    "(load.load_est/1000 - thresh_totalPP)[(load.load_est/1000 - thresh_totalPP)>0]['2021-02'].sum()/1000"
   ]
  },
  {
   "cell_type": "code",
   "execution_count": 70,
   "metadata": {},
   "outputs": [],
   "source": [
    "x = reduction['2021-02-13':'2021-02-20'].index\n",
    "data_eventFeb21 = pd.DataFrame({'load':load.load['2021-02-13':'2021-02-20 23']/1000,\n",
    "                                'load_est':load.load_est['2021-02-13':'2021-02-20 23']/1000,\n",
    "                                'thresh':thresh_totalPP['2021-02-13':'2021-02-20 23'],\n",
    "                                'temp_population':tp.tp['2021-02-13':'2021-02-20'],\n",
    "                                'temp_gaspowerplant':temppp.NG['2021-02-13':'2021-02-20'],\n",
    "                                'temp_gasfield':tempgf['2021-02-13':'2021-02-20'],\n",
    "                                'temp_coalpowerplant':temppp.COAL['2021-02-13':'2021-02-20'],\n",
    "                                'temp_windparkNorth':tempwpNS.t2mNorth['2021-02-13':'2021-02-20'],\n",
    "                                'temp_windparkSouth':tempwpNS.t2mSouth['2021-02-13':'2021-02-20'],\n",
    "                                'outage_gas':reduction.NG[x]/1000,\n",
    "                                'outage_coal':reduction.COAL[x]/1000,\n",
    "                                'outage_wind':reduction.WIND[x]/1000,\n",
    "                                'outage_other':reduction[['SOLAR','ESR','HYDRO','NUCLEAR']].sum(axis=1)[x]/1000})"
   ]
  },
  {
   "cell_type": "code",
   "execution_count": 72,
   "metadata": {},
   "outputs": [],
   "source": [
    "data_eventFeb21.to_csv(fig_path_raw + 'Fig1.csv')"
   ]
  },
  {
   "cell_type": "code",
   "execution_count": 32,
   "metadata": {},
   "outputs": [
    {
     "data": {
      "image/png": "[encoded data removed]",
      "text/plain": [
       "<Figure size 864x792 with 3 Axes>"
      ]
     },
     "metadata": {},
     "output_type": "display_data"
    }
   ],
   "source": [
    "(fig,(ax1,ax2,ax3))=plt.subplots(3,1,figsize=(12,11))\n",
    "fig.subplots_adjust(hspace = .2)\n",
    "\n",
    "# POWER DEFICIT\n",
    "(load.load['2021-02-13':'2021-02-20 23']/1000).plot(ax=ax1,label='Load (ERCOT)')\n",
    "(load.load_est['2021-02-13':'2021-02-20 23']/1000).plot(ax=ax1,label='Predicted demand')\n",
    "#(fc['Demand Forecast (MWh)']['2021-02-13':'2021-02-20 23']/1000).plot(ax=ax1,label='Load forecast')\n",
    "#remain['2021-02-13':'2021-02-20 23'].plot(ax=ax1,label='Available capacity',color='black',style='--',lw=1)\n",
    "thresh_totalPP['2021-02-13':'2021-02-20 23'].plot(ax=ax1,label='Predicted available\\ncapacity',style='--',lw=1,color='black')\n",
    "# fill\n",
    "x = load.load_est['2021-02-13':'2021-02-19 13:30'].index\n",
    "#y1 = load.load[x]/1000\n",
    "y1 = thresh_totalPP[x]\n",
    "y2 =load.load_est[x]/1000\n",
    "ax1.fill_between(x,y1, y2, where=y1 <= y2,\n",
    "                 facecolor=COLORS[4], interpolate=True,alpha=0.3,label='Predicted deficit')\n",
    "\n",
    "ax1.set_ylabel('GW')\n",
    "ax1.set_ylim((35,85))\n",
    "lgd1=ax1.legend(bbox_to_anchor=(1, 1), loc='upper left')\n",
    "ax1.set_xticklabels([])\n",
    "tk = pd.Series(np.timedelta64(6,'h')*range(33)).apply(lambda x: pd.to_datetime('2021-02-13').tz_localize('Etc/GMT+6') + x)\n",
    "ax1.set_xticks(tk.values,minor=True)\n",
    "#ax1.set_xticks(tk[np.arange(0,33,4)].values,minor=False)\n",
    "ax1.set_xticks((tk[np.arange(0,33,4)]-np.timedelta64(6,'h')).values,minor=False)\n",
    "#ax1.grid(which='major',linewidth=1.5,axis='x')\n",
    "#ax1.grid(which='minor',linewidth=0.5,axis='x')\n",
    "ax1.set_xlabel('')\n",
    "ax1.set_title('(a) Power deficit')\n",
    "\n",
    "ax1.set_xlim((pd.to_datetime('2021-02-13').tz_localize('Etc/GMT+6'),pd.to_datetime('2021-02-21').tz_localize('Etc/GMT+6')))\n",
    "\n",
    "# TEMPERATURES\n",
    "tp.tp['2021-02-13':'2021-02-20'].plot(ax=ax2,linewidth=2,label='Population',color=COLORS[2])\n",
    "temppp.NG['2021-02-13':'2021-02-20'].plot(ax=ax2,lw=1,label='Gas power plants',color=COLORS[0])\n",
    "tempgf['2021-02-13':'2021-02-20'].plot(ax=ax2,lw=1,label='Gasfields',color=COLORS[5])\n",
    "temppp.COAL['2021-02-13':'2021-02-20'].plot(ax=ax2,lw=1,label='Coal power plants',color=COLORS[7])\n",
    "tempwpNS.t2mNorth['2021-02-13':'2021-02-20'].plot(ax=ax2,lw=1,label='Wind parks North',color=COLORS[1])\n",
    "tempwpNS.t2mSouth['2021-02-13':'2021-02-20'].plot(ax=ax2,lw=1,label='Wind parks South',color=COLORS[4])\n",
    "\n",
    "ax2.axhline(0,c='black',lw=0.8,ls='-.')\n",
    "ax2.set_xticklabels([])\n",
    "ax2.set_ylabel('°C')\n",
    "ax2.set_ylim((-20,15))\n",
    "ax2.set_xticks(tk.values,minor=True)\n",
    "#ax2.set_xticks(tk[np.arange(0,33,4)].values,minor=False)\n",
    "ax2.set_xticks((tk[np.arange(0,33,4)]-np.timedelta64(6,'h')).values,minor=False)\n",
    "#ax2.grid(which='major',linewidth=1.5,axis='x')\n",
    "#ax2.grid(which='minor',linewidth=0.5,axis='x')\n",
    "ax2.set_xlabel('')\n",
    "ax2.set_title('(b) Temperature')\n",
    "lgd2=ax2.legend(bbox_to_anchor=(1, 1), loc='upper left',title='Average temperature\\nweighted by')\n",
    "\n",
    "ax2.set_xlim((pd.to_datetime('2021-02-13').tz_localize('Etc/GMT+6'),pd.to_datetime('2021-02-21').tz_localize('Etc/GMT+6')))\n",
    "\n",
    "\n",
    "# OUTAGES\n",
    "#(reduction.NG/1000)['2021-02-13':'2021-02-20'].plot(ax=ax3,lw=1.5,color=COLORS[0],ls='',label='')\n",
    "\n",
    "x = reduction['2021-02-13':'2021-02-20'].index\n",
    "y1 = pd.Series(0,index=x)\n",
    "y2 = reduction.NG[x]/1000\n",
    "y3 = (reduction.NG+reduction.COAL)[x]/1000\n",
    "y4 = (reduction.NG+reduction.COAL+reduction.WIND)[x]/1000\n",
    "y5 = (reduction.fillna(0).sum(axis=1)[x]/1000)\n",
    "ax3.fill_between(x,y1, y2,facecolor=COLORS[0], interpolate=True,alpha=0.7,label='Gas')\n",
    "ax3.fill_between(x,y2, y3,facecolor=COLORS[7], interpolate=True,alpha=0.7,label='Coal')\n",
    "ax3.fill_between(x,y3, y4,facecolor=COLORS[1], interpolate=True,alpha=0.7,label='Wind')\n",
    "ax3.fill_between(x,y4, y5,facecolor=COLORS[9], interpolate=True,alpha=0.7,label='Other')\n",
    "\n",
    "\n",
    "\n",
    "ax3.set_ylabel('GW')\n",
    "ax3.set_xlim(x[0],x[-1])\n",
    "#ax3.set_ylim((-15,10))\n",
    "ax3.set_xticks(tk.values,minor=True)\n",
    "ax3.set_xticks(tk[np.arange(0,33,4)].values,minor=False)\n",
    "#ax3.grid(which='major',linewidth=1.5,axis='x')\n",
    "#ax3.grid(which='minor',linewidth=0.5,axis='x')\n",
    "#ax3.set_xticklabels(tk[np.arange(0,33,4)].dt.strftime(\"%m-%d\"))\n",
    "ax3.set_xticklabels(\"Feb\"+tk[np.arange(0,33,4)].dt.strftime(\"-%d\"))\n",
    "ax3.set_title('(c) Outage capacity (ERCOT)')\n",
    "lgd3=ax3.legend(bbox_to_anchor=(1, 1), loc='upper left')\n",
    "\n",
    "ax3.set_xlim((pd.to_datetime('2021-02-13').tz_localize('Etc/GMT+6'),pd.to_datetime('2021-02-21').tz_localize('Etc/GMT+6')))\n",
    "\n",
    "\n",
    "# vertical lines\n",
    "s = pd.to_datetime('2021-02-15 00:00').tz_localize('Etc/GMT+6')\n",
    "e = pd.to_datetime('2021-02-19 10:30').tz_localize('Etc/GMT+6')\n",
    "ax1.axvline(s,linestyle='--',color=COLORS[4],lw=1)\n",
    "ax1.axvline(e,linestyle='--',color=COLORS[4],lw=1)\n",
    "ax2.axvline(s,linestyle='--',color=COLORS[4],lw=1)\n",
    "ax2.axvline(e,linestyle='--',color=COLORS[4],lw=1)\n",
    "ax3.axvline(s,linestyle='--',color=COLORS[4],lw=1)\n",
    "ax3.axvline(e,linestyle='--',color=COLORS[4],lw=1)\n",
    "\n",
    "ax1.annotate(\"\",\n",
    "            xy=(s, 78), xycoords='data',\n",
    "            xytext=(e+np.timedelta64(1,'h'), 78), textcoords='data',\n",
    "            arrowprops=dict(arrowstyle=\"<->\",\n",
    "                            connectionstyle=\"arc3\", color='black', lw=2),\n",
    "            )\n",
    "ax1.text(pd.to_datetime('2021-02-16 14').tz_localize('Etc/GMT+6'), 80, 'Period of deficit event (ERCOT)', fontsize = 10)\n",
    "\n",
    "s1 = pd.to_datetime('2021-02-15 02:30').tz_localize('Etc/GMT+6')\n",
    "e1 = pd.to_datetime('2021-02-19 13:30').tz_localize('Etc/GMT+6')\n",
    "ax1.axvline(s1,linestyle='--',color=COLORS[6],lw=1)\n",
    "ax1.axvline(e1,linestyle='--',color=COLORS[6],lw=1)\n",
    "ax1.annotate(\"\",\n",
    "            xy=(s1, 37), xycoords='data',\n",
    "            xytext=(e1+np.timedelta64(1,'h'), 37), textcoords='data',\n",
    "            arrowprops=dict(arrowstyle=\"<->\",\n",
    "                            connectionstyle=\"arc3\", color=COLORS[6], lw=2),\n",
    "            )\n",
    "ax1.text(pd.to_datetime('2021-02-16 13').tz_localize('Etc/GMT+6'), 39, 'Period of predicted deficit event', fontsize = 10,color=COLORS[7])\n",
    "\n",
    "\n",
    "plt.savefig(fig_path + 'load_outage_temp_3fig_LR24temptrend_Hook-8_+'+str(round(added_thermal_cap,2))+'GW.pdf',dpi=300,\n",
    "           bbox_extra_artists=(lgd1,lgd2), bbox_inches='tight')\n"
   ]
  },
  {
   "cell_type": "markdown",
   "metadata": {
    "heading_collapsed": true
   },
   "source": [
    "## power plant temperatures"
   ]
  },
  {
   "cell_type": "code",
   "execution_count": null,
   "metadata": {
    "hidden": true
   },
   "outputs": [],
   "source": [
    "(fig,(ax1,ax2))=plt.subplots(2,1,figsize=(6,8))\n",
    "\n",
    "ax1.set_title('Outage')\n",
    "(reduction.COAL['2021-02-14':'2021-02-17 23']/1000).plot(label='Coal',ax=ax1,color=COLORS[1])\n",
    "(reduction.NG['2021-02-14':'2021-02-17 23']/1000).plot(label='Gas',ax=ax1,color=COLORS[0])\n",
    "ax1.set_ylabel('GW')\n",
    "ax1.set_xticklabels([])\n",
    "ax1.set_xlabel('')\n",
    "\n",
    "ax2.set_title('Temperature')\n",
    "temppp.NG['2021-02-14':'2021-02-17 23'].plot(label='Gas',ax=ax2,color=COLORS[0])\n",
    "temppp.COAL['2021-02-14':'2021-02-17 23'].plot(label='Coal',ax=ax2,color=COLORS[1])\n",
    "ax2.set_ylabel('°C')\n",
    "\n",
    "px1 = (temppp.NG['2021-02']<=out_model_param.outage_temperature_threshold['gas']).idxmax() # start gas\n",
    "px2 = (temppp.COAL['2021-02']<=out_model_param.outage_temperature_threshold['coal']).idxmax() # start coal\n",
    "ps = pd.to_datetime('2021-02-14').tz_localize('Etc/GMT+6') # start\n",
    "pr = pd.to_datetime('2021-02-16 15').tz_localize('Etc/GMT+6')# recovery\n",
    "pe = pd.to_datetime('2021-02-17 15').tz_localize('Etc/GMT+6')# end\n",
    "\n",
    "\n",
    "\n",
    "ax1.axvspan(px1, pr, alpha=0.2, color=COLORS[2])\n",
    "ax2.axvspan(px1, pr, alpha=0.2, color=COLORS[2],label='Outage time')\n",
    "ax1.axvspan(px2, pr, alpha=0.2, color=COLORS[2])\n",
    "ax2.axvspan(px2, pr, alpha=0.2, color=COLORS[2])\n",
    "ax1.axvspan(pr, pe, alpha=0.3, color=COLORS[4])\n",
    "ax2.axvspan(pr, pe, alpha=0.3, color=COLORS[4],label='Recovery time')\n",
    "\n",
    "ax2.scatter([px1,px2],[temppp.NG[px1],temppp.COAL[px2]],label='Failure')\n",
    "ax2.plot([ps,px1],[temppp.NG[px1]]*2,linewidth=0.5,color=COLORS[5])\n",
    "ax2.plot([ps,px2],[temppp.COAL[px2]]*2,linewidth=0.5,color=COLORS[5])\n",
    "\n",
    "plt.legend(bbox_to_anchor=(1.05, 1), loc='upper left')\n",
    "#handles, labels = ax2.get_legend_handles_labels()\n",
    "#ax2.legend(handles, labels)"
   ]
  },
  {
   "cell_type": "code",
   "execution_count": null,
   "metadata": {
    "hidden": true
   },
   "outputs": [],
   "source": []
  },
  {
   "cell_type": "code",
   "execution_count": null,
   "metadata": {
    "hidden": true
   },
   "outputs": [],
   "source": []
  },
  {
   "cell_type": "markdown",
   "metadata": {
    "heading_collapsed": true
   },
   "source": [
    "## gas field temperatures"
   ]
  },
  {
   "cell_type": "code",
   "execution_count": null,
   "metadata": {
    "hidden": true
   },
   "outputs": [],
   "source": [
    "(fig,(ax1,ax2))=plt.subplots(2,1,figsize=(6,8))\n",
    "\n",
    "ax1.set_title('Outage')\n",
    "(reduction.COAL['2021-02-14':'2021-02-17 23']/1000).plot(label='Coal',ax=ax1,color=COLORS[1])\n",
    "(reduction.NG['2021-02-14':'2021-02-17 23']/1000).plot(label='Gas',ax=ax1,color=COLORS[0])\n",
    "ax1.set_ylabel('GW')\n",
    "ax1.set_xticklabels([])\n",
    "ax1.set_xlabel('')\n",
    "\n",
    "ax2.set_title('Temperature')\n",
    "temppp.NG['2021-02-14':'2021-02-17 23'].plot(label='Gas',ax=ax2,color=COLORS[0])\n",
    "temppp.COAL['2021-02-14':'2021-02-17 23'].plot(label='Coal',ax=ax2,color=COLORS[1])\n",
    "tempgf['2021-02-14':'2021-02-17 23'].plot(label='Gas fields',ax=ax2,color=COLORS[4])\n",
    "ax2.set_ylabel('°C')\n",
    "\n",
    "px0 = (tempgf['2021-02']<=out_model_param.outage_temperature_threshold['gas_gasfield_temperatures']).idxmax() # start gas\n",
    "px1 = (temppp.NG['2021-02']<=out_model_param.outage_temperature_threshold['gas']).idxmax()\n",
    "px2 = (temppp.COAL['2021-02']<=out_model_param.outage_temperature_threshold['coal']).idxmax()\n",
    "ps = pd.to_datetime('2021-02-14').tz_localize('Etc/GMT+6') # start\n",
    "pr = pd.to_datetime('2021-02-16 15').tz_localize('Etc/GMT+6')# recovery\n",
    "pe = pd.to_datetime('2021-02-17 15').tz_localize('Etc/GMT+6')# end\n",
    "\n",
    "\n",
    "\n",
    "ax1.axvspan(px1, pr, alpha=0.2, color=COLORS[2])\n",
    "ax2.axvspan(px1, pr, alpha=0.2, color=COLORS[2],label='Outage time')\n",
    "ax1.axvspan(px2, pr, alpha=0.2, color=COLORS[2])\n",
    "ax2.axvspan(px2, pr, alpha=0.2, color=COLORS[2])\n",
    "ax1.axvspan(pr, pe, alpha=0.3, color=COLORS[4])\n",
    "ax2.axvspan(pr, pe, alpha=0.3, color=COLORS[4],label='Temperature\\nrecovery')\n",
    "\n",
    "ax2.scatter([px1,px2,px0],[temppp.NG[px1],temppp.COAL[px2],tempgf[px0]],label='Failure')\n",
    "ax2.plot([ps,px1],[temppp.NG[px1]]*2,linewidth=0.5,color=COLORS[5])\n",
    "ax2.plot([ps,px2],[temppp.COAL[px2]]*2,linewidth=0.5,color=COLORS[5])\n",
    "ax2.plot([ps,px0],[tempgf[px1]]*2,linewidth=0.5,color=COLORS[5])\n",
    "\n",
    "lgd=plt.legend(bbox_to_anchor=(1.05, 1.3), loc='upper left')\n",
    "\n",
    "print('temp fail gas',round(tempgf[px1],1))\n",
    "print('temp fail coal',round(temppp.COAL[px2],1))\n",
    "\n",
    "plt.savefig(fig_path + 'outages_powerplant.pdf',dpi=300,\n",
    "           bbox_extra_artists=(lgd,), bbox_inches='tight')"
   ]
  },
  {
   "cell_type": "code",
   "execution_count": null,
   "metadata": {
    "hidden": true
   },
   "outputs": [],
   "source": [
    "print('temp fail wind',round(tempwp['2021-02-15 00'],1))"
   ]
  },
  {
   "cell_type": "code",
   "execution_count": null,
   "metadata": {
    "hidden": true
   },
   "outputs": [],
   "source": [
    "print('temp fail windN',round(out_model_param.outage_temperature_threshold.wind_north,1))\n",
    "print('temp fail windS',round(out_model_param.outage_temperature_threshold.wind_south,1))"
   ]
  },
  {
   "cell_type": "markdown",
   "metadata": {},
   "source": [
    "# gas field and power plant temperatures boxplot"
   ]
  },
  {
   "cell_type": "code",
   "execution_count": 44,
   "metadata": {},
   "outputs": [],
   "source": [
    "from matplotlib.patches import Patch\n",
    "from matplotlib.lines import Line2D"
   ]
  },
  {
   "cell_type": "code",
   "execution_count": 45,
   "metadata": {},
   "outputs": [],
   "source": [
    "temp_winter = pd.concat([temppp[(temppp.index.month<3)|(temppp.index.month>11)]['2004':'2021-01'],\n",
    "                         tempgf[(tempgf.index.month<3)|(tempgf.index.month>11)]['2004':'2021-01']],axis=1)\n",
    "temp_extFeb21 = pd.concat([temppp['2021-02-15':'2021-02-16'],\n",
    "                           tempgf['2021-02-15':'2021-02-16']],axis=1)\n",
    "temp_winter.columns = temp_extFeb21.columns = ['Coal power\\nplants','Gas power\\nplants','Gasfields']\n",
    "\n",
    "temp_winter = temp_winter.melt(value_vars=['Coal power\\nplants','Gas power\\nplants','Gasfields'])\n",
    "temp_extFeb21 = temp_extFeb21.melt(value_vars=['Coal power\\nplants','Gas power\\nplants','Gasfields'])"
   ]
  },
  {
   "cell_type": "code",
   "execution_count": 46,
   "metadata": {},
   "outputs": [],
   "source": [
    "date_fail_gas = (tempgf['2021-02']<=out_model_param.outage_temperature_threshold['gas_gasfield_temperatures']).idxmax()\n",
    "date_fail_gasPP = (temppp.NG['2021-02']<=out_model_param.outage_temperature_threshold['gas']).idxmax()\n",
    "date_fail_coal = (temppp.COAL['2021-02']<=out_model_param.outage_temperature_threshold['coal']).idxmax()\n",
    "fail_temp = pd.DataFrame({'temp':[temppp.COAL[date_fail_coal],\n",
    "                                  temppp.NG[date_fail_gasPP],\n",
    "                                  tempgf[date_fail_gas]],\n",
    "                          'type':['Coal power\\nplants','Gas power\\nplants','Gasfields']})"
   ]
  },
  {
   "cell_type": "code",
   "execution_count": 47,
   "metadata": {},
   "outputs": [],
   "source": [
    "temp_winter70 = pd.concat([temppp[(temppp.index.month<3)|(temppp.index.month>11)][:'2021-01'],\n",
    "                           tempgf[(tempgf.index.month<3)|(tempgf.index.month>11)][:'2021-01']],axis=1)\n",
    "temp_winter70.columns = ['Coal power\\nplants','Gas power\\nplants','Gasfields']\n",
    "\n",
    "temp_winter70 = temp_winter70.melt(value_vars=['Coal power\\nplants','Gas power\\nplants','Gasfields'])"
   ]
  },
  {
   "cell_type": "code",
   "execution_count": 48,
   "metadata": {},
   "outputs": [],
   "source": [
    "temp_winter17_70 = pd.concat([temp_winter,temp_winter70])\n",
    "temp_winter17_70['timespan'] = ['17y']*len(temp_winter) + ['71y']*len(temp_winter70)"
   ]
  },
  {
   "cell_type": "code",
   "execution_count": 49,
   "metadata": {},
   "outputs": [],
   "source": [
    "tempwp_winter17N = pd.DataFrame({'variable':'Wind power\\nplants North',\n",
    "                                'value':tempwpNS.t2mNorth[(tempwpNS.index.month<3)|(tempwpNS.index.month>11)]['2004':'2021-01'].values,\n",
    "                                'timespan':'17y'})\n",
    "tempwp_winter71N = pd.DataFrame({'variable':'Wind power\\nplants North',\n",
    "                                'value':tempwpNS.t2mNorth[(tempwpNS.index.month<3)|(tempwpNS.index.month>11)][:'2021-01'].values,\n",
    "                                'timespan':'71y'})\n",
    "tempwp_winter17S = pd.DataFrame({'variable':'Wind power\\nplants South',\n",
    "                                'value':tempwpNS.t2mSouth[(tempwpNS.index.month<3)|(tempwpNS.index.month>11)]['2004':'2021-01'].values,\n",
    "                                'timespan':'17y'})\n",
    "tempwp_winter71S = pd.DataFrame({'variable':'Wind power\\nplants South',\n",
    "                                'value':tempwpNS.t2mSouth[(tempwpNS.index.month<3)|(tempwpNS.index.month>11)][:'2021-01'].values,\n",
    "                                'timespan':'71y'})\n",
    "temp_winter17_70wind = pd.concat([temp_winter17_70,tempwp_winter17N,tempwp_winter71N,\n",
    "                                                   tempwp_winter17S,tempwp_winter71S],axis=0)"
   ]
  },
  {
   "cell_type": "code",
   "execution_count": 50,
   "metadata": {},
   "outputs": [],
   "source": [
    "fail_temp_windN = out_model_param.outage_temperature_threshold['wind_north']\n",
    "fail_temp_windS = out_model_param.outage_temperature_threshold['wind_south']"
   ]
  },
  {
   "cell_type": "code",
   "execution_count": 51,
   "metadata": {},
   "outputs": [],
   "source": [
    "temp_extFeb21wind = pd.concat([temp_extFeb21,pd.DataFrame({'variable':'Wind power\\nplants North',\n",
    "                                                           'value':tempwpNS.t2mNorth['2021-02-15':'2021-02-16'].values}),\n",
    "                                             pd.DataFrame({'variable':'Wind power\\nplants South',\n",
    "                                                           'value':tempwpNS.t2mSouth['2021-02-15':'2021-02-16'].values})])"
   ]
  },
  {
   "cell_type": "code",
   "execution_count": 52,
   "metadata": {},
   "outputs": [
    {
     "data": {
      "text/html": [
       "<div>\n",
       "<style scoped>\n",
       "    .dataframe tbody tr th:only-of-type {\n",
       "        vertical-align: middle;\n",
       "    }\n",
       "\n",
       "    .dataframe tbody tr th {\n",
       "        vertical-align: top;\n",
       "    }\n",
       "\n",
       "    .dataframe thead th {\n",
       "        text-align: right;\n",
       "    }\n",
       "</style>\n",
       "<table border=\"1\" class=\"dataframe\">\n",
       "  <thead>\n",
       "    <tr style=\"text-align: right;\">\n",
       "      <th></th>\n",
       "      <th>value</th>\n",
       "    </tr>\n",
       "    <tr>\n",
       "      <th>variable</th>\n",
       "      <th></th>\n",
       "    </tr>\n",
       "  </thead>\n",
       "  <tbody>\n",
       "    <tr>\n",
       "      <th>Coal power\\nplants</th>\n",
       "      <td>10.473391</td>\n",
       "    </tr>\n",
       "    <tr>\n",
       "      <th>Gas power\\nplants</th>\n",
       "      <td>11.310700</td>\n",
       "    </tr>\n",
       "    <tr>\n",
       "      <th>Gasfields</th>\n",
       "      <td>10.008045</td>\n",
       "    </tr>\n",
       "    <tr>\n",
       "      <th>Wind power\\nplants North</th>\n",
       "      <td>6.853778</td>\n",
       "    </tr>\n",
       "    <tr>\n",
       "      <th>Wind power\\nplants South</th>\n",
       "      <td>16.550273</td>\n",
       "    </tr>\n",
       "  </tbody>\n",
       "</table>\n",
       "</div>"
      ],
      "text/plain": [
       "                              value\n",
       "variable                           \n",
       "Coal power\\nplants        10.473391\n",
       "Gas power\\nplants         11.310700\n",
       "Gasfields                 10.008045\n",
       "Wind power\\nplants North   6.853778\n",
       "Wind power\\nplants South  16.550273"
      ]
     },
     "execution_count": 52,
     "metadata": {},
     "output_type": "execute_result"
    }
   ],
   "source": [
    "temp_winter17_70wind[temp_winter17_70wind.timespan=='17y'].groupby('variable').median()"
   ]
  },
  {
   "cell_type": "code",
   "execution_count": 53,
   "metadata": {},
   "outputs": [
    {
     "name": "stderr",
     "output_type": "stream",
     "text": [
      "/home/kgruber/.conda/envs/py39/lib/python3.9/site-packages/seaborn/categorical.py:1296: UserWarning: 6.2% of the points cannot be placed; you may want to decrease the size of the markers or use stripplot.\n",
      "  warnings.warn(msg, UserWarning)\n"
     ]
    },
    {
     "data": {
      "image/png": "[encoded data removed]",
      "text/plain": [
       "<Figure size 432x288 with 1 Axes>"
      ]
     },
     "metadata": {},
     "output_type": "display_data"
    }
   ],
   "source": [
    "ax = sns.boxplot(data=temp_winter17_70wind,x='variable',y='value',hue='timespan',fliersize=1)\n",
    "\n",
    "sns.swarmplot(data=temp_extFeb21wind,x='variable',y='value',color=COLORS[2],alpha=0.6,ax=ax)\n",
    "ax.axhline(fail_temp.temp[0],0,0.2, ls='--')\n",
    "ax.axhline(fail_temp.temp[1],0.2,0.4, ls='--')\n",
    "ax.axhline(fail_temp.temp[2],0.4,0.6, ls='--')\n",
    "ax.axhline(fail_temp_windN,0.6,0.8, ls='--')\n",
    "ax.axhline(fail_temp_windS,0.8,1, ls='--')\n",
    "\n",
    "legend_elements = [Line2D([0], [0], marker='o', color=COLORS[2], label='February 15th\\n and 16th 2021',\n",
    "                          markerfacecolor=COLORS[2], markersize=5,linewidth=0),\n",
    "                   Line2D([0], [0], linestyle='--', color=COLORS[5], label='at failure',\n",
    "                          markerfacecolor=COLORS[0], markersize=9),\n",
    "                   Patch(facecolor=COLORS[0], edgecolor='black',\n",
    "                         label='2004-2021/01'),\n",
    "                  Patch(facecolor=COLORS[1], edgecolor='black',\n",
    "                         label='1950-2021/01')]\n",
    "lgd=ax.legend(handles=legend_elements, bbox_to_anchor=(1.05, 1), loc='upper left')#loc='upper right')\n",
    "plt.ylabel('Temperature °C')\n",
    "plt.xlabel('')\n",
    "\n",
    "medians1 = temp_winter17_70wind[temp_winter17_70wind.timespan=='17y'].groupby('variable').median().values\n",
    "nobs1 = temp_winter17_70wind[temp_winter17_70wind.timespan=='17y'].groupby('variable').count().values[:,0]\n",
    "medians2 = temp_winter17_70wind[temp_winter17_70wind.timespan=='71y'].groupby('variable').median().values\n",
    "nobs2 = temp_winter17_70wind[temp_winter17_70wind.timespan=='71y'].groupby('variable').count().values[:,0]\n",
    " \n",
    "# Add it to the plot\n",
    "pos1 = range(len(nobs1))\n",
    "for tick,label in zip(pos1,ax.get_xticklabels()):\n",
    "    ax.text(pos1[tick]-0.2,\n",
    "            medians1[tick] + 0.3,\n",
    "            'n=\\n'+str(nobs1[tick]),\n",
    "            horizontalalignment='center',\n",
    "            size='x-small',\n",
    "            color='white',\n",
    "            weight='semibold')\n",
    "pos2 = range(len(nobs2))\n",
    "for tick,label in zip(pos2,ax.get_xticklabels()):\n",
    "    ax.text(pos2[tick]+0.2,\n",
    "            medians2[tick] + 0.3,\n",
    "            'n=\\n'+str(nobs2[tick]),\n",
    "            horizontalalignment='center',\n",
    "            size='x-small',\n",
    "            color='white',\n",
    "            weight='semibold')\n",
    "\n",
    "\n",
    "plt.savefig(fig_path + 'temp_gasfields_powerplants70y_wind.pdf',dpi=300,\n",
    "           bbox_extra_artists=(lgd,), bbox_inches='tight')"
   ]
  },
  {
   "cell_type": "code",
   "execution_count": 66,
   "metadata": {},
   "outputs": [],
   "source": [
    "# save data\n",
    "temp_winter17_70wind.to_csv(fig_path_raw + 'FigA2_winter_temperatures.csv')\n",
    "fail_temps = pd.concat([fail_temp,pd.DataFrame({'temp':[fail_temp_windN,fail_temp_windS],\n",
    "                                                'type':['Wind power\\nplants North','Wind power\\nplants South']})],axis=0)\n",
    "fail_temps.to_csv(fig_path_raw + 'FigA2_failure_temperatures.csv')"
   ]
  },
  {
   "cell_type": "code",
   "execution_count": 62,
   "metadata": {},
   "outputs": [],
   "source": []
  },
  {
   "cell_type": "markdown",
   "metadata": {},
   "source": [
    "# define outage functions"
   ]
  },
  {
   "cell_type": "markdown",
   "metadata": {},
   "source": [
    "## plot threshold functions"
   ]
  },
  {
   "cell_type": "code",
   "execution_count": null,
   "metadata": {},
   "outputs": [],
   "source": [
    "t0 = (temppp.NG['2021-02']<=out_model_param.outage_temperature_threshold['gas']).idxmax()\n",
    "t1 = (temppp.NG[t0:]>=out_model_param.recovery_temperature_threshold ['gas']).idxmax()\n",
    "k = out_model_param.outage_capacity.gas/out_model_param.recovery_length.gas\n",
    "max_out = round(float(out_model_param.outage_capacity['gas']),1)\n",
    "\n",
    "(reduction.NG['2021-02']/1000).plot(label='outage GW')\n",
    "t2 = t1 + np.timedelta64(int(round(max_out/k)),'h')\n",
    "#plt.plot([t0,t1,t2],[max_out,max_out,0],color=COLORS[1],linewidth=1,label='approx. outage')\n",
    "pd.Series([max_out,max_out,0],index=[t0,t1,t2]).plot(color=COLORS[1],linewidth=1,label='approx. outage')\n",
    "plt.text(t2,5,'k='+str(round(k,3))+'GW/h',color=COLORS[1])\n",
    "tempgf['2021-02-10':].plot(label='temp °C',color=COLORS[4])\n",
    "plt.axvline(x=t0,ls='-',color=COLORS[2],linewidth=1,label='failure')\n",
    "plt.legend(loc='lower right')\n",
    "plt.title('GAS')\n",
    "print('t0-t1:',(t1-t0)/np.timedelta64(1,'h'))\n",
    "print('k:',round(k,3))\n",
    "print('temp_thresh:',round(tempgf[t0],2))\n",
    "print('max_out:',round(max_out,1))\n",
    "\n",
    "tmin = reduction.NG['2021-02'].index[0]\n",
    "tmax = reduction.NG['2021-02'].index[-1]\n",
    "plt.hlines(0,tmin,tmax,color='black',lw=0.5)\n",
    "\n",
    "plt.savefig(fig_path + 'thresh_gasPP.pdf',dpi=300)"
   ]
  },
  {
   "cell_type": "code",
   "execution_count": null,
   "metadata": {},
   "outputs": [],
   "source": [
    "t0 = (tempwpNS.t2mNorth['2021-02-10':'2021-02-28']<=out_model_param.outage_temperature_threshold['wind_north']).idxmax()\n",
    "t1 = (tempwpNS.t2mNorth[(t0+np.timedelta64(10,'h')):]>=out_model_param.recovery_temperature_threshold ['wind_north']).idxmax()\n",
    "max_out = round(float(out_model_param.outage_capacity['wind_north']),1)\n",
    "k = out_model_param.outage_capacity.wind_north/out_model_param.recovery_length.wind_north\n",
    "\n",
    "t2 = t1 + np.timedelta64(int(round(max_out/k)),'h')\n",
    "#(reduction.WIND['2021-02']/1000).plot(label='outage GW')\n",
    "(reductionN.WIND['2021-02']/1000).plot(label='outage GW')\n",
    "#plt.plot([t0,t1,t2],[max_out,max_out,0],color=COLORS[1],linewidth=1,label='approx. outage')\n",
    "pd.Series([max_out,max_out,0],index=[t0,t1,t2]).plot(color=COLORS[1],linewidth=1,label='approx. outage')\n",
    "plt.text(t2,5,'k='+str(round(k,3))+'GW/h',color=COLORS[1])\n",
    "tempwpNS.t2mNorth['2021-02-10':].plot(label='temp °C',color=COLORS[4])\n",
    "plt.axvline(x=t0,ls='-',color=COLORS[2],linewidth=1,label='failure')\n",
    "plt.legend(loc='lower right')\n",
    "plt.title('WIND N')\n",
    "\n",
    "print('t0-t1:',(t1-t0)/np.timedelta64(1,'h'))\n",
    "print('t1-t2:',(t2-t1)/np.timedelta64(1,'h'))\n",
    "print('k:',round(k,3))\n",
    "print('temp_thresh:',round(tempwpNS.t2mNorth[t0],2))\n",
    "print('max_out:',round(max_out,1))\n",
    "\n",
    "tmin = reductionN.WIND['2021-02'].index[0]\n",
    "tmax = reductionN.WIND['2021-02'].index[-1]\n",
    "plt.hlines(0,tmin,tmax,color='black',lw=0.5)\n",
    "\n",
    "plt.savefig(fig_path + 'thresh_windN.pdf',dpi=300)"
   ]
  },
  {
   "cell_type": "code",
   "execution_count": null,
   "metadata": {},
   "outputs": [],
   "source": [
    "t0 = (tempwpNS.t2mSouth['2021-02-10':'2021-02-28']<=out_model_param.outage_temperature_threshold['wind_south']).idxmax()\n",
    "t1 = (tempwpNS.t2mSouth[(t0+np.timedelta64(10,'h')):]>=out_model_param.recovery_temperature_threshold ['wind_south']).idxmax()\n",
    "max_out = round(float(out_model_param.outage_capacity['wind_south']),1)\n",
    "k = out_model_param.outage_capacity.wind_south/out_model_param.recovery_length.wind_south\n",
    "\n",
    "t2 = t1 + np.timedelta64(int(round(max_out/k)),'h')\n",
    "(reductionS.WIND['2021-02']/1000).plot(label='outage GW')\n",
    "#plt.plot([t0,t1,t2],[max_out,max_out,0],color=COLORS[1],linewidth=1,label='approx. outage')\n",
    "pd.Series([max_out,max_out,0],index=[t0,t1,t2]).plot(color=COLORS[1],linewidth=1,label='approx. outage')\n",
    "plt.text(t2,20,'k='+str(round(k,3))+'GW/h',color=COLORS[1])\n",
    "tempwpNS.t2mSouth['2021-02-10':].plot(label='temp °C',color=COLORS[4])\n",
    "plt.axvline(x=t0,ls='-',color=COLORS[2],linewidth=1,label='failure')\n",
    "plt.legend(loc='lower right')\n",
    "plt.title('WIND S')\n",
    "\n",
    "print('t0-t1:',(t1-t0)/np.timedelta64(1,'h'))\n",
    "print('t1-t2:',(t2-t1)/np.timedelta64(1,'h'))\n",
    "print('k:',round(k,3))\n",
    "print('temp_thresh:',round(tempwpNS.t2mSouth[t0],2))\n",
    "print('max_out:',round(max_out,1))\n",
    "\n",
    "tmin = reductionS.WIND['2021-02'].index[0]\n",
    "tmax = reductionS.WIND['2021-02'].index[-1]\n",
    "plt.hlines(0,tmin,tmax,color='black',lw=0.5)\n",
    "\n",
    "plt.savefig(fig_path + 'thresh_windS.pdf',dpi=300)"
   ]
  },
  {
   "cell_type": "code",
   "execution_count": null,
   "metadata": {},
   "outputs": [],
   "source": [
    "t0 = (temppp.COAL['2021-02']<=out_model_param.outage_temperature_threshold['coal']).idxmax()\n",
    "t1 = (temppp.COAL[t0:]>=out_model_param.recovery_temperature_threshold ['coal']).idxmax()\n",
    "max_out = round(float(out_model_param.outage_capacity['coal']),1)\n",
    "k = out_model_param.outage_capacity.coal/out_model_param.recovery_length.coal\n",
    "\n",
    "t2 = t1 + np.timedelta64(int(round(max_out/k)),'h')\n",
    "(reduction.COAL['2021-02']/1000).plot(label='outage GW')\n",
    "#plt.plot([t0,t1,t2],[max_out,max_out,0],color=COLORS[1],linewidth=1,label='approx. outage')\n",
    "pd.Series([max_out,max_out,0],index=[t0,t1,t2]).plot(color=COLORS[1],linewidth=1,label='approx. outage')\n",
    "plt.text(t2,2,'k='+str(round(k,3))+'GW/h',color=COLORS[1])\n",
    "temppp.COAL['2021-02-10':].plot(label='temp °C',color=COLORS[4])\n",
    "plt.axvline(x=t0,ls='-',color=COLORS[2],linewidth=1,label='failure')\n",
    "plt.legend(loc='lower right')\n",
    "plt.title('COAL')\n",
    "\n",
    "print('t0-t1:',(t1-t0)/np.timedelta64(1,'h'))\n",
    "print('k:',round(k,3))\n",
    "print('temp_thresh:',round(temppp.COAL[t0],2))\n",
    "print('max_out:',round(max_out,1))\n",
    "\n",
    "tmin = reductionS.WIND['2021-02'].index[0]\n",
    "tmax = reductionS.WIND['2021-02'].index[-1]\n",
    "plt.hlines(0,tmin,tmax,color='black',lw=0.5)\n",
    "\n",
    "plt.savefig(fig_path + 'thresh_coal.pdf',dpi=300)"
   ]
  },
  {
   "cell_type": "markdown",
   "metadata": {},
   "source": [
    "## get threshold functions"
   ]
  },
  {
   "cell_type": "code",
   "execution_count": 65,
   "metadata": {
    "code_folding": [
     0
    ]
   },
   "outputs": [],
   "source": [
    "def get_thresh_monthly(temp,temp_fail,temp_recover,cap_loss,k):\n",
    "    available_cap = pd.Series(0,index=temp.index)\n",
    "    below_thresh = temp[temp<temp_fail].resample('M').count().replace(0,np.nan).dropna()\n",
    "    h_recovery = int(-cap_loss/k)\n",
    "    for i in range(len(below_thresh)):\n",
    "        ym = below_thresh.index.strftime(\"%Y-%m\")[i]\n",
    "        t0 = (temp[ym]<temp_fail).idxmax()\n",
    "        t1 = (temp[(t0+np.timedelta64(10,'h')):]>temp_recover).idxmax()\n",
    "        const_time = int((t1-t0)/np.timedelta64(1,'h'))\n",
    "        t2 = t1 + np.timedelta64(h_recovery-1,'h')\n",
    "        available_cap[t0:t2] = cap_loss + k*np.concatenate([np.array([0]*const_time),np.arange(h_recovery)])[:len(available_cap[t0:t2])]\n",
    "    return(available_cap)"
   ]
  },
  {
   "cell_type": "markdown",
   "metadata": {},
   "source": [
    "make a second threshold function which iterates over each occurrence of temperatures below threshold\n",
    "\n",
    "after getting t1 of one threshold, search for next"
   ]
  },
  {
   "cell_type": "code",
   "execution_count": 66,
   "metadata": {
    "code_folding": [
     0
    ]
   },
   "outputs": [],
   "source": [
    "def get_thresh(temp,temp_fail,temp_recover,cap_loss,k):\n",
    "    available_cap = pd.Series(0,index=temp.index)\n",
    "    below_thresh = temp[temp<temp_fail].resample('M').count().replace(0,np.nan).dropna()\n",
    "    ym = below_thresh.index.strftime(\"%Y-%m\")\n",
    "    h_recovery = int(-cap_loss/k)\n",
    "    for i in range(len(below_thresh)):\n",
    "        t1 = pd.to_datetime(ym[i])\n",
    "        while(t1.strftime(\"%Y-%m\")==ym[i]):\n",
    "            t0 = (temp[t1:]<temp_fail).idxmax()\n",
    "            t1 = (temp[(t0+np.timedelta64(10,'h')):]>temp_recover).idxmax()\n",
    "            const_time = int((t1-t0)/np.timedelta64(1,'h'))\n",
    "            t2 = t1 + np.timedelta64(h_recovery-1,'h')\n",
    "            available_cap[t0:t2] = cap_loss + k*np.concatenate([np.array([0]*const_time),np.arange(h_recovery)])[:len(available_cap[t0:t2])]\n",
    "            if sum(temp[t1:]<temp_fail)==0:\n",
    "                break\n",
    "    return(available_cap)"
   ]
  },
  {
   "cell_type": "code",
   "execution_count": 67,
   "metadata": {},
   "outputs": [],
   "source": [
    "temp = temppp.COAL\n",
    "temp_fail = out_model_param.outage_temperature_threshold.coal\n",
    "temp_recover = out_model_param.recovery_temperature_threshold.coal\n",
    "cap_loss = out_model_param.outage_capacity.coal\n",
    "k = -out_model_param.outage_capacity.coal/out_model_param.recovery_length.coal\n",
    "\n",
    "\n",
    "thresh_coal = get_thresh(temp,temp_fail,temp_recover,cap_loss,k)"
   ]
  },
  {
   "cell_type": "code",
   "execution_count": 68,
   "metadata": {},
   "outputs": [],
   "source": [
    "temp = tempgf\n",
    "temp_fail = out_model_param.outage_temperature_threshold.gas_gasfield_temperatures\n",
    "temp_recover = out_model_param.recovery_temperature_threshold.gas_gasfield_temperatures\n",
    "cap_loss = out_model_param.outage_capacity.gas_gasfield_temperatures\n",
    "k = -out_model_param.outage_capacity.gas_gasfield_temperatures/out_model_param.recovery_length.gas_gasfield_temperatures\n",
    "\n",
    "thresh_gas = get_thresh(temp,temp_fail,temp_recover,cap_loss,k)"
   ]
  },
  {
   "cell_type": "code",
   "execution_count": 69,
   "metadata": {},
   "outputs": [],
   "source": [
    "temp = temppp.NG\n",
    "temp_fail = out_model_param.outage_temperature_threshold.gas\n",
    "temp_recover = out_model_param.recovery_temperature_threshold.gas\n",
    "cap_loss = out_model_param.outage_capacity.gas\n",
    "k = -out_model_param.outage_capacity.gas/out_model_param.recovery_length.gas\n",
    "\n",
    "thresh_gasPP = get_thresh(temp,temp_fail,temp_recover,cap_loss,k)"
   ]
  },
  {
   "cell_type": "code",
   "execution_count": 70,
   "metadata": {},
   "outputs": [],
   "source": [
    "temp = tempwpNS.t2mNorth\n",
    "temp_fail = out_model_param.outage_temperature_threshold.wind_north\n",
    "temp_recover = out_model_param.recovery_temperature_threshold.wind_north\n",
    "cap_loss = out_model_param.outage_capacity.wind_north\n",
    "k = -out_model_param.outage_capacity.wind_north/out_model_param.recovery_length.wind_north\n",
    "\n",
    "thresh_windN = get_thresh(temp,temp_fail,temp_recover,cap_loss,k)"
   ]
  },
  {
   "cell_type": "code",
   "execution_count": 71,
   "metadata": {},
   "outputs": [],
   "source": [
    "temp = tempwpNS.t2mSouth\n",
    "temp_fail = out_model_param.outage_temperature_threshold.wind_south\n",
    "temp_recover = out_model_param.recovery_temperature_threshold.wind_south\n",
    "cap_loss = out_model_param.outage_capacity.wind_south\n",
    "k = -out_model_param.outage_capacity.wind_south/out_model_param.recovery_length.wind_south\n",
    "\n",
    "thresh_windS = get_thresh(temp,temp_fail,temp_recover,cap_loss,k)"
   ]
  },
  {
   "cell_type": "markdown",
   "metadata": {},
   "source": [
    "62GW thermal resources according to SARA report - error- add some more"
   ]
  },
  {
   "cell_type": "code",
   "execution_count": 72,
   "metadata": {},
   "outputs": [],
   "source": [
    "thresh_gas_coal = 62 + added_thermal_cap - (thresh_gas + thresh_coal)"
   ]
  },
  {
   "cell_type": "code",
   "execution_count": 73,
   "metadata": {},
   "outputs": [],
   "source": [
    "thresh_gas_coalPP = 62 + added_thermal_cap - (thresh_gasPP + thresh_coal)"
   ]
  },
  {
   "cell_type": "markdown",
   "metadata": {},
   "source": [
    "wind outages are subtracted from wind power generation\n",
    "\n",
    "total installed cap wind: 33GW\n",
    "-> calculate share of wind reduction"
   ]
  },
  {
   "cell_type": "code",
   "execution_count": 74,
   "metadata": {},
   "outputs": [],
   "source": [
    "wp_remain = wp/10**6*(33-thresh_windN-thresh_windS)/33"
   ]
  },
  {
   "cell_type": "code",
   "execution_count": 75,
   "metadata": {},
   "outputs": [],
   "source": [
    "thresh_total = thresh_gas_coal + wp_remain"
   ]
  },
  {
   "cell_type": "code",
   "execution_count": 76,
   "metadata": {},
   "outputs": [],
   "source": [
    "thresh_totalPP = thresh_gas_coalPP + wp_remain"
   ]
  },
  {
   "cell_type": "code",
   "execution_count": 80,
   "metadata": {},
   "outputs": [],
   "source": [
    "thresh_gas.to_csv(tx_path + 'thresholds/threshold_gas.csv',header=False)\n",
    "thresh_gasPP.to_csv(tx_path + 'thresholds/threshold_gasPP.csv',header=False)\n",
    "thresh_coal.to_csv(tx_path + 'thresholds/threshold_coal.csv',header=False)\n",
    "thresh_gas_coal.to_csv(tx_path + 'thresholds/threshold_gas_coal63.5GW.csv',header=False)\n",
    "thresh_gas_coalPP.to_csv(tx_path + 'thresholds/threshold_gas_coalPP63.5GW.csv',header=False)\n",
    "thresh_total.to_csv(tx_path + 'thresholds/thresh_total63.5GW.csv',header='thresh')\n",
    "thresh_totalPP.to_csv(tx_path + 'thresholds/thresh_totalPP63.5GW.csv',header='thresh')"
   ]
  },
  {
   "cell_type": "code",
   "execution_count": null,
   "metadata": {},
   "outputs": [],
   "source": []
  },
  {
   "cell_type": "markdown",
   "metadata": {},
   "source": [
    "### expected deficit for 71 years with and  without 2021"
   ]
  },
  {
   "cell_type": "code",
   "execution_count": 81,
   "metadata": {},
   "outputs": [],
   "source": [
    "thresh_totalPP = pd.read_csv(tx_path + 'thresholds/thresh_totalPP63.5GW.csv',index_col=0,parse_dates=True).tz_convert('Etc/GMT+6')['0']"
   ]
  },
  {
   "cell_type": "markdown",
   "metadata": {},
   "source": [
    "gas power plant temperatures"
   ]
  },
  {
   "cell_type": "code",
   "execution_count": 82,
   "metadata": {},
   "outputs": [
    {
     "name": "stdout",
     "output_type": "stream",
     "text": [
      "number of events 26\n",
      "sum outages 7.66 TWh\n",
      "sum outages before 2021 6.17 TWh\n",
      "sum outages 2021 1.49 TWh\n"
     ]
    }
   ],
   "source": [
    "bef2021 = round((load70.load_est/1000 - thresh_totalPP)[(load70.load_est/1000 - thresh_totalPP)>0][:'2020'].sum()/1000,2)\n",
    "with2021 = round((load70.load_est/1000 - thresh_totalPP)[(load70.load_est/1000 - thresh_totalPP)>0].sum()/1000,2)\n",
    "only2021 = round((load70.load_est/1000 - thresh_totalPP)[(load70.load_est/1000 - thresh_totalPP)>0]['2021-02'].sum()/1000,2)\n",
    "numevents = len((load70.load_est/1000 - thresh_totalPP)[(load70.load_est/1000 - thresh_totalPP)>0].resample('M').count().replace(0,np.nan).dropna())\n",
    "print('number of events',numevents)\n",
    "print('sum outages',with2021,'TWh')\n",
    "print('sum outages before 2021',bef2021,'TWh')\n",
    "print('sum outages 2021',only2021,'TWh')"
   ]
  },
  {
   "cell_type": "raw",
   "metadata": {},
   "source": [
    "old results\n",
    "\n",
    "number of events 9\n",
    "sum outages 6.12 TWh\n",
    "sum outages before 2021 4.73 TWh\n",
    "sum outages 2021 1.39 TWh"
   ]
  },
  {
   "cell_type": "code",
   "execution_count": null,
   "metadata": {},
   "outputs": [],
   "source": []
  },
  {
   "cell_type": "code",
   "execution_count": null,
   "metadata": {},
   "outputs": [],
   "source": []
  }
 ],
 "metadata": {
  "kernelspec": {
   "display_name": "Python [conda env:.conda-py39]",
   "language": "python",
   "name": "conda-env-.conda-py39-py"
  },
  "language_info": {
   "codemirror_mode": {
    "name": "ipython",
    "version": 3
   },
   "file_extension": ".py",
   "mimetype": "text/x-python",
   "name": "python",
   "nbconvert_exporter": "python",
   "pygments_lexer": "ipython3",
   "version": "3.9.6"
  }
 },
 "nbformat": 4,
 "nbformat_minor": 4
}
