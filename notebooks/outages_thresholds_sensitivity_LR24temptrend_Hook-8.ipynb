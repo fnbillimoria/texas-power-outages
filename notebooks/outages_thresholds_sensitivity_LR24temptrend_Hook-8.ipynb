{
 "cells": [
  {
   "cell_type": "code",
   "execution_count": 1,
   "metadata": {},
   "outputs": [],
   "source": [
    "import matplotlib.pyplot as plt\n",
    "import pandas as pd\n",
    "import xarray as xr\n",
    "import numpy as np\n",
    "\n",
    "import sys\n",
    "sys.path.append('./../scripts')\n",
    "\n",
    "from refuelplot import *\n",
    "setup()\n",
    "sns.set_style(\"darkgrid\")"
   ]
  },
  {
   "cell_type": "code",
   "execution_count": 14,
   "metadata": {},
   "outputs": [],
   "source": [
    "tx_path = '/data/projects/texas-power-outages/data/interim/'\n",
    "fig_path = '/data/projects/texas-power-outages/data/figures/'\n",
    "out_path = '/data/projects/texas-power-outages/data/output/'\n",
    "fig_path_raw = fig_path+'raw_data/'"
   ]
  },
  {
   "cell_type": "markdown",
   "metadata": {},
   "source": [
    "# load data"
   ]
  },
  {
   "cell_type": "markdown",
   "metadata": {
    "heading_collapsed": true
   },
   "source": [
    "### load outages"
   ]
  },
  {
   "cell_type": "code",
   "execution_count": 3,
   "metadata": {
    "hidden": true
   },
   "outputs": [],
   "source": [
    "reduction= pd.read_csv(tx_path+'outages/outages_reduction.csv',index_col=0,parse_dates=True).tz_convert('Etc/GMT+6')"
   ]
  },
  {
   "cell_type": "markdown",
   "metadata": {
    "heading_collapsed": true
   },
   "source": [
    "### load load"
   ]
  },
  {
   "cell_type": "code",
   "execution_count": 4,
   "metadata": {
    "hidden": true
   },
   "outputs": [],
   "source": [
    "# get load\n",
    "load = pd.read_csv(tx_path + 'load/load_est_LR24temptrend_Hook-8.csv',index_col=0,parse_dates=True).tz_convert('Etc/GMT+6')\n",
    "load70 = pd.read_csv(tx_path + 'load/load_est70_LR24_temptrend_Hook-8.csv',index_col=0,parse_dates=True).tz_convert('Etc/GMT+6')"
   ]
  },
  {
   "cell_type": "markdown",
   "metadata": {},
   "source": [
    "### load temperature"
   ]
  },
  {
   "cell_type": "code",
   "execution_count": 12,
   "metadata": {},
   "outputs": [],
   "source": [
    "# load power plant temperatures\n",
    "temppp = pd.read_csv(tx_path + 'temperatures/temppowerplant.csv',index_col=0,parse_dates=True).tz_localize('UTC').tz_convert('Etc/GMT+6')"
   ]
  },
  {
   "cell_type": "code",
   "execution_count": 7,
   "metadata": {},
   "outputs": [],
   "source": [
    "# load gas field temperatures\n",
    "tempgf = pd.read_csv(tx_path + 'temperatures/temp_gasfields.csv',index_col=0,parse_dates=True).t2m.tz_convert('Etc/GMT+6')"
   ]
  },
  {
   "cell_type": "code",
   "execution_count": 9,
   "metadata": {},
   "outputs": [],
   "source": [
    "# get temperature at windparks\n",
    "tempwp = pd.read_csv(tx_path + 'temperatures/tempWP.csv',parse_dates=True,index_col=0).tz_convert('Etc/GMT+6').t2m\n",
    "tempwpNS = pd.read_csv(tx_path + 'temperatures/tempWP_NSsplit.csv',parse_dates=True,index_col=0).tz_convert('Etc/GMT+6')"
   ]
  },
  {
   "cell_type": "markdown",
   "metadata": {
    "heading_collapsed": true
   },
   "source": [
    "### load windpower"
   ]
  },
  {
   "cell_type": "code",
   "execution_count": 10,
   "metadata": {
    "hidden": true
   },
   "outputs": [],
   "source": [
    "# get wind power\n",
    "wp = pd.read_csv(tx_path + 'windpower/wpTXh.csv',parse_dates=True,index_col=0).tz_localize('UTC').tz_convert('Etc/GMT+6').wp"
   ]
  },
  {
   "cell_type": "markdown",
   "metadata": {},
   "source": [
    "### load outage model results"
   ]
  },
  {
   "cell_type": "code",
   "execution_count": 8,
   "metadata": {},
   "outputs": [],
   "source": [
    "out_model_param = pd.read_csv(out_path + 'outage_function_parameters/outage_function_parameters.cvs',index_col=0)"
   ]
  },
  {
   "cell_type": "markdown",
   "metadata": {
    "heading_collapsed": true
   },
   "source": [
    "## threshold function"
   ]
  },
  {
   "cell_type": "code",
   "execution_count": 12,
   "metadata": {
    "code_folding": [
     0
    ],
    "hidden": true
   },
   "outputs": [],
   "source": [
    "def get_thresh(temp,temp_fail,temp_recover,cap_loss,k):\n",
    "    available_cap = pd.Series(0,index=temp.index)\n",
    "    below_thresh = temp[temp<temp_fail].resample('M').count().replace(0,np.nan).dropna()\n",
    "    ym = below_thresh.index.strftime(\"%Y-%m\")\n",
    "    h_recovery = int(-cap_loss/k)\n",
    "    for i in range(len(below_thresh)):\n",
    "        t1 = pd.to_datetime(ym[i])\n",
    "        while(t1.strftime(\"%Y-%m\")==ym[i]):\n",
    "            t0 = (temp[t1:]<temp_fail).idxmax()\n",
    "            try:\n",
    "                t1 = (temp[(t0+np.timedelta64(10,'h')):]>temp_recover).idxmax()\n",
    "            except:\n",
    "                break\n",
    "            const_time = int((t1-t0)/np.timedelta64(1,'h'))\n",
    "            t2 = t1 + np.timedelta64(h_recovery-1,'h')\n",
    "            available_cap[t0:t2] = cap_loss + k*np.concatenate([np.array([0]*const_time),np.arange(h_recovery)])[:len(available_cap[t0:t2])]\n",
    "            if sum(temp[t1:]<temp_fail)==0:\n",
    "                break\n",
    "    return(available_cap)"
   ]
  },
  {
   "cell_type": "markdown",
   "metadata": {},
   "source": [
    "# scenarios temp thresh"
   ]
  },
  {
   "cell_type": "code",
   "execution_count": 106,
   "metadata": {},
   "outputs": [
    {
     "data": {
      "text/plain": [
       "-8.019053888531824"
      ]
     },
     "execution_count": 106,
     "metadata": {},
     "output_type": "execute_result"
    }
   ],
   "source": [
    "temppp.NG['2004':'2020'].min()"
   ]
  },
  {
   "cell_type": "markdown",
   "metadata": {},
   "source": [
    "## run scenarios"
   ]
  },
  {
   "cell_type": "code",
   "execution_count": 9,
   "metadata": {},
   "outputs": [],
   "source": [
    "MAXOUT_GAS = round(out_model_param.outage_capacity.gas,1)\n",
    "MAXOUT_WINDN = round(out_model_param.outage_capacity.wind_north,1)\n",
    "MAXOUT_WINDS = round(out_model_param.outage_capacity.wind_south,1)\n",
    "MAXOUT_COAL = round(out_model_param.outage_capacity.coal,1)\n",
    "THRESH_GAS_TEMP = round(out_model_param.outage_temperature_threshold.gas,1)\n",
    "THRESH_COAL_TEMP = round(out_model_param.outage_temperature_threshold.coal,1)\n",
    "THRESH_WINDN_TEMP = round(out_model_param.outage_temperature_threshold.wind_north,1)\n",
    "THRESH_WINDS_TEMP = round(out_model_param.outage_temperature_threshold.wind_south,1)\n",
    "\n",
    "REC_GAS_TEMP = round(out_model_param.recovery_temperature_threshold.gas,1)\n",
    "REC_COAL_TEMP = round(out_model_param.recovery_temperature_threshold.coal,1)\n",
    "REC_WINDN_TEMP = round(out_model_param.recovery_temperature_threshold.wind_north,1)\n",
    "REC_WINDS_TEMP = round(out_model_param.recovery_temperature_threshold.wind_south,1)\n",
    "\n",
    "K_GAS = -out_model_param.outage_capacity.gas/out_model_param.recovery_length.gas\n",
    "K_COAL = -out_model_param.outage_capacity.coal/out_model_param.recovery_length.coal\n",
    "K_WINDN = -out_model_param.outage_capacity.wind_north/out_model_param.recovery_length.wind_north\n",
    "K_WINDS = -out_model_param.outage_capacity.wind_south/out_model_param.recovery_length.wind_south"
   ]
  },
  {
   "cell_type": "markdown",
   "metadata": {
    "heading_collapsed": true
   },
   "source": [
    "### variation of gas temperature threshold"
   ]
  },
  {
   "cell_type": "markdown",
   "metadata": {
    "hidden": true
   },
   "source": [
    "calculate wind and coal thresholds before to save time"
   ]
  },
  {
   "cell_type": "code",
   "execution_count": 14,
   "metadata": {
    "hidden": true
   },
   "outputs": [],
   "source": [
    "thresh_windN = get_thresh(tempwpNS.t2mNorth,THRESH_WINDN_TEMP,REC_WINDN_TEMP,MAXOUT_WINDN,K_WINDN)\n",
    "thresh_windS = get_thresh(tempwpNS.t2mSouth,THRESH_WINDS_TEMP,REC_WINDS_TEMP,MAXOUT_WINDS,K_WINDS)\n",
    "wp_remain = wp/10**6*(33-thresh_windN-thresh_windS)/33\n",
    "thresh_coal = get_thresh(temppp.COAL,THRESH_COAL_TEMP,REC_COAL_TEMP,MAXOUT_COAL,K_COAL)"
   ]
  },
  {
   "cell_type": "code",
   "execution_count": 24,
   "metadata": {
    "code_folding": [],
    "hidden": true
   },
   "outputs": [],
   "source": [
    "def run_scenario_temp_gas(thresh_gas_temp,rec_gas_temp,wp_remain,thresh_coal):\n",
    "    # GET THRESHOLDS\n",
    "    thresh_gas = get_thresh(temppp.NG,thresh_gas_temp,rec_gas_temp,MAXOUT_GAS,K_GAS)\n",
    "    thresh_gas_coal = 63.5 - (thresh_gas + thresh_coal)\n",
    "    thresh_total = thresh_gas_coal + wp_remain\n",
    "\n",
    "    loss = (load70.load_est/1000 - thresh_total)[(load70.load_est/1000 - thresh_total)>0]/1000\n",
    "    events = loss.resample('Y').sum().replace(0,np.nan).dropna()\n",
    "    total_loss = loss.sum()\n",
    "    mean_loss = loss.sum()/len(events)\n",
    "    rank2021 = np.where(events.sort_values(ascending=False).index.year==2021)[0][0]\n",
    "\n",
    "    res = pd.DataFrame({'thresh_gas_temp':thresh_gas_temp,\n",
    "                        'rec_gas_temp':rec_gas_temp,\n",
    "                        'number_of_events':len(events),\n",
    "                        'after2004':[events['2004':].index.year.values],\n",
    "                        'total_loss_TWh':total_loss,\n",
    "                        'max_loss_GW':loss.max(),\n",
    "                        'mean_loss_GW':mean_loss,\n",
    "                        'mean_revenue_mioUSD':mean_loss*9,\n",
    "                        'rank_2021_event':rank2021})\n",
    "            \n",
    "    return(res)"
   ]
  },
  {
   "cell_type": "code",
   "execution_count": 25,
   "metadata": {
    "hidden": true
   },
   "outputs": [],
   "source": [
    "if 'scen_res_temp_gas' in globals():\n",
    "    del(scen_res_temp_gas)\n",
    "for gast in THRESH_GAS_TEMP - np.array(range(-6,7))/2:\n",
    "    for rect in REC_GAS_TEMP - np.array(range(-3,4))/2:\n",
    "        new_res = run_scenario_temp_gas(gast,rect,wp_remain,thresh_coal)\n",
    "        if 'scen_res_temp_gas' in globals():\n",
    "            scen_res_temp_gas = pd.concat([scen_res_temp_gas,new_res],axis=0)\n",
    "        else:\n",
    "            scen_res_temp_gas = new_res"
   ]
  },
  {
   "cell_type": "code",
   "execution_count": 26,
   "metadata": {
    "hidden": true
   },
   "outputs": [],
   "source": [
    "# fix decimal error\n",
    "scen_res_temp_gas['thresh_gas_temp'] = round(scen_res_temp_gas.thresh_gas_temp,1)\n",
    "scen_res_temp_gas['rec_gas_temp'] = round(scen_res_temp_gas.rec_gas_temp,1)"
   ]
  },
  {
   "cell_type": "code",
   "execution_count": 27,
   "metadata": {
    "hidden": true
   },
   "outputs": [],
   "source": [
    "scen_res_temp_gas.to_csv(out_path + 'sensitivity_analysis_temperature_thresholds_gas_LR24temptrend_Hook-8.csv')"
   ]
  },
  {
   "cell_type": "code",
   "execution_count": 29,
   "metadata": {
    "hidden": true
   },
   "outputs": [
    {
     "data": {
      "text/html": [
       "<div>\n",
       "<style scoped>\n",
       "    .dataframe tbody tr th:only-of-type {\n",
       "        vertical-align: middle;\n",
       "    }\n",
       "\n",
       "    .dataframe tbody tr th {\n",
       "        vertical-align: top;\n",
       "    }\n",
       "\n",
       "    .dataframe thead th {\n",
       "        text-align: right;\n",
       "    }\n",
       "</style>\n",
       "<table border=\"1\" class=\"dataframe\">\n",
       "  <thead>\n",
       "    <tr style=\"text-align: right;\">\n",
       "      <th></th>\n",
       "      <th>thresh_gas_temp</th>\n",
       "      <th>rec_gas_temp</th>\n",
       "      <th>number_of_events</th>\n",
       "      <th>after2004</th>\n",
       "      <th>total_loss_TWh</th>\n",
       "      <th>max_loss_GW</th>\n",
       "      <th>mean_loss_GW</th>\n",
       "      <th>mean_revenue_mioUSD</th>\n",
       "      <th>rank_2021_event</th>\n",
       "    </tr>\n",
       "  </thead>\n",
       "  <tbody>\n",
       "    <tr>\n",
       "      <th>0</th>\n",
       "      <td>-8.8</td>\n",
       "      <td>0.0</td>\n",
       "      <td>23</td>\n",
       "      <td>[2010, 2011, 2018, 2021]</td>\n",
       "      <td>7.655184</td>\n",
       "      <td>0.031255</td>\n",
       "      <td>0.332834</td>\n",
       "      <td>2.995507</td>\n",
       "      <td>0</td>\n",
       "    </tr>\n",
       "  </tbody>\n",
       "</table>\n",
       "</div>"
      ],
      "text/plain": [
       "   thresh_gas_temp  rec_gas_temp  number_of_events                 after2004  \\\n",
       "0             -8.8           0.0                23  [2010, 2011, 2018, 2021]   \n",
       "\n",
       "   total_loss_TWh  max_loss_GW  mean_loss_GW  mean_revenue_mioUSD  \\\n",
       "0        7.655184     0.031255      0.332834             2.995507   \n",
       "\n",
       "   rank_2021_event  \n",
       "0                0  "
      ]
     },
     "execution_count": 29,
     "metadata": {},
     "output_type": "execute_result"
    }
   ],
   "source": [
    "scen_res_temp_gas[(scen_res_temp_gas.thresh_gas_temp==THRESH_GAS_TEMP)&(scen_res_temp_gas.rec_gas_temp==REC_GAS_TEMP)]"
   ]
  },
  {
   "cell_type": "markdown",
   "metadata": {
    "heading_collapsed": true
   },
   "source": [
    "### variation of coal temperature threshold"
   ]
  },
  {
   "cell_type": "markdown",
   "metadata": {
    "hidden": true
   },
   "source": [
    "calculate gas threshold before to save time"
   ]
  },
  {
   "cell_type": "code",
   "execution_count": 15,
   "metadata": {
    "hidden": true
   },
   "outputs": [],
   "source": [
    "thresh_gas = get_thresh(temppp.NG,THRESH_GAS_TEMP,REC_GAS_TEMP,MAXOUT_GAS,K_GAS)"
   ]
  },
  {
   "cell_type": "code",
   "execution_count": 54,
   "metadata": {
    "code_folding": [
     0
    ],
    "hidden": true
   },
   "outputs": [],
   "source": [
    "def run_scenario_temp_coal(thresh_coal_temp,rec_coal_temp,wp_remain,thresh_gas):\n",
    "    # GET THRESHOLDS\n",
    "    thresh_coal = get_thresh(temppp.COAL,thresh_coal_temp,rec_coal_temp,MAXOUT_COAL,K_COAL)\n",
    "    thresh_gas_coal = 63.5 - (thresh_gas + thresh_coal)\n",
    "    thresh_total = thresh_gas_coal + wp_remain\n",
    "\n",
    "    loss = (load70.load_est/1000 - thresh_total)[(load70.load_est/1000 - thresh_total)>0]/1000\n",
    "    events = loss.resample('Y').sum().replace(0,np.nan).dropna()\n",
    "    total_loss = loss.sum()\n",
    "    mean_loss = loss.sum()/len(events)\n",
    "    rank2021 = np.where(events.sort_values(ascending=False).index.year==2021)[0][0]\n",
    "\n",
    "\n",
    "    res = pd.DataFrame({'thresh_coal_temp':thresh_coal_temp,\n",
    "                        'rec_coal_temp':rec_coal_temp,\n",
    "                        'number_of_events':len(events),\n",
    "                        'after2004':[events['2004':].index.year.values],\n",
    "                        'total_loss_TWh':total_loss,\n",
    "                        'max_loss_GW':loss.max(),\n",
    "                        'mean_loss_GW':mean_loss,\n",
    "                        'mean_revenue_mioUSD':mean_loss*9,\n",
    "                        'rank_2021_event':rank2021})\n",
    "            \n",
    "    return(res)"
   ]
  },
  {
   "cell_type": "code",
   "execution_count": 55,
   "metadata": {
    "hidden": true
   },
   "outputs": [],
   "source": [
    "if 'scen_res_temp_coal' in globals():\n",
    "    del(scen_res_temp_coal)\n",
    "for coalt in THRESH_COAL_TEMP - np.array(range(-6,7))/2:\n",
    "    for rect in REC_COAL_TEMP - np.array(range(-3,4))/2:\n",
    "        new_res = run_scenario_temp_coal(coalt,rect,wp_remain,thresh_gas)\n",
    "        if 'scen_res_temp_coal' in globals():\n",
    "            scen_res_temp_coal = pd.concat([scen_res_temp_coal,new_res],axis=0)\n",
    "        else:\n",
    "            scen_res_temp_coal = new_res"
   ]
  },
  {
   "cell_type": "code",
   "execution_count": 56,
   "metadata": {
    "hidden": true
   },
   "outputs": [],
   "source": [
    "# fix decimal error\n",
    "scen_res_temp_coal['thresh_coal_temp'] = round(scen_res_temp_coal.thresh_coal_temp,1)\n",
    "scen_res_temp_coal['rec_coal_temp'] = round(scen_res_temp_coal.rec_coal_temp,1)"
   ]
  },
  {
   "cell_type": "code",
   "execution_count": 57,
   "metadata": {
    "hidden": true
   },
   "outputs": [],
   "source": [
    "scen_res_temp_coal.to_csv(out_path + 'sensitivity_analysis_temperature_thresholds_coal_LR24temptrend_Hook-8.csv')"
   ]
  },
  {
   "cell_type": "markdown",
   "metadata": {
    "heading_collapsed": true
   },
   "source": [
    "### variation of wind north temperature thresholds"
   ]
  },
  {
   "cell_type": "markdown",
   "metadata": {
    "hidden": true
   },
   "source": [
    "prepare thermal threshold"
   ]
  },
  {
   "cell_type": "code",
   "execution_count": 16,
   "metadata": {
    "hidden": true
   },
   "outputs": [],
   "source": [
    "thresh_gas_coal = 63.5 - (thresh_gas + thresh_coal)"
   ]
  },
  {
   "cell_type": "code",
   "execution_count": 58,
   "metadata": {
    "code_folding": [
     0
    ],
    "hidden": true
   },
   "outputs": [],
   "source": [
    "def run_scenario_temp_wind_north(thresh_windn_temp,rec_windn_temp,thresh_gas_coal,thresh_windS):\n",
    "    # GET THRESHOLDS\n",
    "    thresh_windN = get_thresh(tempwpNS.t2mNorth,thresh_windn_temp,rec_windn_temp,MAXOUT_WINDN,K_WINDN)\n",
    "    wp_remain = wp/10**6*(33-thresh_windN-thresh_windS)/33\n",
    "    thresh_total = thresh_gas_coal + wp_remain\n",
    "\n",
    "    loss = (load70.load_est/1000 - thresh_total)[(load70.load_est/1000 - thresh_total)>0]/1000\n",
    "    events = loss.resample('Y').sum().replace(0,np.nan).dropna()\n",
    "    total_loss = loss.sum()\n",
    "    mean_loss = loss.sum()/len(events)\n",
    "    rank2021 = np.where(events.sort_values(ascending=False).index.year==2021)[0][0]\n",
    "\n",
    "    res = pd.DataFrame({'thresh_windn_temp':thresh_windn_temp,\n",
    "                        'rec_windn_temp':rec_windn_temp,\n",
    "                        'number_of_events':len(events),\n",
    "                        'after2004':[events['2004':].index.year.values],\n",
    "                        'total_loss_TWh':total_loss,\n",
    "                        'max_loss_GW':loss.max(),\n",
    "                        'mean_loss_GW':mean_loss,\n",
    "                        'mean_revenue_mioUSD':mean_loss*9,\n",
    "                        'rank_2021_event':rank2021})\n",
    "            \n",
    "    return(res)"
   ]
  },
  {
   "cell_type": "markdown",
   "metadata": {
    "hidden": true
   },
   "source": [
    "for wind in north, different than for other technologies, we do not vary the threshold temperature between a +/-3°C area to avoid positive temperature thresholds; instead we use the range -5°C to +1°C around the original threshold"
   ]
  },
  {
   "cell_type": "code",
   "execution_count": 59,
   "metadata": {
    "hidden": true
   },
   "outputs": [],
   "source": [
    "if 'scen_res_temp_windn' in globals():\n",
    "    del(scen_res_temp_windn)\n",
    "for windnt in THRESH_WINDN_TEMP - np.array(range(-2,11))/2:\n",
    "    for rect in REC_WINDN_TEMP - np.array(range(-3,4))/2:\n",
    "        new_res = run_scenario_temp_wind_north(windnt,rect,thresh_gas_coal,thresh_windS)\n",
    "        if 'scen_res_temp_windn' in globals():\n",
    "            scen_res_temp_windn = pd.concat([scen_res_temp_windn,new_res],axis=0)\n",
    "        else:\n",
    "            scen_res_temp_windn = new_res"
   ]
  },
  {
   "cell_type": "code",
   "execution_count": 60,
   "metadata": {
    "hidden": true
   },
   "outputs": [],
   "source": [
    "# fix decimal error\n",
    "scen_res_temp_windn['thresh_windn_temp'] = round(scen_res_temp_windn.thresh_windn_temp,1)\n",
    "scen_res_temp_windn['rec_windn_temp'] = round(scen_res_temp_windn.rec_windn_temp,1)"
   ]
  },
  {
   "cell_type": "code",
   "execution_count": 61,
   "metadata": {
    "hidden": true
   },
   "outputs": [],
   "source": [
    "scen_res_temp_windn.to_csv(out_path + 'sensitivity_analysis_temperature_thresholds_wind_north_LR24temptrend_Hook-8.csv')"
   ]
  },
  {
   "cell_type": "markdown",
   "metadata": {
    "heading_collapsed": true
   },
   "source": [
    "### variation of wind south temperature thresholds"
   ]
  },
  {
   "cell_type": "code",
   "execution_count": 62,
   "metadata": {
    "code_folding": [
     0
    ],
    "hidden": true
   },
   "outputs": [],
   "source": [
    "def run_scenario_temp_wind_south(thresh_winds_temp,rec_winds_temp,thresh_gas_coal,thresh_windN):\n",
    "    # GET THRESHOLDS\n",
    "    thresh_windS = get_thresh(tempwpNS.t2mSouth,thresh_winds_temp,rec_winds_temp,MAXOUT_WINDS,K_WINDS)\n",
    "    wp_remain = wp/10**6*(33-thresh_windN-thresh_windS)/33\n",
    "    thresh_total = thresh_gas_coal + wp_remain\n",
    "\n",
    "    loss = (load70.load_est/1000 - thresh_total)[(load70.load_est/1000 - thresh_total)>0]/1000\n",
    "    events = loss.resample('Y').sum().replace(0,np.nan).dropna()\n",
    "    total_loss = loss.sum()\n",
    "    mean_loss = loss.sum()/len(events)\n",
    "    rank2021 = np.where(events.sort_values(ascending=False).index.year==2021)[0][0]\n",
    "\n",
    "    res = pd.DataFrame({'thresh_winds_temp':thresh_winds_temp,\n",
    "                        'rec_winds_temp':rec_winds_temp,\n",
    "                        'number_of_events':len(events),\n",
    "                        'after2004':[events['2004':].index.year.values],\n",
    "                        'total_loss_TWh':total_loss,\n",
    "                        'max_loss_GW':loss.max(),\n",
    "                        'mean_loss_GW':mean_loss,\n",
    "                        'mean_revenue_mioUSD':mean_loss*9,\n",
    "                        'rank_2021_event':rank2021})\n",
    "            \n",
    "    return(res)"
   ]
  },
  {
   "cell_type": "code",
   "execution_count": 63,
   "metadata": {
    "hidden": true
   },
   "outputs": [],
   "source": [
    "if 'scen_res_temp_winds' in globals():\n",
    "    del(scen_res_temp_winds)\n",
    "for windst in THRESH_WINDS_TEMP - np.array(range(-6,7))/2:\n",
    "    for rect in REC_WINDS_TEMP - np.array(range(-3,4))/2:\n",
    "        new_res = run_scenario_temp_wind_south(windst,rect,thresh_gas_coal,thresh_windN)\n",
    "        if 'scen_res_temp_winds' in globals():\n",
    "            scen_res_temp_winds = pd.concat([scen_res_temp_winds,new_res],axis=0)\n",
    "        else:\n",
    "            scen_res_temp_winds = new_res"
   ]
  },
  {
   "cell_type": "code",
   "execution_count": 64,
   "metadata": {
    "hidden": true
   },
   "outputs": [],
   "source": [
    "# fix decimal error\n",
    "scen_res_temp_winds['thresh_winds_temp'] = round(scen_res_temp_winds.thresh_winds_temp,1)\n",
    "scen_res_temp_winds['rec_winds_temp'] = round(scen_res_temp_winds.rec_winds_temp,1)"
   ]
  },
  {
   "cell_type": "code",
   "execution_count": 65,
   "metadata": {
    "hidden": true
   },
   "outputs": [],
   "source": [
    "scen_res_temp_winds.to_csv(out_path + 'sensitivity_analysis_temperature_thresholds_wind_south_LR24temptrend_Hook-8.csv')"
   ]
  },
  {
   "cell_type": "markdown",
   "metadata": {
    "heading_collapsed": true
   },
   "source": [
    "### variation of all temperature thresholds simultaneously "
   ]
  },
  {
   "cell_type": "code",
   "execution_count": 17,
   "metadata": {
    "code_folding": [
     0
    ],
    "hidden": true
   },
   "outputs": [],
   "source": [
    "def run_scenario_temp_all(temps):\n",
    "    delta_thresh_temp = temps.delta_thresh\n",
    "    delta_rec_temp = temps.delta_rec\n",
    "    # GET THRESHOLD TEMPERATURES\n",
    "    thresh_gas_temp = THRESH_GAS_TEMP + delta_thresh_temp\n",
    "    rec_gas_temp = REC_GAS_TEMP + delta_rec_temp\n",
    "    thresh_coal_temp = THRESH_COAL_TEMP + delta_thresh_temp\n",
    "    rec_coal_temp = REC_COAL_TEMP + delta_rec_temp\n",
    "    thresh_windn_temp = THRESH_WINDN_TEMP + delta_thresh_temp\n",
    "    rec_windn_temp = REC_WINDN_TEMP + delta_rec_temp\n",
    "    thresh_winds_temp = THRESH_WINDS_TEMP + delta_thresh_temp\n",
    "    rec_winds_temp = REC_WINDS_TEMP + delta_rec_temp\n",
    "    \n",
    "    # GET THRESHOLDS\n",
    "    thresh_gas = get_thresh(temppp.NG,thresh_gas_temp,rec_gas_temp,MAXOUT_GAS,K_GAS)\n",
    "    thresh_coal = get_thresh(temppp.COAL,thresh_coal_temp,rec_coal_temp,MAXOUT_COAL,K_COAL)\n",
    "    thresh_gas_coal = 63.5 - (thresh_gas + thresh_coal)\n",
    "    #print(thresh_windn_temp,rec_windn_temp)\n",
    "    thresh_windN = get_thresh(tempwpNS.t2mNorth,thresh_windn_temp,rec_windn_temp,MAXOUT_WINDN,K_WINDN)\n",
    "    thresh_windS = get_thresh(tempwpNS.t2mSouth,thresh_winds_temp,rec_winds_temp,MAXOUT_WINDS,K_WINDS)\n",
    "    wp_remain = wp/10**6*(33-thresh_windN-thresh_windS)/33\n",
    "    thresh_total = thresh_gas_coal + wp_remain\n",
    "\n",
    "    loss = (load70.load_est/1000 - thresh_total)[(load70.load_est/1000 - thresh_total)>0]/1000\n",
    "    events = loss.resample('Y').sum().replace(0,np.nan).dropna()\n",
    "    total_loss = loss.sum()\n",
    "    mean_loss = loss.sum()/len(events)\n",
    "    rank2021 = np.where(events.sort_values(ascending=False).index.year==2021)[0][0]\n",
    "\n",
    "    res = pd.DataFrame({'delta_thresh_temp':delta_thresh_temp,\n",
    "                        'delta_rec_temp':delta_rec_temp,\n",
    "                        'number_of_events':len(events),\n",
    "                        'after2004':[events['2004':].index.year.values],\n",
    "                        'total_loss_TWh':total_loss,\n",
    "                        'max_loss_GW':loss.max(),\n",
    "                        'mean_loss_GW':mean_loss,\n",
    "                        'mean_revenue_mioUSD':mean_loss*9,\n",
    "                        'rank_2021_event':rank2021})\n",
    "            \n",
    "    return(res)"
   ]
  },
  {
   "cell_type": "code",
   "execution_count": 18,
   "metadata": {
    "code_folding": [],
    "hidden": true
   },
   "outputs": [],
   "source": [
    "deltas = pd.DataFrame(np.array(np.meshgrid(np.arange(-6,7)/2,\n",
    "                                           np.arange(-3,4)/2)).T.reshape(-1,2),\n",
    "                      columns = ['delta_thresh','delta_rec'])"
   ]
  },
  {
   "cell_type": "code",
   "execution_count": 19,
   "metadata": {
    "hidden": true
   },
   "outputs": [],
   "source": [
    "scen_res_temp_all = deltas.apply(run_scenario_temp_all,axis=1)\n",
    "scen_res_temp_all = pd.concat(scen_res_temp_all.to_list(),axis=0)"
   ]
  },
  {
   "cell_type": "code",
   "execution_count": 21,
   "metadata": {
    "hidden": true
   },
   "outputs": [],
   "source": [
    "scen_res_temp_all.to_csv(out_path + 'sensitivity_analysis_temperature_thresholds_all_LR24temptrend_Hook-8.csv')"
   ]
  },
  {
   "cell_type": "code",
   "execution_count": 22,
   "metadata": {
    "hidden": true
   },
   "outputs": [
    {
     "data": {
      "image/png": "[encoded data removed]",
      "text/plain": [
       "<Figure size 360x216 with 2 Axes>"
      ]
     },
     "metadata": {},
     "output_type": "display_data"
    }
   ],
   "source": [
    "(fig,ax1)=plt.subplots(1,1,figsize=(5,3))\n",
    "\n",
    "minloss = scen_res_temp_all.total_loss_TWh.min()\n",
    "maxloss = scen_res_temp_all.total_loss_TWh.max()\n",
    "baseloss = scen_res_temp_all[(scen_res_temp_all.delta_thresh_temp==0)&(scen_res_temp_all.delta_rec_temp==0)].total_loss_TWh.values\n",
    "maxdif = max(maxloss-baseloss,baseloss-minloss)\n",
    "\n",
    "sns.heatmap(scen_res_temp_all[['delta_thresh_temp','delta_rec_temp','total_loss_TWh']].pivot(index='delta_rec_temp', columns='delta_thresh_temp')['total_loss_TWh'],\n",
    "            ax=ax1,cmap='Spectral',vmin=baseloss-maxdif,vmax=baseloss+maxdif,\n",
    "            square=True,cbar_kws={'label': 'Total deficit TWh'})\n",
    "ax1.set_xlabel(r'$\\delta threshold temperature °C')\n",
    "ax1.set_ylabel(r'$\\delta recovery temperature °C')\n",
    "#ax1.set_title('Total deficit TWh')\n",
    "\n",
    "plt.savefig(fig_path + 'sensitivity_temp_all_LR24temptrend_Hook-8.pdf',dpi=300)"
   ]
  },
  {
   "cell_type": "markdown",
   "metadata": {},
   "source": [
    "### gas + simulatenously"
   ]
  },
  {
   "cell_type": "code",
   "execution_count": 5,
   "metadata": {},
   "outputs": [],
   "source": [
    "scen_res_temp_all = pd.read_csv(out_path + 'sensitivity_analysis_temperature_thresholds_all_LR24temptrend_Hook-8.csv')\n",
    "scen_res_temp_gas = pd.read_csv(out_path + 'sensitivity_analysis_temperature_thresholds_gas_LR24temptrend_Hook-8.csv')"
   ]
  },
  {
   "cell_type": "code",
   "execution_count": 16,
   "metadata": {},
   "outputs": [],
   "source": [
    "scen_res_temp_gas.to_csv(fig_path_raw + 'FigA3_gas.csv')\n",
    "scen_res_temp_all.to_csv(fig_path_raw + 'FigA3_all.csv')"
   ]
  },
  {
   "cell_type": "code",
   "execution_count": 10,
   "metadata": {},
   "outputs": [],
   "source": [
    "minloss = min(scen_res_temp_gas.total_loss_TWh.min(),scen_res_temp_all.total_loss_TWh.min())\n",
    "maxloss = max(scen_res_temp_gas.total_loss_TWh.max(),scen_res_temp_all.total_loss_TWh.max())\n",
    "baseloss = scen_res_temp_gas[(scen_res_temp_gas.thresh_gas_temp==THRESH_GAS_TEMP)&(scen_res_temp_gas.rec_gas_temp==REC_GAS_TEMP)].total_loss_TWh.values\n",
    "maxdif = max(maxloss-baseloss,baseloss-minloss)"
   ]
  },
  {
   "cell_type": "code",
   "execution_count": 41,
   "metadata": {},
   "outputs": [
    {
     "data": {
      "text/plain": [
       "2018-12-31 00:00:00-06:00   -8.019054\n",
       "2011-12-31 00:00:00-06:00   -7.701274\n",
       "2017-12-31 00:00:00-06:00   -7.324994\n",
       "2014-12-31 00:00:00-06:00   -5.692025\n",
       "2016-12-31 00:00:00-06:00   -4.022334\n",
       "2015-12-31 00:00:00-06:00   -3.634140\n",
       "2019-12-31 00:00:00-06:00   -2.878763\n",
       "2013-12-31 00:00:00-06:00   -2.113905\n",
       "2012-12-31 00:00:00-06:00   -1.782447\n",
       "Name: NG, dtype: float64"
      ]
     },
     "execution_count": 41,
     "metadata": {},
     "output_type": "execute_result"
    }
   ],
   "source": [
    "temppp.NG['2011':'2020'].resample('Y').min().sort_values()[:9]#.values"
   ]
  },
  {
   "cell_type": "code",
   "execution_count": 13,
   "metadata": {},
   "outputs": [
    {
     "data": {
      "image/png": "[encoded data removed]",
      "text/plain": [
       "<Figure size 720x216 with 3 Axes>"
      ]
     },
     "metadata": {},
     "output_type": "display_data"
    }
   ],
   "source": [
    "#(fig,(ax1,ax2))=plt.subplots(1,2,figsize=(11,4))\n",
    "(fig,(ax1,ax2,ax3))=plt.subplots(1,3,figsize=(10,3), gridspec_kw=dict(width_ratios=[5.4,5.4,0.2]))#5.9,0.2]))\n",
    "\n",
    "\n",
    "minloss = min(scen_res_temp_gas.total_loss_TWh.min(),scen_res_temp_all.total_loss_TWh.min())\n",
    "maxloss = max(scen_res_temp_gas.total_loss_TWh.max(),scen_res_temp_all.total_loss_TWh.max())\n",
    "baseloss = scen_res_temp_gas[(scen_res_temp_gas.thresh_gas_temp==THRESH_GAS_TEMP)&(scen_res_temp_gas.rec_gas_temp==REC_GAS_TEMP)].total_loss_TWh.values\n",
    "maxdif = max(maxloss-baseloss,baseloss-minloss)\n",
    "\n",
    "sns.heatmap(scen_res_temp_gas[['thresh_gas_temp','rec_gas_temp','total_loss_TWh']].pivot(index='rec_gas_temp', columns='thresh_gas_temp')['total_loss_TWh'],\n",
    "            ax=ax1,cmap='Spectral',vmin=baseloss-maxdif,vmax=baseloss+maxdif,\n",
    "            square=True,cbar=False)\n",
    "ax1.set_xlabel('Onset temperature °C')\n",
    "ax1.set_ylabel('Recovery temperature °C')\n",
    "ax1.set_title('(a) Gas power plants')\n",
    "\n",
    "# plot lowest temperatures within 7 decades\n",
    "#lowest_temperatures = temppp.NG['2011':'2020'].resample('Y').min().sort_values()[:3].values\n",
    "lowest_temperatures = temppp.NG['2004':'2020'].resample('Y').min().sort_values().values\n",
    "# calculate lowest temperatures on scale\n",
    "lims = ax1.get_xlim()\n",
    "k = (lims[1]-1)/(scen_res_temp_gas.thresh_gas_temp.max()-scen_res_temp_gas.thresh_gas_temp.min())\n",
    "d = 0.5-k*scen_res_temp_gas.thresh_gas_temp.min()\n",
    "for lt in lowest_temperatures:\n",
    "    x = k*lt+d\n",
    "    ax1.vlines(x,*ax1.get_ylim(),colors='black',lw=2)\n",
    "ax1.vlines(k*-8.8+d,*ax1.get_ylim(),colors=COLORS[0],lw=2)\n",
    "\n",
    "\n",
    "\n",
    "sns.heatmap(scen_res_temp_all[['delta_thresh_temp','delta_rec_temp','total_loss_TWh']].pivot(index='delta_rec_temp', columns='delta_thresh_temp')['total_loss_TWh'],\n",
    "            ax=ax2,cmap='Spectral',vmin=baseloss-maxdif,vmax=baseloss+maxdif,\n",
    "            square=True,cbar=False)#,cbar_kws={'label': 'Total deficit TWh'})\n",
    "ax2.set_xlabel(r'$\\Delta$ onset temperature °C')\n",
    "#ax2.set_ylabel(r'$\\delta recovery temperature °C')\n",
    "ax2.set_ylabel('')\n",
    "ax2.set_title('(b) All power plants')\n",
    "ax2.set_yticklabels([])\n",
    "\n",
    "fig.colorbar(ax2.collections[0], cax=ax3)\n",
    "ax3.set_ylabel('Total deficit TWh')\n",
    "fig.tight_layout()\n",
    "\n",
    "plt.savefig(fig_path + 'sensitivity_temp_gas+all_LR24temptrend_Hook-8.pdf',dpi=300,bbox_inches='tight')"
   ]
  },
  {
   "cell_type": "code",
   "execution_count": 17,
   "metadata": {},
   "outputs": [],
   "source": [
    "pd.Series(lowest_temperatures).to_csv(fig_path_raw + 'FigA3_lowest_temperatures.csv')"
   ]
  },
  {
   "cell_type": "markdown",
   "metadata": {},
   "source": [
    "##### get results"
   ]
  },
  {
   "cell_type": "code",
   "execution_count": 33,
   "metadata": {},
   "outputs": [
    {
     "name": "stdout",
     "output_type": "stream",
     "text": [
      "7.57\n",
      "8.05\n",
      "9.37\n",
      "9.95\n"
     ]
    }
   ],
   "source": [
    "print(round(scen_res_temp_gas[(scen_res_temp_gas.thresh_gas_temp==-8.8)].total_loss_TWh.min(),2))\n",
    "print(round(scen_res_temp_gas[(scen_res_temp_gas.thresh_gas_temp==-8.8)].total_loss_TWh.max(),2))\n",
    "print(round(scen_res_temp_gas[(scen_res_temp_gas.thresh_gas_temp==-7.8)].total_loss_TWh.min(),2))\n",
    "print(round(scen_res_temp_gas[(scen_res_temp_gas.thresh_gas_temp==-7.8)].total_loss_TWh.max(),2))"
   ]
  },
  {
   "cell_type": "code",
   "execution_count": 53,
   "metadata": {},
   "outputs": [
    {
     "name": "stdout",
     "output_type": "stream",
     "text": [
      "7.57\n",
      "8.05\n",
      "8.8\n",
      "9.34\n"
     ]
    }
   ],
   "source": [
    "print(round(scen_res_temp_gas[(scen_res_temp_gas.thresh_gas_temp==-8.8)].total_loss_TWh.min(),2))\n",
    "print(round(scen_res_temp_gas[(scen_res_temp_gas.thresh_gas_temp==-8.8)].total_loss_TWh.max(),2))\n",
    "print(round((scen_res_temp_gas[(scen_res_temp_gas.thresh_gas_temp==-7.8)].total_loss_TWh.min()*3+\n",
    "            scen_res_temp_gas[(scen_res_temp_gas.thresh_gas_temp==-8.3)].total_loss_TWh.min()*2)/5,2))\n",
    "print(round((scen_res_temp_gas[(scen_res_temp_gas.thresh_gas_temp==-7.8)].total_loss_TWh.max()*3+\n",
    "             scen_res_temp_gas[(scen_res_temp_gas.thresh_gas_temp==-8.3)].total_loss_TWh.max()*2)/5,2))"
   ]
  },
  {
   "cell_type": "code",
   "execution_count": 31,
   "metadata": {},
   "outputs": [
    {
     "data": {
      "text/plain": [
       "1989-12-31 00:00:00-06:00   -14.500678\n",
       "1951-12-31 00:00:00-06:00   -12.805207\n",
       "2021-12-31 00:00:00-06:00   -12.527508\n",
       "1983-12-31 00:00:00-06:00   -11.574980\n",
       "1982-12-31 00:00:00-06:00   -10.263039\n",
       "1962-12-31 00:00:00-06:00   -10.261790\n",
       "1963-12-31 00:00:00-06:00    -9.776500\n",
       "1985-12-31 00:00:00-06:00    -9.409416\n",
       "1979-12-31 00:00:00-06:00    -9.168467\n",
       "Name: NG, dtype: float64"
      ]
     },
     "execution_count": 31,
     "metadata": {},
     "output_type": "execute_result"
    }
   ],
   "source": [
    "temppp.NG.resample('Y').min().sort_values()[:9]#.values"
   ]
  },
  {
   "cell_type": "code",
   "execution_count": null,
   "metadata": {},
   "outputs": [],
   "source": []
  },
  {
   "cell_type": "code",
   "execution_count": 69,
   "metadata": {},
   "outputs": [
    {
     "name": "stdout",
     "output_type": "stream",
     "text": [
      "6.64\n",
      "8.24\n",
      "7.5\n",
      "7.67\n",
      "7.13\n",
      "7.75\n"
     ]
    }
   ],
   "source": [
    "print(round(scen_res_temp_coal.total_loss_TWh.min(),2))\n",
    "print(round(scen_res_temp_coal.total_loss_TWh.max(),2))\n",
    "print(round(scen_res_temp_windn.total_loss_TWh.min(),2))\n",
    "print(round(scen_res_temp_windn.total_loss_TWh.max(),2))\n",
    "print(round(scen_res_temp_winds.total_loss_TWh.min(),2))\n",
    "print(round(scen_res_temp_winds.total_loss_TWh.max(),2))"
   ]
  },
  {
   "cell_type": "code",
   "execution_count": 36,
   "metadata": {},
   "outputs": [
    {
     "name": "stdout",
     "output_type": "stream",
     "text": [
      "7.44\n",
      "8.12\n",
      "9.7\n",
      "10.56\n"
     ]
    }
   ],
   "source": [
    "print(round(scen_res_temp_all[scen_res_temp_all.delta_thresh_temp==0].total_loss_TWh.min(),2))\n",
    "print(round(scen_res_temp_all[scen_res_temp_all.delta_thresh_temp==0].total_loss_TWh.max(),2))\n",
    "print(round(scen_res_temp_all[scen_res_temp_all.delta_thresh_temp==1].total_loss_TWh.min(),2))\n",
    "print(round(scen_res_temp_all[scen_res_temp_all.delta_thresh_temp==1].total_loss_TWh.max(),2))"
   ]
  },
  {
   "cell_type": "code",
   "execution_count": 37,
   "metadata": {},
   "outputs": [
    {
     "name": "stdout",
     "output_type": "stream",
     "text": [
      "5.27\n",
      "5.74\n"
     ]
    }
   ],
   "source": [
    "print(round(scen_res_temp_all[scen_res_temp_all.delta_thresh_temp==-1].total_loss_TWh.min(),2))\n",
    "print(round(scen_res_temp_all[scen_res_temp_all.delta_thresh_temp==-1].total_loss_TWh.max(),2))"
   ]
  },
  {
   "cell_type": "code",
   "execution_count": 38,
   "metadata": {},
   "outputs": [
    {
     "name": "stdout",
     "output_type": "stream",
     "text": [
      "2.3\n",
      "20.91\n",
      "2.26\n",
      "20.61\n"
     ]
    }
   ],
   "source": [
    "print(round(scen_res_temp_all[scen_res_temp_all.delta_rec_temp==0].total_loss_TWh.min(),2))\n",
    "print(round(scen_res_temp_all[scen_res_temp_all.delta_rec_temp==0].total_loss_TWh.max(),2))\n",
    "print(round(scen_res_temp_all[scen_res_temp_all.delta_rec_temp==-1].total_loss_TWh.min(),2))\n",
    "print(round(scen_res_temp_all[scen_res_temp_all.delta_rec_temp==-1].total_loss_TWh.max(),2))"
   ]
  },
  {
   "cell_type": "code",
   "execution_count": 73,
   "metadata": {},
   "outputs": [
    {
     "name": "stdout",
     "output_type": "stream",
     "text": [
      "7.53\n",
      "7.7\n",
      "7.65\n",
      "7.66\n",
      "7.65\n",
      "7.66\n"
     ]
    }
   ],
   "source": [
    "print(round(scen_res_temp_coal[scen_res_temp_coal.thresh_coal_temp==THRESH_COAL_TEMP].total_loss_TWh.min(),2))\n",
    "print(round(scen_res_temp_coal[scen_res_temp_coal.thresh_coal_temp==THRESH_COAL_TEMP].total_loss_TWh.max(),2))\n",
    "print(round(scen_res_temp_windn[scen_res_temp_windn.thresh_windn_temp==THRESH_WINDN_TEMP].total_loss_TWh.min(),2))\n",
    "print(round(scen_res_temp_windn[scen_res_temp_windn.thresh_windn_temp==THRESH_WINDN_TEMP].total_loss_TWh.max(),2))\n",
    "print(round(scen_res_temp_winds[scen_res_temp_winds.thresh_winds_temp==THRESH_WINDS_TEMP].total_loss_TWh.min(),2))\n",
    "print(round(scen_res_temp_winds[scen_res_temp_winds.thresh_winds_temp==THRESH_WINDS_TEMP].total_loss_TWh.max(),2))"
   ]
  },
  {
   "cell_type": "code",
   "execution_count": 77,
   "metadata": {},
   "outputs": [
    {
     "name": "stdout",
     "output_type": "stream",
     "text": [
      "7.66\n",
      "7.66\n",
      "7.66\n"
     ]
    }
   ],
   "source": [
    "print(round(scen_res_temp_coal[(scen_res_temp_coal.thresh_coal_temp==THRESH_COAL_TEMP)&\n",
    "                              (scen_res_temp_coal.rec_coal_temp==REC_COAL_TEMP)].total_loss_TWh[0],2))\n",
    "print(round(scen_res_temp_windn[(scen_res_temp_windn.thresh_windn_temp==THRESH_WINDN_TEMP)&\n",
    "                              (scen_res_temp_windn.rec_windn_temp==REC_WINDN_TEMP)].total_loss_TWh[0],2))\n",
    "print(round(scen_res_temp_winds[(scen_res_temp_winds.thresh_winds_temp==THRESH_WINDS_TEMP)&\n",
    "                              (scen_res_temp_winds.rec_winds_temp==REC_WINDS_TEMP)].total_loss_TWh[0],2))"
   ]
  },
  {
   "cell_type": "code",
   "execution_count": 82,
   "metadata": {
    "code_folding": [
     0
    ]
   },
   "outputs": [],
   "source": [
    "def get_scenario_temp_all(temps):\n",
    "    delta_thresh_temp = temps.delta_thresh\n",
    "    delta_rec_temp = temps.delta_rec\n",
    "    # GET THRESHOLD TEMPERATURES\n",
    "    thresh_gas_temp = THRESH_GAS_TEMP + delta_thresh_temp\n",
    "    rec_gas_temp = REC_GAS_TEMP + delta_rec_temp\n",
    "    thresh_coal_temp = THRESH_COAL_TEMP + delta_thresh_temp\n",
    "    rec_coal_temp = REC_COAL_TEMP + delta_rec_temp\n",
    "    thresh_windn_temp = THRESH_WINDN_TEMP + delta_thresh_temp\n",
    "    rec_windn_temp = REC_WINDN_TEMP + delta_rec_temp\n",
    "    thresh_winds_temp = THRESH_WINDS_TEMP + delta_thresh_temp\n",
    "    rec_winds_temp = REC_WINDS_TEMP + delta_rec_temp\n",
    "    \n",
    "    # GET THRESHOLDS\n",
    "    thresh_gas = get_thresh(temppp.NG,thresh_gas_temp,rec_gas_temp,MAXOUT_GAS,K_GAS)\n",
    "    thresh_coal = get_thresh(temppp.COAL,thresh_coal_temp,rec_coal_temp,MAXOUT_COAL,K_COAL)\n",
    "    thresh_gas_coal = 63.5 - (thresh_gas + thresh_coal)\n",
    "    #print(thresh_windn_temp,rec_windn_temp)\n",
    "    thresh_windN = get_thresh(tempwpNS.t2mNorth,thresh_windn_temp,rec_windn_temp,MAXOUT_WINDN,K_WINDN)\n",
    "    thresh_windS = get_thresh(tempwpNS.t2mSouth,thresh_winds_temp,rec_winds_temp,MAXOUT_WINDS,K_WINDS)\n",
    "    wp_remain = wp/10**6*(33-thresh_windN-thresh_windS)/33\n",
    "    thresh_total = thresh_gas_coal + wp_remain\n",
    "\n",
    "    loss = (load70.load_est/1000 - thresh_total)[(load70.load_est/1000 - thresh_total)>0]/1000\n",
    "    events = loss.resample('Y').sum().replace(0,np.nan).dropna()\n",
    "            \n",
    "    return(events)"
   ]
  },
  {
   "cell_type": "code",
   "execution_count": 90,
   "metadata": {},
   "outputs": [],
   "source": [
    "sc = get_scenario_temp_all(pd.DataFrame({'delta_thresh':[1.5],'delta_rec':[0]}).iloc[0])"
   ]
  },
  {
   "cell_type": "code",
   "execution_count": 92,
   "metadata": {},
   "outputs": [
    {
     "data": {
      "text/plain": [
       "1984-12-31 00:00:00-06:00    0.000481\n",
       "1978-12-31 00:00:00-06:00    0.001199\n",
       "1950-12-31 00:00:00-06:00    0.113188\n",
       "2017-12-31 00:00:00-06:00    0.130612\n",
       "1966-12-31 00:00:00-06:00    0.153128\n",
       "1996-12-31 00:00:00-06:00    0.178755\n",
       "1977-12-31 00:00:00-06:00    0.213420\n",
       "1981-12-31 00:00:00-06:00    0.219102\n",
       "1964-12-31 00:00:00-06:00    0.241351\n",
       "1976-12-31 00:00:00-06:00    0.243276\n",
       "2010-12-31 00:00:00-06:00    0.346214\n",
       "2018-12-31 00:00:00-06:00    0.373326\n",
       "1979-12-31 00:00:00-06:00    0.429533\n",
       "1970-12-31 00:00:00-06:00    0.454390\n",
       "1982-12-31 00:00:00-06:00    0.463140\n",
       "1959-12-31 00:00:00-06:00    0.485852\n",
       "2011-12-31 00:00:00-06:00    0.851786\n",
       "1985-12-31 00:00:00-06:00    0.895315\n",
       "1951-12-31 00:00:00-06:00    0.998303\n",
       "1963-12-31 00:00:00-06:00    1.119725\n",
       "1962-12-31 00:00:00-06:00    1.279683\n",
       "2021-12-31 00:00:00-06:00    1.542653\n",
       "1989-12-31 00:00:00-06:00    1.600723\n",
       "1983-12-31 00:00:00-06:00    2.078697\n",
       "dtype: float64"
      ]
     },
     "execution_count": 92,
     "metadata": {},
     "output_type": "execute_result"
    }
   ],
   "source": [
    "sc.sort_values()"
   ]
  },
  {
   "cell_type": "code",
   "execution_count": 94,
   "metadata": {},
   "outputs": [],
   "source": [
    "sc2 = get_scenario_temp_all(pd.DataFrame({'delta_thresh':[2],'delta_rec':[0]}).iloc[0])"
   ]
  },
  {
   "cell_type": "code",
   "execution_count": 101,
   "metadata": {},
   "outputs": [
    {
     "data": {
      "text/plain": [
       "1983    2.308271\n",
       "1989    1.624277\n",
       "1963    1.587623\n",
       "2021    1.560509\n",
       "1962    1.301054\n",
       "2011    1.080105\n",
       "1951    1.019141\n",
       "1985    0.959583\n",
       "1982    0.563978\n",
       "1959    0.525398\n",
       "1970    0.454390\n",
       "1979    0.429851\n",
       "2018    0.375109\n",
       "2010    0.360094\n",
       "1976    0.321741\n",
       "1973    0.248388\n",
       "1964    0.241351\n",
       "1977    0.230817\n",
       "2017    0.222585\n",
       "1981    0.220917\n",
       "1996    0.178755\n",
       "1966    0.167087\n",
       "1950    0.140111\n",
       "1990    0.090677\n",
       "1978    0.001199\n",
       "1984    0.000481\n",
       "dtype: float64"
      ]
     },
     "execution_count": 101,
     "metadata": {},
     "output_type": "execute_result"
    }
   ],
   "source": [
    "pd.Series(sc2.sort_values(ascending=False).values,index=sc2.sort_values(ascending=False).index.year)"
   ]
  },
  {
   "cell_type": "markdown",
   "metadata": {},
   "source": [
    "# scenarios temperature trend"
   ]
  },
  {
   "cell_type": "code",
   "execution_count": 39,
   "metadata": {
    "code_folding": [
     0
    ]
   },
   "outputs": [],
   "source": [
    "def get_temp_scenario(refyear):\n",
    "    TEMPTREND = 0.017 # °C/year\n",
    "\n",
    "    # adapt temperature according to scenario\n",
    "    tempgasv = temppp.NG.copy(deep=True) + TEMPTREND*(refyear-temppp.NG.index.year)\n",
    "    tempcoalv = temppp.COAL.copy(deep=True) + TEMPTREND*(refyear-temppp.COAL.index.year)\n",
    "    tempwpNv = tempwpNS.t2mNorth.copy(deep=True) + TEMPTREND*(refyear-tempwpNS.index.year)\n",
    "    tempwpSv = tempwpNS.t2mSouth.copy(deep=True) + TEMPTREND*(refyear-tempwpNS.index.year)\n",
    "\n",
    "\n",
    "    # GET THRESHOLDS\n",
    "    thresh_gas = get_thresh(tempgasv,THRESH_GAS_TEMP,REC_GAS_TEMP,MAXOUT_GAS,K_GAS)\n",
    "    thresh_windN = get_thresh(tempwpNv,THRESH_WINDN_TEMP,REC_WINDN_TEMP,MAXOUT_WINDN,K_WINDN)\n",
    "    thresh_windS = get_thresh(tempwpSv,THRESH_WINDS_TEMP,REC_WINDS_TEMP,MAXOUT_WINDS,K_WINDS)\n",
    "    thresh_coal = get_thresh(tempcoalv,THRESH_COAL_TEMP,REC_COAL_TEMP,MAXOUT_COAL,K_COAL)\n",
    "    thresh_gas_coal = 62 - (thresh_gas + thresh_coal)\n",
    "    wp_remain = wp/10**6*(33-thresh_windN-thresh_windS)/33\n",
    "    thresh_total = thresh_gas_coal + wp_remain\n",
    "    \n",
    "    resdf = pd.concat([thresh_total,load70.load_est/1000],axis=1)\n",
    "    resdf.columns = ['thresh','load_est']\n",
    "    \n",
    "    \n",
    "    loss = (load70.load_est/1000 - thresh_total)[(load70.load_est/1000 - thresh_total)>0]/1000\n",
    "    events = loss.resample('Y').sum().replace(0,np.nan).dropna()\n",
    "    total_loss = loss.sum()\n",
    "    mean_loss = loss.sum()/len(events)\n",
    "    rank2021 = np.where(events.sort_values(ascending=False).index.year==2021)[0][0]\n",
    "\n",
    "    res = pd.DataFrame({'thresh_gas_temp':THRESH_GAS_TEMP,\n",
    "                        'thresh_coal_temp':THRESH_COAL_TEMP,\n",
    "                        'number_of_events':len(events),\n",
    "                        'after2004':[events['2004':].index.year.values],\n",
    "                        'total_loss_TWh':total_loss,\n",
    "                        'max_loss_GW':loss.max(),\n",
    "                        'mean_loss_GW':mean_loss,\n",
    "                        'mean_revenue_mioUSD':mean_loss*9,\n",
    "                        'rank_2021_event':rank2021})\n",
    "    \n",
    "    return((resdf,res))"
   ]
  },
  {
   "cell_type": "markdown",
   "metadata": {},
   "source": [
    "version 1: temperature is adapted by: 0.017(2021-year)"
   ]
  },
  {
   "cell_type": "code",
   "execution_count": 40,
   "metadata": {},
   "outputs": [],
   "source": [
    "(scen_temptrend2021,res_temptrend2021) = get_temp_scenario(2021)"
   ]
  },
  {
   "cell_type": "markdown",
   "metadata": {},
   "source": [
    "version 2: temperature is adapted by: 0.017(2050-year)"
   ]
  },
  {
   "cell_type": "code",
   "execution_count": 47,
   "metadata": {},
   "outputs": [],
   "source": [
    "(scen_temptrend2050,res_temptrend2050) = get_temp_scenario(2050)"
   ]
  },
  {
   "cell_type": "code",
   "execution_count": 48,
   "metadata": {},
   "outputs": [],
   "source": [
    "scen_temptrend = pd.concat([scen_temptrend2021.thresh,scen_temptrend2050],axis=1)\n",
    "scen_temptrend.columns = ['thresh2021','thresh2050','load_est']\n",
    "\n",
    "res_temptrend = pd.concat([res_temptrend2021,res_temptrend2050],axis=0)\n",
    "res_temptrend['reference_year'] = ['2021','2050']"
   ]
  },
  {
   "cell_type": "code",
   "execution_count": 49,
   "metadata": {},
   "outputs": [],
   "source": [
    "res_temptrend.to_csv(out_path + 'sensitivity_analysis_temperature_trend_LR24temptrend_Hook-8.csv')\n",
    "scen_temptrend.to_csv(out_path + 'tresh_temperature_trend_LR24temptrend_Hook-8.csv')"
   ]
  },
  {
   "cell_type": "code",
   "execution_count": 50,
   "metadata": {},
   "outputs": [
    {
     "data": {
      "text/html": [
       "<div>\n",
       "<style scoped>\n",
       "    .dataframe tbody tr th:only-of-type {\n",
       "        vertical-align: middle;\n",
       "    }\n",
       "\n",
       "    .dataframe tbody tr th {\n",
       "        vertical-align: top;\n",
       "    }\n",
       "\n",
       "    .dataframe thead th {\n",
       "        text-align: right;\n",
       "    }\n",
       "</style>\n",
       "<table border=\"1\" class=\"dataframe\">\n",
       "  <thead>\n",
       "    <tr style=\"text-align: right;\">\n",
       "      <th></th>\n",
       "      <th>number_of_events</th>\n",
       "      <th>after2004</th>\n",
       "      <th>total_loss_TWh</th>\n",
       "      <th>max_loss_GW</th>\n",
       "      <th>mean_loss_GW</th>\n",
       "      <th>mean_revenue_mioUSD</th>\n",
       "      <th>rank_2021_event</th>\n",
       "      <th>reference_year</th>\n",
       "    </tr>\n",
       "  </thead>\n",
       "  <tbody>\n",
       "    <tr>\n",
       "      <th>0</th>\n",
       "      <td>25</td>\n",
       "      <td>[2010, 2011, 2017, 2018, 2021]</td>\n",
       "      <td>6.794960</td>\n",
       "      <td>0.042896</td>\n",
       "      <td>0.271798</td>\n",
       "      <td>2.446185</td>\n",
       "      <td>0</td>\n",
       "      <td>2021</td>\n",
       "    </tr>\n",
       "    <tr>\n",
       "      <th>0</th>\n",
       "      <td>25</td>\n",
       "      <td>[2010, 2011, 2017, 2018, 2021]</td>\n",
       "      <td>5.916638</td>\n",
       "      <td>0.042896</td>\n",
       "      <td>0.236666</td>\n",
       "      <td>2.129990</td>\n",
       "      <td>0</td>\n",
       "      <td>2050</td>\n",
       "    </tr>\n",
       "  </tbody>\n",
       "</table>\n",
       "</div>"
      ],
      "text/plain": [
       "   number_of_events                       after2004  total_loss_TWh  \\\n",
       "0                25  [2010, 2011, 2017, 2018, 2021]        6.794960   \n",
       "0                25  [2010, 2011, 2017, 2018, 2021]        5.916638   \n",
       "\n",
       "   max_loss_GW  mean_loss_GW  mean_revenue_mioUSD  rank_2021_event  \\\n",
       "0     0.042896      0.271798             2.446185                0   \n",
       "0     0.042896      0.236666             2.129990                0   \n",
       "\n",
       "  reference_year  \n",
       "0           2021  \n",
       "0           2050  "
      ]
     },
     "execution_count": 50,
     "metadata": {},
     "output_type": "execute_result"
    }
   ],
   "source": [
    "res_temptrend.iloc[:,2:]"
   ]
  },
  {
   "cell_type": "markdown",
   "metadata": {},
   "source": [
    "# scenarios no_outage"
   ]
  },
  {
   "cell_type": "code",
   "execution_count": 51,
   "metadata": {
    "code_folding": [
     0
    ]
   },
   "outputs": [],
   "source": [
    "def get_noout_scenario(noout):\n",
    "    if noout == 'wind':\n",
    "        thresh_total = thresh_gas_coal + wp/10**6\n",
    "    if noout == 'gas':\n",
    "        thresh_total = 62 - thresh_coal + wp_remain\n",
    "    if noout == 'coal':\n",
    "        thresh_total = 62 - thresh_gas + wp_remain\n",
    "    \n",
    "    resdf = pd.concat([thresh_total,load70.load_est/1000],axis=1)\n",
    "    resdf.columns = ['thresh','load_est']\n",
    "    \n",
    "    loss = (load70.load_est/1000 - thresh_total)[(load70.load_est/1000 - thresh_total)>0]/1000\n",
    "    events = loss.resample('Y').count().replace(0,np.nan).dropna()\n",
    "    total_loss = loss.sum()\n",
    "    mean_loss = loss.sum()/len(events)\n",
    "    rank2021 = np.where(events.sort_values(ascending=False).index.year==2021)[0][0]\n",
    "    \n",
    "    res = pd.DataFrame({'thresh_gas_temp':THRESH_GAS_TEMP,\n",
    "                        'thresh_coal_temp':THRESH_COAL_TEMP,\n",
    "                        'number_of_events':len(events),\n",
    "                        'after2004':[events['2004':].index.year.values],\n",
    "                        'total_loss_TWh':total_loss,\n",
    "                        'max_loss_GW':loss.max(),\n",
    "                        'mean_loss_GW':mean_loss,\n",
    "                        'mean_revenue_mioUSD':mean_loss*9,\n",
    "                        'rank_2021_event':rank2021})\n",
    "    \n",
    "    return((resdf,res))"
   ]
  },
  {
   "cell_type": "code",
   "execution_count": 52,
   "metadata": {},
   "outputs": [],
   "source": [
    "(scen_noout_wind,res_noout_wind) = get_noout_scenario('wind')\n",
    "(scen_noout_gas,res_noout_gas) = get_noout_scenario('gas')\n",
    "(scen_noout_coal,res_noout_coal) = get_noout_scenario('coal')"
   ]
  },
  {
   "cell_type": "code",
   "execution_count": 53,
   "metadata": {},
   "outputs": [],
   "source": [
    "scen_noout = pd.concat([scen_noout_wind.thresh,scen_noout_gas.thresh,scen_noout_coal],axis=1)\n",
    "scen_noout.columns = ['thresh_wind','thresh_gas','thresh_coal','load_est']\n",
    "\n",
    "res_noout = pd.concat([res_noout_wind,res_noout_gas,res_noout_coal],axis=0)\n",
    "res_noout['no_outage'] = ['wind','gas','coal']"
   ]
  },
  {
   "cell_type": "code",
   "execution_count": 54,
   "metadata": {},
   "outputs": [],
   "source": [
    "res_noout.to_csv(out_path + 'sensitivity_analysis_no_outage_LR24temptrend_Hook-8.csv')\n",
    "scen_noout.to_csv(out_path + 'tresh_no_outage_LR24temptrend_Hook-8.csv')"
   ]
  },
  {
   "cell_type": "code",
   "execution_count": 55,
   "metadata": {},
   "outputs": [
    {
     "data": {
      "text/html": [
       "<div>\n",
       "<style scoped>\n",
       "    .dataframe tbody tr th:only-of-type {\n",
       "        vertical-align: middle;\n",
       "    }\n",
       "\n",
       "    .dataframe tbody tr th {\n",
       "        vertical-align: top;\n",
       "    }\n",
       "\n",
       "    .dataframe thead th {\n",
       "        text-align: right;\n",
       "    }\n",
       "</style>\n",
       "<table border=\"1\" class=\"dataframe\">\n",
       "  <thead>\n",
       "    <tr style=\"text-align: right;\">\n",
       "      <th></th>\n",
       "      <th>number_of_events</th>\n",
       "      <th>after2004</th>\n",
       "      <th>total_loss_TWh</th>\n",
       "      <th>max_loss_GW</th>\n",
       "      <th>mean_loss_GW</th>\n",
       "      <th>mean_revenue_mioUSD</th>\n",
       "      <th>rank_2021_event</th>\n",
       "      <th>no_outage</th>\n",
       "    </tr>\n",
       "  </thead>\n",
       "  <tbody>\n",
       "    <tr>\n",
       "      <th>0</th>\n",
       "      <td>14</td>\n",
       "      <td>[2018, 2021]</td>\n",
       "      <td>6.274872</td>\n",
       "      <td>0.039177</td>\n",
       "      <td>0.448205</td>\n",
       "      <td>4.033846</td>\n",
       "      <td>0</td>\n",
       "      <td>wind</td>\n",
       "    </tr>\n",
       "    <tr>\n",
       "      <th>0</th>\n",
       "      <td>26</td>\n",
       "      <td>[2010, 2011, 2017, 2018, 2021]</td>\n",
       "      <td>2.149219</td>\n",
       "      <td>0.024796</td>\n",
       "      <td>0.082662</td>\n",
       "      <td>0.743961</td>\n",
       "      <td>4</td>\n",
       "      <td>gas</td>\n",
       "    </tr>\n",
       "    <tr>\n",
       "      <th>0</th>\n",
       "      <td>25</td>\n",
       "      <td>[2010, 2011, 2017, 2018, 2021]</td>\n",
       "      <td>7.746966</td>\n",
       "      <td>0.039696</td>\n",
       "      <td>0.309879</td>\n",
       "      <td>2.788908</td>\n",
       "      <td>1</td>\n",
       "      <td>coal</td>\n",
       "    </tr>\n",
       "  </tbody>\n",
       "</table>\n",
       "</div>"
      ],
      "text/plain": [
       "   number_of_events                       after2004  total_loss_TWh  \\\n",
       "0                14                    [2018, 2021]        6.274872   \n",
       "0                26  [2010, 2011, 2017, 2018, 2021]        2.149219   \n",
       "0                25  [2010, 2011, 2017, 2018, 2021]        7.746966   \n",
       "\n",
       "   max_loss_GW  mean_loss_GW  mean_revenue_mioUSD  rank_2021_event no_outage  \n",
       "0     0.039177      0.448205             4.033846                0      wind  \n",
       "0     0.024796      0.082662             0.743961                4       gas  \n",
       "0     0.039696      0.309879             2.788908                1      coal  "
      ]
     },
     "execution_count": 55,
     "metadata": {},
     "output_type": "execute_result"
    }
   ],
   "source": [
    "res_noout.iloc[:,2:]"
   ]
  },
  {
   "cell_type": "markdown",
   "metadata": {},
   "source": [
    "# scenarios reduced_outage"
   ]
  },
  {
   "cell_type": "markdown",
   "metadata": {},
   "source": [
    "-> see outages_reduced_bootstrap"
   ]
  }
 ],
 "metadata": {
  "kernelspec": {
   "display_name": "Python [conda env:.conda-py39]",
   "language": "python",
   "name": "conda-env-.conda-py39-py"
  },
  "language_info": {
   "codemirror_mode": {
    "name": "ipython",
    "version": 3
   },
   "file_extension": ".py",
   "mimetype": "text/x-python",
   "name": "python",
   "nbconvert_exporter": "python",
   "pygments_lexer": "ipython3",
   "version": "3.9.6"
  }
 },
 "nbformat": 4,
 "nbformat_minor": 4
}
