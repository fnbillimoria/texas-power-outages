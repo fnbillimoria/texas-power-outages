{
 "cells": [
  {
   "cell_type": "code",
   "execution_count": 1,
   "metadata": {},
   "outputs": [],
   "source": [
    "import argparse\n",
    "import datetime\n",
    "import glob\n",
    "import math\n",
    "import numpy as np\n",
    "import os\n",
    "import pandas as pd\n",
    "import rasterio\n",
    "import seaborn as sns\n",
    "import statsmodels.api as sm\n",
    "import time\n",
    "import xarray as xr\n",
    "\n",
    "import sys\n",
    "sys.path.append('../')\n",
    "\n",
    "from functools import reduce\n",
    "from matplotlib import pyplot as plt\n",
    "from scipy.interpolate import interp1d\n",
    "\n",
    "from utilsTX import power_curve\n",
    "from utilsTX import windpower_simulation_era5\n",
    "\n",
    "\n",
    "from dask.diagnostics import ProgressBar\n",
    "ProgressBar().register()\n",
    "\n",
    "from paths_usa import *"
   ]
  },
  {
   "cell_type": "code",
   "execution_count": 2,
   "metadata": {},
   "outputs": [],
   "source": [
    "data_path = '/data/users/kgruber/other-data/TX/'\n",
    "gwacf_path = results_path\n",
    "results_path = '/data/users/kgruber/results/TX/'"
   ]
  },
  {
   "cell_type": "code",
   "execution_count": 3,
   "metadata": {},
   "outputs": [],
   "source": [
    "GWA = '2'\n",
    "\n",
    "# Simulate wind power with ERA5\n",
    "wind1 = xr.open_mfdataset(era_path + \"/eff_ws/era5_wind_USA_*.nc\", chunks = {'time': 38})\n",
    "wind = wind1.sortby('time')\n",
    "alpha1 = xr.open_mfdataset(era_path + \"/eff_ws/era5_alpha_USA_*.nc\", chunks = {'time': 38})\n",
    "alpha = alpha1.sortby('time')\n",
    "\n",
    "# with GWA\n",
    "outfile = results_path + '/windpower_TX_ERA5_GWA*.nc'\n",
    "turbine_data_era_gwa = pd.read_csv(data_path + '/turbine_data_era_gwa' + GWA + '.csv', parse_dates=['commissioning'])"
   ]
  },
  {
   "cell_type": "code",
   "execution_count": 32,
   "metadata": {},
   "outputs": [
    {
     "name": "stdout",
     "output_type": "stream",
     "text": [
      "calculating ERA5 TX GWA 1985-1989\n",
      "[########################################] | 100% Completed | 45.7s\n",
      "[########################################] | 100% Completed | 52.8s\n",
      "calculating ERA5 TX GWA 1990-1994\n",
      "[########################################] | 100% Completed | 52.0s\n",
      "[########################################] | 100% Completed | 55.0s\n",
      "calculating ERA5 TX GWA 1995-1999\n",
      "[########################################] | 100% Completed |  1min  4.5s\n",
      "[########################################] | 100% Completed | 48.2s\n",
      "calculating ERA5 TX GWA 2000-2004\n",
      "[########################################] | 100% Completed |  1min  4.3s\n",
      "[########################################] | 100% Completed | 48.5s\n",
      "calculating ERA5 TX GWA 2005-2009\n",
      "[########################################] | 100% Completed |  1min  2.9s\n",
      "[########################################] | 100% Completed | 49.4s\n",
      "calculating ERA5 TX GWA 2010-2014\n",
      "[########################################] | 100% Completed |  1min  7.9s\n",
      "[########################################] | 100% Completed | 43.3s\n",
      "calculating ERA5 TX GWA 2015-2019\n",
      "[########################################] | 100% Completed |  1min  6.6s\n",
      "[########################################] | 100% Completed | 56.7s\n"
     ]
    }
   ],
   "source": [
    "for y in range(0,70,5):\n",
    "    year1 = str(1950+y)\n",
    "    year2 = str(1950+y+4)\n",
    "    if results_path + 'windpower_TX_ERA5_GWA_' + year1 + '-' + year2 + '.nc' not in glob.glob(outfile):\n",
    "        print('calculating ERA5 TX GWA ' + year1 + '-' + year2)\n",
    "        GWAcf = xr.open_dataarray(gwacf_path + '/cf_ERA_GWA2.nc')\n",
    "        wps = windpower_simulation_era5(wind.wh100.sel(time=slice(year1,year2)),\n",
    "                                        alpha.alpha.sel(time=slice(year1,year2)),\n",
    "                                        turbine_data_era_gwa.height.values,\n",
    "                                        turbine_data_era_gwa.capacity.values,\n",
    "                                        turbine_data_era_gwa.sp.values,\n",
    "                                        turbine_data_era_gwa.lon.values,\n",
    "                                        turbine_data_era_gwa.lat.values,\n",
    "                                        GWAcf)\n",
    "        # save as netcdf\n",
    "        wps.to_dataset(name='wp').to_netcdf(results_path+\"/windpower_TX_ERA5_GWA_\" + year1 + \"-\" + year2 + \".nc\")"
   ]
  },
  {
   "cell_type": "code",
   "execution_count": 4,
   "metadata": {},
   "outputs": [
    {
     "name": "stdout",
     "output_type": "stream",
     "text": [
      "calculating ERA5 TX GWA 2020-2021\n",
      "[########################################] | 100% Completed | 10.2s\n",
      "[########################################] | 100% Completed |  9.7s\n"
     ]
    }
   ],
   "source": [
    "# for 2020 and 2021\n",
    "year1 = '2020'\n",
    "year2 = '2021'\n",
    "if results_path + 'windpower_TX_ERA5_GWA_' + year1 + '-' + year2 + '.nc' not in glob.glob(outfile):\n",
    "    print('calculating ERA5 TX GWA ' + year1 + '-' + year2)\n",
    "    GWAcf = xr.open_dataarray(gwacf_path + '/cf_ERA_GWA2.nc')\n",
    "    wps = windpower_simulation_era5(wind.wh100.sel(time=slice(year1,year2)),\n",
    "                                    alpha.alpha.sel(time=slice(year1,year2)),\n",
    "                                    turbine_data_era_gwa.height.values,\n",
    "                                    turbine_data_era_gwa.capacity.values,\n",
    "                                    turbine_data_era_gwa.sp.values,\n",
    "                                    turbine_data_era_gwa.lon.values,\n",
    "                                    turbine_data_era_gwa.lat.values,\n",
    "                                    GWAcf)\n",
    "    # save as netcdf\n",
    "    wps.to_dataset(name='wp').to_netcdf(results_path+\"/windpower_TX_ERA5_GWA_\" + year1 + \"-\" + year2 + \".nc\")"
   ]
  },
  {
   "cell_type": "code",
   "execution_count": 5,
   "metadata": {},
   "outputs": [],
   "source": [
    "del(wps,wind,wind1,alpha,alpha1)"
   ]
  },
  {
   "cell_type": "code",
   "execution_count": 6,
   "metadata": {},
   "outputs": [],
   "source": [
    "# load wind power generation\n",
    "wp_loc = xr.open_mfdataset(results_path+\"/windpower_TX_ERA5_GWA_????-????.nc\")\n",
    "# aggregate wind power generation to TX\n",
    "wpTX = wp_loc.sum('location').to_dataframe()\n",
    "# aggregate wind power generation daily\n",
    "wpTXd = wpTX.resample('d').sum()\n",
    "# calculate capacity factors\n",
    "cfTX = wpTX/turbine_data_era_gwa.capacity.sum()\n",
    "cfTXd = wpTXd/(turbine_data_era_gwa.capacity.sum()*24)"
   ]
  },
  {
   "cell_type": "code",
   "execution_count": 22,
   "metadata": {},
   "outputs": [],
   "source": [
    "# save\n",
    "wpTX.to_csv(results_path + 'wpTXh.csv')\n",
    "wpTXd.to_csv(results_path + 'wpTXd.csv')\n",
    "cfTX.to_csv(results_path + 'cfTXh.csv')\n",
    "cfTXd.to_csv(results_path + 'cfTXd.csv')"
   ]
  }
 ],
 "metadata": {
  "kernelspec": {
   "display_name": "Python [conda env:.conda-py37]",
   "language": "python",
   "name": "conda-env-.conda-py37-py"
  },
  "language_info": {
   "codemirror_mode": {
    "name": "ipython",
    "version": 3
   },
   "file_extension": ".py",
   "mimetype": "text/x-python",
   "name": "python",
   "nbconvert_exporter": "python",
   "pygments_lexer": "ipython3",
   "version": "3.7.3"
  }
 },
 "nbformat": 4,
 "nbformat_minor": 4
}
