{
 "cells": [
  {
   "cell_type": "code",
   "execution_count": 1,
   "metadata": {},
   "outputs": [],
   "source": [
    "import matplotlib.pyplot as plt\n",
    "import pandas as pd\n",
    "import xarray as xr\n",
    "import numpy as np\n",
    "import glob\n",
    "\n",
    "import sys\n",
    "sys.path.append('./../scripts')\n",
    "\n",
    "from refuelplot import *\n",
    "setup()\n",
    "sns.set_style(\"white\")"
   ]
  },
  {
   "cell_type": "code",
   "execution_count": 2,
   "metadata": {},
   "outputs": [],
   "source": [
    "tx_path = '/data/projects/texas-power-outages/data/interim/'\n",
    "fig_path = '/data/projects/texas-power-outages/data/figures/'\n",
    "out_path = '/data/projects/texas-power-outages/data/output/'\n",
    "fig_path_raw = fig_path+'raw_data/'"
   ]
  },
  {
   "cell_type": "markdown",
   "metadata": {},
   "source": [
    "# load data"
   ]
  },
  {
   "cell_type": "markdown",
   "metadata": {
    "heading_collapsed": true
   },
   "source": [
    "### load outages"
   ]
  },
  {
   "cell_type": "code",
   "execution_count": 3,
   "metadata": {
    "hidden": true
   },
   "outputs": [],
   "source": [
    "reduction= pd.read_csv(tx_path+'outages/outages_reduction.csv',index_col=0,parse_dates=True).tz_convert('Etc/GMT+6')"
   ]
  },
  {
   "cell_type": "markdown",
   "metadata": {
    "heading_collapsed": true
   },
   "source": [
    "### load temperature"
   ]
  },
  {
   "cell_type": "code",
   "execution_count": 4,
   "metadata": {
    "hidden": true
   },
   "outputs": [],
   "source": [
    "# load power plant temperatures\n",
    "temppp = pd.read_csv(tx_path + 'temperatures/temppowerplant.csv',index_col=0,parse_dates=True).tz_localize('UTC').tz_convert('Etc/GMT+6')"
   ]
  },
  {
   "cell_type": "code",
   "execution_count": 5,
   "metadata": {
    "hidden": true
   },
   "outputs": [],
   "source": [
    "# load gas field temperatures\n",
    "tempgf = pd.read_csv(tx_path + 'temperatures/temp_gasfields.csv',index_col=0,parse_dates=True).t2m.tz_convert('Etc/GMT+6')"
   ]
  },
  {
   "cell_type": "code",
   "execution_count": 6,
   "metadata": {
    "hidden": true
   },
   "outputs": [],
   "source": [
    "# get temperature at windparks\n",
    "tempwp = pd.read_csv(tx_path + 'temperatures/tempWP.csv',parse_dates=True,index_col=0).tz_convert('Etc/GMT+6').t2m\n",
    "tempwpNS = pd.read_csv(tx_path + 'temperatures/tempWP_NSsplit.csv',parse_dates=True,index_col=0).tz_convert('Etc/GMT+6')\n",
    "# get wind power\n",
    "wp = pd.read_csv(tx_path + 'windpower/wpTXh.csv',parse_dates=True,index_col=0).tz_localize('UTC').tz_convert('Etc/GMT+6').wp"
   ]
  },
  {
   "cell_type": "markdown",
   "metadata": {
    "heading_collapsed": true
   },
   "source": [
    "### load load"
   ]
  },
  {
   "cell_type": "code",
   "execution_count": 7,
   "metadata": {
    "hidden": true
   },
   "outputs": [],
   "source": [
    "# get load\n",
    "load = pd.read_csv(tx_path + 'load/load_est_LR24temptrend_Hook-8.csv',index_col=0,parse_dates=True).tz_convert('Etc/GMT+6')\n",
    "load70 = pd.read_csv(tx_path + 'load/load_est70_LR24_temptrend_Hook-8.csv',index_col=0,parse_dates=True).tz_convert('Etc/GMT+6')"
   ]
  },
  {
   "cell_type": "markdown",
   "metadata": {
    "heading_collapsed": true
   },
   "source": [
    "### load outage model results"
   ]
  },
  {
   "cell_type": "code",
   "execution_count": 8,
   "metadata": {
    "hidden": true
   },
   "outputs": [],
   "source": [
    "out_model_param = pd.read_csv(out_path + 'outage_function_parameters/outage_function_parameters.cvs',index_col=0)"
   ]
  },
  {
   "cell_type": "markdown",
   "metadata": {
    "heading_collapsed": true
   },
   "source": [
    "### threshold function"
   ]
  },
  {
   "cell_type": "code",
   "execution_count": 9,
   "metadata": {
    "code_folding": [],
    "hidden": true
   },
   "outputs": [],
   "source": [
    "def get_thresh(temp,temp_fail,temp_recover,cap_loss,k):\n",
    "    available_cap = pd.Series(0,index=temp.index)\n",
    "    below_thresh = temp[temp<temp_fail].resample('M').count().replace(0,np.nan).dropna()\n",
    "    ym = below_thresh.index.strftime(\"%Y-%m\")\n",
    "    h_recovery = int(-cap_loss/k)\n",
    "    for i in range(len(below_thresh)):\n",
    "        t1 = pd.to_datetime(ym[i])\n",
    "        while(t1.strftime(\"%Y-%m\")==ym[i]):\n",
    "            t0 = (temp[t1:]<temp_fail).idxmax()\n",
    "            t1 = (temp[(t0+np.timedelta64(10,'h')):]>temp_recover).idxmax()\n",
    "            const_time = int((t1-t0)/np.timedelta64(1,'h'))\n",
    "            t2 = t1 + np.timedelta64(h_recovery-1,'h')\n",
    "            available_cap[t0:t2] = cap_loss + k*np.concatenate([np.array([0]*const_time),np.arange(h_recovery)])[:len(available_cap[t0:t2])]\n",
    "            if sum(temp[t1:]<temp_fail)==0:\n",
    "                break\n",
    "    return(available_cap)"
   ]
  },
  {
   "cell_type": "markdown",
   "metadata": {
    "heading_collapsed": true
   },
   "source": [
    "### marginal winterization costs\n",
    "Million $ /GW"
   ]
  },
  {
   "cell_type": "code",
   "execution_count": 10,
   "metadata": {
    "hidden": true
   },
   "outputs": [],
   "source": [
    "winterization_coal = 223.53\n",
    "winterization_gas = 453.43\n",
    "winterization_wind = 65"
   ]
  },
  {
   "cell_type": "markdown",
   "metadata": {},
   "source": [
    "# scenarios reduced_outage"
   ]
  },
  {
   "cell_type": "code",
   "execution_count": 11,
   "metadata": {},
   "outputs": [
    {
     "name": "stdout",
     "output_type": "stream",
     "text": [
      "read bootstrap\n"
     ]
    }
   ],
   "source": [
    "if tx_path + 'bootstrap_year2020.csv' in glob.glob(tx_path + '*.csv'):\n",
    "    print('read bootstrap')\n",
    "    bootstrap_year = np.genfromtxt(tx_path + 'bootstrap_year2020.csv', delimiter=',')\n",
    "else:\n",
    "    print('newly generate bootstrap')\n",
    "    bootstrap_year = np.random.choice(np.arange(1950,2021),(10000,30))\n",
    "    np.savetxt(tx_path + \"bootstrap_year2020.csv\", bootstrap_year, delimiter=\",\")"
   ]
  },
  {
   "cell_type": "code",
   "execution_count": 12,
   "metadata": {},
   "outputs": [],
   "source": [
    "MAXOUT_GAS = round(out_model_param.outage_capacity.gas,1)\n",
    "MAXOUT_WINDN = round(out_model_param.outage_capacity.wind_north,1)\n",
    "MAXOUT_WINDS = round(out_model_param.outage_capacity.wind_south,1)\n",
    "MAXOUT_COAL = round(out_model_param.outage_capacity.coal,1)\n",
    "THRESH_GAS_TEMP = round(out_model_param.outage_temperature_threshold.gas,1)\n",
    "THRESH_COAL_TEMP = round(out_model_param.outage_temperature_threshold.coal,1)\n",
    "THRESH_WINDN_TEMP = round(out_model_param.outage_temperature_threshold.wind_north,1)\n",
    "THRESH_WINDS_TEMP = round(out_model_param.outage_temperature_threshold.wind_south,1)\n",
    "\n",
    "REC_GAS_TEMP = round(out_model_param.recovery_temperature_threshold.gas,1)\n",
    "REC_COAL_TEMP = round(out_model_param.recovery_temperature_threshold.coal,1)\n",
    "REC_WINDN_TEMP = round(out_model_param.recovery_temperature_threshold.wind_north,1)\n",
    "REC_WINDS_TEMP = round(out_model_param.recovery_temperature_threshold.wind_south,1)\n",
    "\n",
    "K_GAS = -out_model_param.outage_capacity.gas/out_model_param.recovery_length.gas\n",
    "K_COAL = -out_model_param.outage_capacity.coal/out_model_param.recovery_length.coal\n",
    "K_WINDN = -out_model_param.outage_capacity.wind_north/out_model_param.recovery_length.wind_north\n",
    "K_WINDS = -out_model_param.outage_capacity.wind_south/out_model_param.recovery_length.wind_south"
   ]
  },
  {
   "cell_type": "code",
   "execution_count": 13,
   "metadata": {
    "code_folding": [
     0
    ]
   },
   "outputs": [],
   "source": [
    "def run_redout_scenario_technology(sampleyears,technology):\n",
    "    # define discount rate\n",
    "    discount = 1.05 ** (-np.arange(1,31))\n",
    "    \n",
    "    # reduce max out gradually by one GW\n",
    "    if technology == 'gas':\n",
    "        maxout_coal = MAXOUT_COAL - np.zeros(int(round(MAXOUT_GAS))+1)\n",
    "        maxout_windN = MAXOUT_WINDN - np.zeros(int(round(MAXOUT_GAS))+1)\n",
    "        maxout_windS = MAXOUT_WINDS - np.zeros(int(round(MAXOUT_GAS))+1)\n",
    "        maxout_gas = MAXOUT_GAS - np.arange(int(round(MAXOUT_GAS))+1)\n",
    "        maxout_gas[maxout_gas<0] = 0\n",
    "    if technology == 'coal':\n",
    "        maxout_gas = MAXOUT_GAS - np.zeros(int(round(MAXOUT_COAL))+1)\n",
    "        maxout_windN = MAXOUT_WINDN - np.zeros(int(round(MAXOUT_COAL))+1)\n",
    "        maxout_windS = MAXOUT_WINDS - np.zeros(int(round(MAXOUT_COAL))+1)\n",
    "        maxout_coal = MAXOUT_COAL - np.arange(int(round(MAXOUT_COAL))+1)\n",
    "        maxout_coal[maxout_coal<0] = 0\n",
    "    if technology == 'wind_north':\n",
    "        maxout_coal = MAXOUT_COAL - np.zeros(int(round(MAXOUT_WINDN))+1)\n",
    "        maxout_gas = MAXOUT_GAS - np.zeros(int(round(MAXOUT_WINDN))+1)\n",
    "        maxout_windS = MAXOUT_WINDS - np.zeros(int(round(MAXOUT_WINDN))+1)\n",
    "        maxout_windN = MAXOUT_WINDN - np.arange(int(round(MAXOUT_WINDN))+1)\n",
    "        maxout_windN[maxout_windN<0] = 0\n",
    "    if technology == 'wind_south':\n",
    "        maxout_coal = MAXOUT_COAL - np.zeros(int(round(MAXOUT_WINDS))+1)\n",
    "        maxout_gas = MAXOUT_GAS - np.zeros(int(round(MAXOUT_WINDS))+1)\n",
    "        maxout_windN = MAXOUT_WINDN - np.zeros(int(round(MAXOUT_WINDS))+1)\n",
    "        maxout_windS = MAXOUT_WINDS - np.arange(int(round(MAXOUT_WINDS))+1)\n",
    "        maxout_windS[maxout_windS<0] = 0\n",
    "    \n",
    "    \n",
    "\n",
    "    reduced_GW = -1\n",
    "    results_matrix = np.zeros((len(maxout_gas),10000))\n",
    "    for (mogas,mowindN,mowindS,mocoal) in zip(maxout_gas,maxout_windN,maxout_windS,maxout_coal):\n",
    "        reduced_GW = reduced_GW + 1\n",
    "        print('reduced GW',reduced_GW)\n",
    "        # GET THRESHOLDS\n",
    "        #thresh_gas = get_thresh(tempgf,THRESH_GAS_TEMP,REC_GAS_TEMP,mogas,K_GAS)\n",
    "        thresh_gas = get_thresh(temppp.NG,THRESH_GAS_TEMP,REC_GAS_TEMP,mogas,K_GAS)\n",
    "        thresh_coal = get_thresh(temppp.COAL,THRESH_COAL_TEMP,REC_COAL_TEMP,mocoal,K_COAL)\n",
    "        thresh_windN = get_thresh(tempwpNS.t2mNorth,THRESH_WINDN_TEMP,REC_WINDN_TEMP,mowindN,K_WINDN)\n",
    "        thresh_windS = get_thresh(tempwpNS.t2mSouth,THRESH_WINDS_TEMP,REC_WINDS_TEMP,mowindS,K_WINDS)\n",
    "        thresh_gas_coal = 63.5 - (thresh_gas + thresh_coal)\n",
    "        wp_remain = wp/10**6*(33-thresh_windN-thresh_windS)/33\n",
    "        thresh_total = thresh_gas_coal + wp_remain\n",
    "        \n",
    "        loss = (load70.load_est/1000 - thresh_total)[(load70.load_est/1000 - thresh_total)>0]/1000\n",
    "        events = loss.resample('Y').count().replace(0,np.nan).dropna()\n",
    "        yearly_loss = loss.resample('Y').sum()\n",
    "        yearly_loss.index = yearly_loss.index.year\n",
    "        yearly_loss = pd.Series(pd.Index(range(1950,2022)).map(yearly_loss).fillna(0),index=range(1950,2022))\n",
    "        \n",
    "        # bootstrap\n",
    "        bootstrap = 0\n",
    "        for years in sampleyears:\n",
    "            bootstrap = bootstrap + 1\n",
    "            deficiti = 9000*(yearly_loss[years] * discount).sum()\n",
    "            results_matrix[reduced_GW,bootstrap -1]= deficiti\n",
    "    return(results_matrix)"
   ]
  },
  {
   "cell_type": "markdown",
   "metadata": {},
   "source": [
    "## run scenarios"
   ]
  },
  {
   "cell_type": "markdown",
   "metadata": {},
   "source": [
    "### run"
   ]
  },
  {
   "cell_type": "code",
   "execution_count": 17,
   "metadata": {},
   "outputs": [
    {
     "name": "stdout",
     "output_type": "stream",
     "text": [
      "reduced GW 0\n",
      "reduced GW 1\n",
      "reduced GW 2\n",
      "reduced GW 3\n",
      "reduced GW 4\n",
      "reduced GW 5\n",
      "reduced GW 6\n",
      "reduced GW 7\n",
      "reduced GW 8\n",
      "reduced GW 9\n",
      "reduced GW 10\n",
      "reduced GW 11\n",
      "reduced GW 12\n",
      "reduced GW 13\n",
      "reduced GW 0\n",
      "reduced GW 1\n",
      "reduced GW 2\n",
      "reduced GW 3\n",
      "reduced GW 4\n",
      "reduced GW 5\n",
      "reduced GW 0\n",
      "reduced GW 1\n",
      "reduced GW 2\n",
      "reduced GW 3\n",
      "reduced GW 4\n",
      "reduced GW 5\n",
      "reduced GW 6\n",
      "reduced GW 7\n",
      "reduced GW 8\n",
      "reduced GW 9\n",
      "reduced GW 10\n",
      "reduced GW 11\n",
      "reduced GW 12\n",
      "reduced GW 13\n",
      "reduced GW 14\n",
      "reduced GW 15\n",
      "reduced GW 16\n",
      "reduced GW 17\n",
      "reduced GW 18\n",
      "reduced GW 0\n",
      "reduced GW 1\n",
      "reduced GW 2\n",
      "reduced GW 3\n"
     ]
    }
   ],
   "source": [
    "scen_bootstrap_windN = run_redout_scenario_technology(bootstrap_year,'wind_north')\n",
    "scen_bootstrap_windS = run_redout_scenario_technology(bootstrap_year,'wind_south')\n",
    "scen_bootstrap_gas = run_redout_scenario_technology(bootstrap_year,'gas')\n",
    "scen_bootstrap_coal = run_redout_scenario_technology(bootstrap_year,'coal')"
   ]
  },
  {
   "cell_type": "code",
   "execution_count": 18,
   "metadata": {},
   "outputs": [
    {
     "data": {
      "text/plain": [
       "12059.04048967478"
      ]
     },
     "execution_count": 18,
     "metadata": {},
     "output_type": "execute_result"
    }
   ],
   "source": [
    "scen_bootstrap_gas[0].mean()"
   ]
  },
  {
   "cell_type": "markdown",
   "metadata": {},
   "source": [
    "### calculate marginal revenue"
   ]
  },
  {
   "cell_type": "code",
   "execution_count": 19,
   "metadata": {},
   "outputs": [],
   "source": [
    "marginal_revenue_windN = (scen_bootstrap_windN[:-1,] - scen_bootstrap_windN[1:,])/1000\n",
    "marginal_revenue_windN_long = pd.DataFrame(marginal_revenue_windN.transpose()).melt()\n",
    "marginal_revenue_windN_long.variable = marginal_revenue_windN_long.variable + 1\n",
    "\n",
    "marginal_revenue_windS = (scen_bootstrap_windS[:-1,] - scen_bootstrap_windS[1:,])/1000\n",
    "marginal_revenue_windS_long = pd.DataFrame(marginal_revenue_windS.transpose()).melt()\n",
    "marginal_revenue_windS_long.variable = marginal_revenue_windS_long.variable + 1\n",
    "\n",
    "marginal_revenue_gas = (scen_bootstrap_gas[:-1,] - scen_bootstrap_gas[1:,])/1000\n",
    "marginal_revenue_gas_long = pd.DataFrame(marginal_revenue_gas.transpose()).melt()\n",
    "marginal_revenue_gas_long.variable = marginal_revenue_gas_long.variable + 1\n",
    "\n",
    "marginal_revenue_coal = (scen_bootstrap_coal[:-1,] - scen_bootstrap_coal[1:,])/1000\n",
    "marginal_revenue_coal_long = pd.DataFrame(marginal_revenue_coal.transpose()).melt()\n",
    "marginal_revenue_coal_long.variable = marginal_revenue_coal_long.variable + 1"
   ]
  },
  {
   "cell_type": "code",
   "execution_count": 20,
   "metadata": {},
   "outputs": [],
   "source": [
    "pd.DataFrame(marginal_revenue_gas,index=pd.Series(range(marginal_revenue_gas.shape[0]),name='reduced_GW'),\n",
    "             columns = 'scen'+pd.Series(range(10000)).astype(str)).to_csv(out_path + 'marginal_revenue_gas2020_LR24temptrend_Hook-8.csv')\n",
    "pd.DataFrame(marginal_revenue_coal,index=pd.Series(range(marginal_revenue_coal.shape[0]),name='reduced_GW'),\n",
    "             columns = 'scen'+pd.Series(range(10000)).astype(str)).to_csv(out_path + 'marginal_revenue_coal2020_LR24temptrend_Hook-8.csv')\n",
    "pd.DataFrame(marginal_revenue_windN,index=pd.Series(range(marginal_revenue_windN.shape[0]),name='reduced_GW'),\n",
    "             columns = 'scen'+pd.Series(range(10000)).astype(str)).to_csv(out_path + 'marginal_revenue_wind_north2020_LR24temptrend_Hook-8.csv')\n",
    "pd.DataFrame(marginal_revenue_windS,index=pd.Series(range(marginal_revenue_windS.shape[0]),name='reduced_GW'),\n",
    "             columns = 'scen'+pd.Series(range(10000)).astype(str)).to_csv(out_path + 'marginal_revenue_wind_south2020_LR24temptrend_Hook-8.csv')"
   ]
  },
  {
   "cell_type": "code",
   "execution_count": 21,
   "metadata": {},
   "outputs": [
    {
     "data": {
      "text/plain": [
       "array([ 0.87783947,  1.71275446,  2.5008159 ,  3.24820413,  3.95072888,\n",
       "        4.6050661 ,  5.21922913,  5.80499472,  6.35752445,  6.86962871,\n",
       "        7.35662863,  7.83060773,  8.28583325,  8.72177116,  9.13046182,\n",
       "        9.51639264,  9.88182409, 10.21657814])"
      ]
     },
     "execution_count": 21,
     "metadata": {},
     "output_type": "execute_result"
    }
   ],
   "source": [
    "marginal_revenue_gas.mean(axis=1).cumsum()"
   ]
  },
  {
   "cell_type": "code",
   "execution_count": 22,
   "metadata": {},
   "outputs": [
    {
     "data": {
      "text/plain": [
       "453.43"
      ]
     },
     "execution_count": 22,
     "metadata": {},
     "output_type": "execute_result"
    }
   ],
   "source": [
    "winterization_gas"
   ]
  },
  {
   "cell_type": "code",
   "execution_count": 23,
   "metadata": {},
   "outputs": [
    {
     "data": {
      "text/plain": [
       "array([0.87783947, 0.83491499, 0.78806144, 0.74738823, 0.70252475,\n",
       "       0.65433722, 0.61416303, 0.58576558, 0.55252973, 0.51210426,\n",
       "       0.48699992, 0.4739791 , 0.45522552, 0.43593791, 0.40869066,\n",
       "       0.38593082, 0.36543145, 0.33475406])"
      ]
     },
     "execution_count": 23,
     "metadata": {},
     "output_type": "execute_result"
    }
   ],
   "source": [
    "marginal_revenue_gas.mean(axis=1)"
   ]
  },
  {
   "cell_type": "code",
   "execution_count": 27,
   "metadata": {},
   "outputs": [
    {
     "name": "stdout",
     "output_type": "stream",
     "text": [
      "average: 0.17600749970117444\n",
      "first GW: 0.17501327949927722\n"
     ]
    }
   ],
   "source": [
    "rev_gas_2020 = np.array([0.87783947, 0.83491499, 0.78806144, 0.74738823, 0.70252475,\n",
    "       0.65433722, 0.61416303, 0.58576558, 0.55252973, 0.51210426,\n",
    "       0.48699992, 0.4739791 , 0.45522552, 0.43593791, 0.40869066,\n",
    "       0.38593082, 0.36543145, 0.33475406])\n",
    "rev_gas_2021 = np.array([1.06406497, 1.02207262, 0.97438619, 0.92984537, 0.87635247,\n",
    "       0.81734164, 0.76668493, 0.73119899, 0.6861627 , 0.63109051,\n",
    "       0.59362967, 0.57328041, 0.5496113 , 0.51546926, 0.48041384,\n",
    "       0.44987138, 0.42075945, 0.3900944 ])\n",
    "\n",
    "print('average:',((rev_gas_2021-rev_gas_2020)/rev_gas_2021).mean())\n",
    "print('first GW:',(rev_gas_2021[0]-rev_gas_2020[0])/rev_gas_2021[0])"
   ]
  },
  {
   "cell_type": "code",
   "execution_count": 24,
   "metadata": {},
   "outputs": [
    {
     "data": {
      "text/plain": [
       "12059.04048967478"
      ]
     },
     "execution_count": 24,
     "metadata": {},
     "output_type": "execute_result"
    }
   ],
   "source": [
    "scen_bootstrap_gas[0,:].mean()"
   ]
  },
  {
   "cell_type": "markdown",
   "metadata": {},
   "source": [
    "### bootstrap load"
   ]
  },
  {
   "cell_type": "code",
   "execution_count": null,
   "metadata": {
    "code_folding": [
     0
    ]
   },
   "outputs": [],
   "source": [
    "def run_load_scenario(sampleyears):    \n",
    "    \n",
    "    results_matrix = np.zeros(10000)\n",
    "    # GET THRESHOLDS\n",
    "    thresh_gas = get_thresh(temppp.NG,THRESH_GAS_TEMP,REC_GAS_TEMP,MAXOUT_GAS,K_GAS)\n",
    "    thresh_coal = get_thresh(temppp.COAL,THRESH_COAL_TEMP,REC_COAL_TEMP,MAXOUT_GAS,K_COAL)\n",
    "    thresh_windN = get_thresh(tempwpNS.t2mNorth,THRESH_WINDN_TEMP,REC_WINDN_TEMP,MAXOUT_WINDN,K_WINDN)\n",
    "    thresh_windS = get_thresh(tempwpNS.t2mSouth,THRESH_WINDS_TEMP,REC_WINDS_TEMP,MAXOUT_WINDS,K_WINDS)\n",
    "    thresh_gas_coal = 62 - (thresh_gas + thresh_coal)\n",
    "    wp_remain = wp/10**6*(33-thresh_windN-thresh_windS)/33\n",
    "    thresh_total = thresh_gas_coal + wp_remain\n",
    "\n",
    "    loss = (load70.load_est/1000 - thresh_total)[(load70.load_est/1000 - thresh_total)>0]/1000\n",
    "    yearly_loss = loss.resample('Y').sum()\n",
    "    yearly_loss.index = yearly_loss.index.year\n",
    "        \n",
    "    # bootstrap\n",
    "    bootstrap = 0\n",
    "    for years in sampleyears:\n",
    "        bootstrap = bootstrap + 1\n",
    "        results_matrix[bootstrap -1]= yearly_loss[years].sum()\n",
    "            \n",
    "    return(results_matrix)"
   ]
  },
  {
   "cell_type": "code",
   "execution_count": null,
   "metadata": {},
   "outputs": [],
   "source": [
    "loads_boostrap_30y = run_load_scenario(bootstrap_year)"
   ]
  },
  {
   "cell_type": "code",
   "execution_count": null,
   "metadata": {},
   "outputs": [],
   "source": [
    "loads_boostrap_30y.mean()"
   ]
  },
  {
   "cell_type": "code",
   "execution_count": null,
   "metadata": {},
   "outputs": [],
   "source": [
    "loads_boostrap_30y.mean() + [loads_boostrap_30y.std(),-loads_boostrap_30y.std()]"
   ]
  },
  {
   "cell_type": "markdown",
   "metadata": {},
   "source": [
    "## plot"
   ]
  },
  {
   "cell_type": "code",
   "execution_count": 28,
   "metadata": {},
   "outputs": [
    {
     "data": {
      "text/plain": [
       "13"
      ]
     },
     "execution_count": 28,
     "metadata": {},
     "output_type": "execute_result"
    }
   ],
   "source": [
    "np.where(marginal_revenue_gas.mean(axis=1)<winterization_gas/1000)[0][0]"
   ]
  },
  {
   "cell_type": "code",
   "execution_count": 29,
   "metadata": {},
   "outputs": [
    {
     "data": {
      "image/png": "[encoded data removed]",
      "text/plain": [
       "<Figure size 504x504 with 4 Axes>"
      ]
     },
     "metadata": {},
     "output_type": "display_data"
    }
   ],
   "source": [
    "(fig,((ax1,ax2),(ax3,ax4))) = plt.subplots(2,2,figsize=(7,7))\n",
    "\n",
    "# WIND NORTH\n",
    "m = marginal_revenue_windN_long.groupby('variable').mean().value\n",
    "q95l = marginal_revenue_windN_long.groupby('variable').quantile(q=0.025).value\n",
    "q95u = marginal_revenue_windN_long.groupby('variable').quantile(q=0.975).value\n",
    "q68l = marginal_revenue_windN_long.groupby('variable').quantile(q=0.16).value\n",
    "q68u = marginal_revenue_windN_long.groupby('variable').quantile(q=0.84).value\n",
    "\n",
    "ax1.plot(m,color=COLORS[4],label='mean')\n",
    "ax1.fill_between(x = range(1,len(m)+1),y1=q68l.values,y2=q68u.values,color=COLORS[0],alpha=0.3,label='CI=68%')\n",
    "ax1.fill_between(x = range(1,len(m)+1),y1=q95l.values,y2=q95u.values,color=COLORS[0],alpha=0.15,label='CI=95%')\n",
    "ax1.hlines(winterization_wind/1000, 1, len(m),color=COLORS[5], label='Winterization cost')\n",
    "ax1.set_xlabel('Winterized capacity')\n",
    "ax1.set_ylabel('bn$/GW')\n",
    "ax1.set_title('Wind North')\n",
    "ax1.set_xlim((1,len(m)))\n",
    "ax1.set_ylim((0,0.7))\n",
    "ax1.set_xticks(np.arange(2,len(m),2))\n",
    "\n",
    "# WIND SOUTH\n",
    "m = marginal_revenue_windS_long.groupby('variable').mean().value\n",
    "q95l = marginal_revenue_windS_long.groupby('variable').quantile(q=0.025).value\n",
    "q95u = marginal_revenue_windS_long.groupby('variable').quantile(q=0.975).value\n",
    "q68l = marginal_revenue_windS_long.groupby('variable').quantile(q=0.16).value\n",
    "q68u = marginal_revenue_windS_long.groupby('variable').quantile(q=0.84).value\n",
    "\n",
    "ax2.plot(m,color=COLORS[4],label='mean')\n",
    "ax2.fill_between(x = range(1,len(m)+1),y1=q68l.values,y2=q68u.values,color=COLORS[0],alpha=0.3,label='CI=68%')\n",
    "ax2.fill_between(x = range(1,len(m)+1),y1=q95l.values,y2=q95u.values,color=COLORS[0],alpha=0.15,label='CI=95%')\n",
    "ax2.hlines(winterization_wind/1000, 1, len(m),color=COLORS[5], label='Winterization cost')\n",
    "ax2.set_xlabel('Winterized capacity GW')\n",
    "ax2.set_title('Wind South')\n",
    "ax2.set_xlim((1,len(m)))\n",
    "ax2.set_ylim((0,0.7))\n",
    "ax2.set_xticks(np.arange(2,len(m),2))\n",
    "\n",
    "# GAS\n",
    "m = marginal_revenue_gas_long.groupby('variable').mean().value\n",
    "q95l = marginal_revenue_gas_long.groupby('variable').quantile(q=0.025).value\n",
    "q95u = marginal_revenue_gas_long.groupby('variable').quantile(q=0.975).value\n",
    "q68l = marginal_revenue_gas_long.groupby('variable').quantile(q=0.16).value\n",
    "q68u = marginal_revenue_gas_long.groupby('variable').quantile(q=0.84).value\n",
    "\n",
    "ax3.plot(m,color=COLORS[4],label='Expected avoided loss over a 30 year period')\n",
    "ax3.fill_between(x = range(1,len(m)+1),y1=q68l.values,y2=q68u.values,color=COLORS[0],alpha=0.3,label='CI=68%')\n",
    "ax3.fill_between(x = range(1,len(m)+1),y1=q95l.values,y2=q95u.values,color=COLORS[0],alpha=0.15,label='CI=95%')\n",
    "ax3.hlines(winterization_gas/1000, 1, len(m),color=COLORS[5], label='Winterization cost')\n",
    "ax3.set_xlabel('Winterized capacity GW')\n",
    "ax3.set_ylabel('bn$/GW')\n",
    "ax3.set_title('Gas')\n",
    "ax3.set_xlim((1,len(m)))\n",
    "ax3.set_ylim((0,2))\n",
    "\n",
    "# COAL\n",
    "m = marginal_revenue_coal_long.groupby('variable').mean().value\n",
    "q95l = marginal_revenue_coal_long.groupby('variable').quantile(q=0.025).value\n",
    "q95u = marginal_revenue_coal_long.groupby('variable').quantile(q=0.975).value\n",
    "q68l = marginal_revenue_coal_long.groupby('variable').quantile(q=0.16).value\n",
    "q68u = marginal_revenue_coal_long.groupby('variable').quantile(q=0.84).value\n",
    "\n",
    "ax4.plot(m,color=COLORS[4],label='mean')\n",
    "ax4.fill_between(x = range(1,len(m)+1),y1=q68l.values,y2=q68u.values,color=COLORS[0],alpha=0.3,label='CI=68%')\n",
    "ax4.fill_between(x = range(1,len(m)+1),y1=q95l.values,y2=q95u.values,color=COLORS[0],alpha=0.15,label='CI=95%')\n",
    "ax4.hlines(winterization_coal/1000, 1, len(m),color=COLORS[5], label='Winterization \\ncost')\n",
    "ax4.set_xlabel('Winterized capacity GW')\n",
    "ax4.set_title('Coal')\n",
    "#lgd = ax4.legend(bbox_to_anchor=(1.05,1),loc='upper left')\n",
    "ax4.set_xlim((1,len(m)))\n",
    "ax4.set_ylim((0,1.8))\n",
    "\n",
    "lgd = ax3.legend(loc='upper center', bbox_to_anchor=(1.1, -0.2),\n",
    "          fancybox=False, shadow=False, ncol=1)\n",
    "\n",
    "fig.subplots_adjust(hspace=0.4)\n",
    "\n",
    "plt.savefig(fig_path + 'marginal_revenue_winterize2020_LR24temptrend_Hook-8.pdf',dpi=300,\n",
    "           bbox_extra_artists=(lgd,), bbox_inches='tight')"
   ]
  }
 ],
 "metadata": {
  "kernelspec": {
   "display_name": "Python [conda env:.conda-py39]",
   "language": "python",
   "name": "conda-env-.conda-py39-py"
  },
  "language_info": {
   "codemirror_mode": {
    "name": "ipython",
    "version": 3
   },
   "file_extension": ".py",
   "mimetype": "text/x-python",
   "name": "python",
   "nbconvert_exporter": "python",
   "pygments_lexer": "ipython3",
   "version": "3.9.6"
  }
 },
 "nbformat": 4,
 "nbformat_minor": 4
}
